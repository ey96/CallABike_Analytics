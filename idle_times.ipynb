{
 "cells": [
  {
   "cell_type": "code",
   "execution_count": 19,
   "metadata": {},
   "outputs": [],
   "source": [
    "import pandas as pd\n",
    "df = pd.read_csv(\"/Users/samf/Desktop/bonn_trips.csv\")"
   ]
  },
  {
   "cell_type": "code",
   "execution_count": 47,
   "metadata": {},
   "outputs": [
    {
     "data": {
      "text/plain": [
       "array([6, 0, 1, 2, 3, 4, 5])"
      ]
     },
     "execution_count": 47,
     "metadata": {},
     "output_type": "execute_result"
    }
   ],
   "source": [
    "df['weekday'].unique()\n"
   ]
  },
  {
   "cell_type": "code",
   "execution_count": 21,
   "metadata": {},
   "outputs": [
    {
     "data": {
      "text/html": [
       "<div>\n",
       "<style scoped>\n",
       "    .dataframe tbody tr th:only-of-type {\n",
       "        vertical-align: middle;\n",
       "    }\n",
       "\n",
       "    .dataframe tbody tr th {\n",
       "        vertical-align: top;\n",
       "    }\n",
       "\n",
       "    .dataframe thead th {\n",
       "        text-align: right;\n",
       "    }\n",
       "</style>\n",
       "<table border=\"1\" class=\"dataframe\">\n",
       "  <thead>\n",
       "    <tr style=\"text-align: right;\">\n",
       "      <th></th>\n",
       "      <th>Unnamed: 0</th>\n",
       "      <th>index_start</th>\n",
       "      <th>p_place_type_start</th>\n",
       "      <th>datetime_start</th>\n",
       "      <th>b_number_start</th>\n",
       "      <th>trip_start</th>\n",
       "      <th>p_uid_start</th>\n",
       "      <th>p_bikes_x</th>\n",
       "      <th>latitude_start</th>\n",
       "      <th>longitude_start</th>\n",
       "      <th>...</th>\n",
       "      <th>month</th>\n",
       "      <th>hour</th>\n",
       "      <th>minute</th>\n",
       "      <th>temperature ¬∞C</th>\n",
       "      <th>relative_humidity</th>\n",
       "      <th>precipitaion_level (mm)</th>\n",
       "      <th>precipitation y/n</th>\n",
       "      <th>average_wind_speed (m/s)</th>\n",
       "      <th>geometry</th>\n",
       "      <th>h3_hex_id</th>\n",
       "    </tr>\n",
       "  </thead>\n",
       "  <tbody>\n",
       "  </tbody>\n",
       "</table>\n",
       "<p>0 rows × 42 columns</p>\n",
       "</div>"
      ],
      "text/plain": [
       "Empty DataFrame\n",
       "Columns: [Unnamed: 0, index_start, p_place_type_start, datetime_start, b_number_start, trip_start, p_uid_start, p_bikes_x, latitude_start, longitude_start, p_name_start, p_number_start, p_bike_start, p_spot_start, index_end, p_place_type_end, datetime_end, b_number_end, trip_end, p_uid_end, p_bikes_y, latitude_end, longitude_end, p_name_end, p_number_end, p_bike_end, p_spot_end, trip_duration, weekday, distance, weekend, day, month, hour, minute, temperature ¬∞C, relative_humidity, precipitaion_level (mm), precipitation y/n, average_wind_speed (m/s), geometry, h3_hex_id]\n",
       "Index: []\n",
       "\n",
       "[0 rows x 42 columns]"
      ]
     },
     "execution_count": 21,
     "metadata": {},
     "output_type": "execute_result"
    }
   ],
   "source": [
    "#find rows where 'b_number_start' and b_number_end dont match.\n",
    "\n",
    "diff_bikes = df.loc[df['b_number_start'] != df['b_number_end']]\n",
    "diff_bikes.head()"
   ]
  },
  {
   "cell_type": "code",
   "execution_count": 51,
   "metadata": {},
   "outputs": [
    {
     "data": {
      "text/html": [
       "<div>\n",
       "<style scoped>\n",
       "    .dataframe tbody tr th:only-of-type {\n",
       "        vertical-align: middle;\n",
       "    }\n",
       "\n",
       "    .dataframe tbody tr th {\n",
       "        vertical-align: top;\n",
       "    }\n",
       "\n",
       "    .dataframe thead th {\n",
       "        text-align: right;\n",
       "    }\n",
       "</style>\n",
       "<table border=\"1\" class=\"dataframe\">\n",
       "  <thead>\n",
       "    <tr style=\"text-align: right;\">\n",
       "      <th></th>\n",
       "      <th>Unnamed: 0</th>\n",
       "      <th>index_start</th>\n",
       "      <th>p_place_type_start</th>\n",
       "      <th>datetime_start</th>\n",
       "      <th>b_number_start</th>\n",
       "      <th>trip_start</th>\n",
       "      <th>p_uid_start</th>\n",
       "      <th>p_bikes_x</th>\n",
       "      <th>latitude_start</th>\n",
       "      <th>longitude_start</th>\n",
       "      <th>...</th>\n",
       "      <th>month</th>\n",
       "      <th>hour</th>\n",
       "      <th>minute</th>\n",
       "      <th>temperature ¬∞C</th>\n",
       "      <th>relative_humidity</th>\n",
       "      <th>precipitaion_level (mm)</th>\n",
       "      <th>precipitation y/n</th>\n",
       "      <th>average_wind_speed (m/s)</th>\n",
       "      <th>geometry</th>\n",
       "      <th>h3_hex_id</th>\n",
       "    </tr>\n",
       "  </thead>\n",
       "  <tbody>\n",
       "    <tr>\n",
       "      <th>0</th>\n",
       "      <td>0</td>\n",
       "      <td>3</td>\n",
       "      <td>12</td>\n",
       "      <td>2019-01-20 03:20:00</td>\n",
       "      <td>44952</td>\n",
       "      <td>start</td>\n",
       "      <td>12040694</td>\n",
       "      <td>1</td>\n",
       "      <td>50.703284</td>\n",
       "      <td>7.154586</td>\n",
       "      <td>...</td>\n",
       "      <td>1</td>\n",
       "      <td>3</td>\n",
       "      <td>20</td>\n",
       "      <td>-5.6</td>\n",
       "      <td>86</td>\n",
       "      <td>0.0</td>\n",
       "      <td>0</td>\n",
       "      <td>2.4</td>\n",
       "      <td>POINT (7.154585907874099 50.703284257875)</td>\n",
       "      <td>891fa11ad13ffff</td>\n",
       "    </tr>\n",
       "    <tr>\n",
       "      <th>1</th>\n",
       "      <td>1</td>\n",
       "      <td>25</td>\n",
       "      <td>12</td>\n",
       "      <td>2019-01-20 03:08:00</td>\n",
       "      <td>44931</td>\n",
       "      <td>start</td>\n",
       "      <td>12093216</td>\n",
       "      <td>1</td>\n",
       "      <td>50.747953</td>\n",
       "      <td>7.119311</td>\n",
       "      <td>...</td>\n",
       "      <td>1</td>\n",
       "      <td>3</td>\n",
       "      <td>8</td>\n",
       "      <td>-5.6</td>\n",
       "      <td>86</td>\n",
       "      <td>0.0</td>\n",
       "      <td>0</td>\n",
       "      <td>2.4</td>\n",
       "      <td>POINT (7.1193110416667 50.74795333333299)</td>\n",
       "      <td>891fa111553ffff</td>\n",
       "    </tr>\n",
       "    <tr>\n",
       "      <th>2</th>\n",
       "      <td>2</td>\n",
       "      <td>75</td>\n",
       "      <td>0</td>\n",
       "      <td>2019-01-20 03:06:00</td>\n",
       "      <td>44594</td>\n",
       "      <td>start</td>\n",
       "      <td>10044445</td>\n",
       "      <td>2</td>\n",
       "      <td>50.736217</td>\n",
       "      <td>7.094604</td>\n",
       "      <td>...</td>\n",
       "      <td>1</td>\n",
       "      <td>3</td>\n",
       "      <td>6</td>\n",
       "      <td>-5.6</td>\n",
       "      <td>86</td>\n",
       "      <td>0.0</td>\n",
       "      <td>0</td>\n",
       "      <td>2.4</td>\n",
       "      <td>POINT (7.0946037769318 50.736217480959)</td>\n",
       "      <td>891fa1116b7ffff</td>\n",
       "    </tr>\n",
       "    <tr>\n",
       "      <th>3</th>\n",
       "      <td>3</td>\n",
       "      <td>177</td>\n",
       "      <td>12</td>\n",
       "      <td>2019-01-20 03:52:00</td>\n",
       "      <td>44966</td>\n",
       "      <td>start</td>\n",
       "      <td>12069877</td>\n",
       "      <td>1</td>\n",
       "      <td>50.708533</td>\n",
       "      <td>7.105807</td>\n",
       "      <td>...</td>\n",
       "      <td>1</td>\n",
       "      <td>3</td>\n",
       "      <td>52</td>\n",
       "      <td>-5.6</td>\n",
       "      <td>86</td>\n",
       "      <td>0.0</td>\n",
       "      <td>0</td>\n",
       "      <td>2.4</td>\n",
       "      <td>POINT (7.1058066760932 50.70853309380499)</td>\n",
       "      <td>891fa11120fffff</td>\n",
       "    </tr>\n",
       "    <tr>\n",
       "      <th>4</th>\n",
       "      <td>4</td>\n",
       "      <td>409</td>\n",
       "      <td>12</td>\n",
       "      <td>2019-01-20 03:30:00</td>\n",
       "      <td>44637</td>\n",
       "      <td>start</td>\n",
       "      <td>12098186</td>\n",
       "      <td>1</td>\n",
       "      <td>50.732503</td>\n",
       "      <td>7.097200</td>\n",
       "      <td>...</td>\n",
       "      <td>1</td>\n",
       "      <td>3</td>\n",
       "      <td>30</td>\n",
       "      <td>-5.6</td>\n",
       "      <td>86</td>\n",
       "      <td>0.0</td>\n",
       "      <td>0</td>\n",
       "      <td>2.4</td>\n",
       "      <td>POINT (7.097199722222201 50.732503333333)</td>\n",
       "      <td>891fa1116afffff</td>\n",
       "    </tr>\n",
       "  </tbody>\n",
       "</table>\n",
       "<p>5 rows × 42 columns</p>\n",
       "</div>"
      ],
      "text/plain": [
       "   Unnamed: 0  index_start  p_place_type_start      datetime_start  \\\n",
       "0           0            3                  12 2019-01-20 03:20:00   \n",
       "1           1           25                  12 2019-01-20 03:08:00   \n",
       "2           2           75                   0 2019-01-20 03:06:00   \n",
       "3           3          177                  12 2019-01-20 03:52:00   \n",
       "4           4          409                  12 2019-01-20 03:30:00   \n",
       "\n",
       "   b_number_start trip_start  p_uid_start  p_bikes_x  latitude_start  \\\n",
       "0           44952      start     12040694          1       50.703284   \n",
       "1           44931      start     12093216          1       50.747953   \n",
       "2           44594      start     10044445          2       50.736217   \n",
       "3           44966      start     12069877          1       50.708533   \n",
       "4           44637      start     12098186          1       50.732503   \n",
       "\n",
       "   longitude_start  ... month  hour  minute  temperature ¬∞C  \\\n",
       "0         7.154586  ...     1     3      20             -5.6   \n",
       "1         7.119311  ...     1     3       8             -5.6   \n",
       "2         7.094604  ...     1     3       6             -5.6   \n",
       "3         7.105807  ...     1     3      52             -5.6   \n",
       "4         7.097200  ...     1     3      30             -5.6   \n",
       "\n",
       "   relative_humidity  precipitaion_level (mm) precipitation y/n  \\\n",
       "0                 86                      0.0                 0   \n",
       "1                 86                      0.0                 0   \n",
       "2                 86                      0.0                 0   \n",
       "3                 86                      0.0                 0   \n",
       "4                 86                      0.0                 0   \n",
       "\n",
       "   average_wind_speed (m/s)                                   geometry  \\\n",
       "0                       2.4  POINT (7.154585907874099 50.703284257875)   \n",
       "1                       2.4  POINT (7.1193110416667 50.74795333333299)   \n",
       "2                       2.4    POINT (7.0946037769318 50.736217480959)   \n",
       "3                       2.4  POINT (7.1058066760932 50.70853309380499)   \n",
       "4                       2.4  POINT (7.097199722222201 50.732503333333)   \n",
       "\n",
       "         h3_hex_id  \n",
       "0  891fa11ad13ffff  \n",
       "1  891fa111553ffff  \n",
       "2  891fa1116b7ffff  \n",
       "3  891fa11120fffff  \n",
       "4  891fa1116afffff  \n",
       "\n",
       "[5 rows x 42 columns]"
      ]
     },
     "execution_count": 51,
     "metadata": {},
     "output_type": "execute_result"
    }
   ],
   "source": [
    "df.head()"
   ]
  },
  {
   "cell_type": "markdown",
   "metadata": {},
   "source": [
    "There are no such rows."
   ]
  },
  {
   "cell_type": "code",
   "execution_count": 22,
   "metadata": {},
   "outputs": [
    {
     "name": "stdout",
     "output_type": "stream",
     "text": [
      "996\n"
     ]
    }
   ],
   "source": [
    "#identify unique value bike values\n",
    "bikes = df['b_number_start'].unique()\n",
    "print(len(bikes))\n",
    "#print(bikes)"
   ]
  },
  {
   "cell_type": "code",
   "execution_count": 23,
   "metadata": {},
   "outputs": [],
   "source": [
    "#convert date times to datetime format\n",
    "df[\"datetime_start\"] = pd.to_datetime(df[\"datetime_start\"])\n",
    "df[\"datetime_end\"] = pd.to_datetime(df[\"datetime_end\"])\n",
    "#by_bike = by_bike.sort('datetime_start')"
   ]
  },
  {
   "cell_type": "code",
   "execution_count": 24,
   "metadata": {},
   "outputs": [],
   "source": []
  },
  {
   "cell_type": "code",
   "execution_count": 25,
   "metadata": {},
   "outputs": [],
   "source": [
    "\n",
    "def average_idle(df):\n",
    "    #'''calculates the average idle time for a set of trips'''\n",
    "    \n",
    "    #convert date times to datetime format\n",
    "    #df[\"datetime_start\"] = pd.to_datetime(df['datetime_start'])\n",
    "    #df[\"datetime_end\"] = pd.to_datetime(df['datetime_end'])\n",
    "    \n",
    "    import statistics\n",
    "    \n",
    "    #groupby bike\n",
    "    by_bike = df.groupby('b_number_start')\n",
    "    #by_bike = by_bike.sort('datetime_start')\n",
    "\n",
    "    all_idle_times = []\n",
    "    #split by groups   \n",
    "    for bike in by_bike.groups:\n",
    "        this_bike = by_bike.get_group(bike)\n",
    "        this_bike = this_bike.reset_index()\n",
    "\n",
    "        #loop through each row(trip) and calculate idle time between consecutive trips\n",
    "        for i in range(len(this_bike.index) - 1): \n",
    "            #select end time\n",
    "            end_time = this_bike.at[i, \"datetime_end\"]\n",
    "            #select start time\n",
    "            start_time = this_bike.at[i + 1, \"datetime_start\"]\n",
    "            #calculate idle time\n",
    "            idle_time = start_time - end_time\n",
    "            idle_time = idle_time.total_seconds()\n",
    "            all_idle_times.append(idle_time)\n",
    "\n",
    "    average = statistics.mean(all_idle_times)\n",
    "    return average\n"
   ]
  },
  {
   "cell_type": "code",
   "execution_count": 26,
   "metadata": {},
   "outputs": [
    {
     "name": "stdout",
     "output_type": "stream",
     "text": [
      "22221.386912108777\n"
     ]
    }
   ],
   "source": [
    "print(average_idle(df))"
   ]
  },
  {
   "cell_type": "code",
   "execution_count": 27,
   "metadata": {},
   "outputs": [],
   "source": [
    "import matplotlib.pyplot as plt\n",
    "import numpy as np"
   ]
  },
  {
   "cell_type": "code",
   "execution_count": 28,
   "metadata": {},
   "outputs": [
    {
     "name": "stdout",
     "output_type": "stream",
     "text": [
      "[ 1  2  3  4  5  6  7  8  9 10 11 12]\n"
     ]
    }
   ],
   "source": [
    "months = df['month'].unique()\n",
    "months = np.sort(months)\n",
    "print(months)"
   ]
  },
  {
   "cell_type": "code",
   "execution_count": 29,
   "metadata": {},
   "outputs": [
    {
     "name": "stdout",
     "output_type": "stream",
     "text": [
      "[31427.167138810197, 19097.718214389464, 29400.78703629645, 19656.49041004643, 19638.623764583488, 13787.094533162373, 13829.767715833612, 16705.289703647417, 15479.398837902265, 18487.34882617975, 22487.266973379785, 28531.45698033771]\n"
     ]
    }
   ],
   "source": [
    "by_month = df.groupby('month')\n",
    "    \n",
    "    #split by month\n",
    "allmonths_avg_idle = []\n",
    "for m in by_month.groups:\n",
    "    this_month = by_month.get_group(m)\n",
    "        \n",
    "    #calculate this month's average idle time\n",
    "    month_avg_idle = average_idle(this_month)\n",
    "    allmonths_avg_idle.append(month_avg_idle)\n",
    "\n",
    "print(allmonths_avg_idle)\n",
    "       \n",
    "   \n",
    "    "
   ]
  },
  {
   "cell_type": "code",
   "execution_count": 30,
   "metadata": {},
   "outputs": [
    {
     "data": {
      "image/png": "[encoded data removed]",
      "text/plain": [
       "<Figure size 432x288 with 1 Axes>"
      ]
     },
     "metadata": {
      "needs_background": "light"
     },
     "output_type": "display_data"
    }
   ],
   "source": [
    "fig = plt.figure()\n",
    "ax = fig.add_axes([0,0,1,1])\n",
    "month_names = ['Jan', 'Feb', 'Mar', 'Apr', 'May', 'Jun', 'Jul', 'Aug', 'Sep', 'Oct', 'Nov', 'Dec']\n",
    "ax.bar(month_names,allmonths_avg_idle)\n",
    "plt.show()"
   ]
  },
  {
   "cell_type": "code",
   "execution_count": 31,
   "metadata": {},
   "outputs": [
    {
     "name": "stdout",
     "output_type": "stream",
     "text": [
      "[148346.0302035793, 141281.05715709127, 145715.07404192304, 136413.44539496134, 138212.64993230635, 181574.52333463126, 216602.3543741626]\n"
     ]
    }
   ],
   "source": [
    "by_weekday = df.groupby('weekday')\n",
    "    \n",
    "    #split by month\n",
    "allweekday_avg_idle = []\n",
    "for d in by_weekday.groups:\n",
    "    this_day = by_weekday.get_group(d)\n",
    "        \n",
    "    #calculate this month's average idle time\n",
    "    day_avg_idle = average_idle(this_day)\n",
    "    allweekday_avg_idle.append(day_avg_idle)\n",
    "\n",
    "print(allweekday_avg_idle)"
   ]
  },
  {
   "cell_type": "code",
   "execution_count": 39,
   "metadata": {},
   "outputs": [
    {
     "name": "stdout",
     "output_type": "stream",
     "text": [
      "['Weekday', 'Weekend']\n",
      "[28737.606113119273, 99682.92196030574]\n"
     ]
    }
   ],
   "source": [
    "by_weekend = df.groupby('weekend')\n",
    "    \n",
    "    #split by month\n",
    "allweekend_avg_idle = []\n",
    "name = []\n",
    "for d in by_weekend.groups:\n",
    "    if d == False:\n",
    "        name.append('Weekday')\n",
    "    elif d == True:\n",
    "        name.append('Weekend')\n",
    "    this_weekend = by_weekend.get_group(d)\n",
    "        \n",
    "    #calculate this month's average idle time\n",
    "    weekend_avg_idle = average_idle(this_weekend)\n",
    "    allweekend_avg_idle.append(weekend_avg_idle)\n",
    "print(name)\n",
    "print(allweekend_avg_idle)"
   ]
  },
  {
   "cell_type": "code",
   "execution_count": 40,
   "metadata": {},
   "outputs": [
    {
     "data": {
      "image/png": "[encoded data removed]",
      "text/plain": [
       "<Figure size 432x288 with 1 Axes>"
      ]
     },
     "metadata": {
      "needs_background": "light"
     },
     "output_type": "display_data"
    }
   ],
   "source": [
    "fig = plt.figure()\n",
    "ax = fig.add_axes([0,0,1,1])\n",
    "ax.bar(name,allweekend_avg_idle)\n",
    "plt.show()"
   ]
  },
  {
   "cell_type": "code",
   "execution_count": 50,
   "metadata": {},
   "outputs": [
    {
     "data": {
      "image/png": "[encoded data removed]",
      "text/plain": [
       "<Figure size 432x288 with 1 Axes>"
      ]
     },
     "metadata": {
      "needs_background": "light"
     },
     "output_type": "display_data"
    }
   ],
   "source": [
    "fig = plt.figure()\n",
    "ax = fig.add_axes([0,0,1,1])\n",
    "day_names = ['Mon', 'Tue', 'Wed', 'Thu', 'Fri', 'Sat', 'Sun']\n",
    "ax.bar(day_names,allweekday_avg_idle)\n",
    "plt.show()"
   ]
  },
  {
   "cell_type": "code",
   "execution_count": null,
   "metadata": {},
   "outputs": [],
   "source": []
  }
 ],
 "metadata": {
  "kernelspec": {
   "display_name": "Python 3",
   "language": "python",
   "name": "python3"
  },
  "language_info": {
   "codemirror_mode": {
    "name": "ipython",
    "version": 3
   },
   "file_extension": ".py",
   "mimetype": "text/x-python",
   "name": "python",
   "nbconvert_exporter": "python",
   "pygments_lexer": "ipython3",
   "version": "3.7.3"
  }
 },
 "nbformat": 4,
 "nbformat_minor": 2
}
