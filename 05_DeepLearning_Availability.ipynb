{
 "cells": [
  {
   "cell_type": "markdown",
   "metadata": {},
   "source": [
    "# Deep Learning for Availability Prediction"
   ]
  },
  {
   "cell_type": "code",
   "execution_count": 2,
   "metadata": {},
   "outputs": [
    {
     "name": "stderr",
     "output_type": "stream",
     "text": [
      "Using TensorFlow backend.\n"
     ]
    }
   ],
   "source": [
    "import warnings\n",
    "warnings.filterwarnings(\"ignore\")\n",
    "import pandas as pd\n",
    "import numpy as np\n",
    "import seaborn as sns\n",
    "import matplotlib.pyplot as plt\n",
    "import category_encoders as ce\n",
    "from sklearn import preprocessing\n",
    "from sklearn.svm import SVR\n",
    "from sklearn.preprocessing import StandardScaler\n",
    "from sklearn.model_selection import train_test_split, GridSearchCV\n",
    "from sklearn.metrics import r2_score, mean_absolute_error, mean_squared_error\n",
    "import geopandas\n",
    "import json\n",
    "from shapely.geometry import shape\n",
    "from h3 import h3\n",
    "from vincenty import vincenty \n",
    "from scipy import stats\n",
    "from keras import models\n",
    "from keras import layers\n",
    "from keras.wrappers.scikit_learn import KerasClassifier"
   ]
  },
  {
   "cell_type": "markdown",
   "metadata": {},
   "source": [
    "### Starting with Hexagon size = 7 and the following time basket:"
   ]
  },
  {
   "cell_type": "markdown",
   "metadata": {},
   "source": [
    "**from 5.00 to 10.59 : Morning** <br>\n",
    "**from 11.00 to 12.59 : noon** <br>\n",
    "**from 13.00 to 17.59 : afternoon** <br>\n",
    "**from 18.00 to 22.59 : evening** <br>\n",
    "**from 23.00 to 4.59 : night** <br>"
   ]
  },
  {
   "cell_type": "code",
   "execution_count": 121,
   "metadata": {},
   "outputs": [],
   "source": [
    "df_availability = pd.read_csv('Data/availability_SVR.csv') "
   ]
  },
  {
   "cell_type": "code",
   "execution_count": 135,
   "metadata": {},
   "outputs": [
    {
     "data": {
      "text/html": [
       "<div>\n",
       "<style scoped>\n",
       "    .dataframe tbody tr th:only-of-type {\n",
       "        vertical-align: middle;\n",
       "    }\n",
       "\n",
       "    .dataframe tbody tr th {\n",
       "        vertical-align: top;\n",
       "    }\n",
       "\n",
       "    .dataframe thead th {\n",
       "        text-align: right;\n",
       "    }\n",
       "</style>\n",
       "<table border=\"1\" class=\"dataframe\">\n",
       "  <thead>\n",
       "    <tr style=\"text-align: right;\">\n",
       "      <th></th>\n",
       "      <th>Unnamed: 0</th>\n",
       "      <th>h3_hex_id</th>\n",
       "      <th>month</th>\n",
       "      <th>day</th>\n",
       "      <th>weekday</th>\n",
       "      <th>weekend</th>\n",
       "      <th>time_basket</th>\n",
       "      <th>available_bikes</th>\n",
       "      <th>center</th>\n",
       "      <th>center_x</th>\n",
       "      <th>...</th>\n",
       "      <th>urban_fabric</th>\n",
       "      <th>discontinuous_urban_fabric</th>\n",
       "      <th>continuous_urban_fabric</th>\n",
       "      <th>industry_commercial</th>\n",
       "      <th>green_urban_area</th>\n",
       "      <th>agricultural_area</th>\n",
       "      <th>forest</th>\n",
       "      <th>water_courses</th>\n",
       "      <th>distanceToCentralStation</th>\n",
       "      <th>distanceToUniversity</th>\n",
       "    </tr>\n",
       "  </thead>\n",
       "  <tbody>\n",
       "    <tr>\n",
       "      <th>0</th>\n",
       "      <td>0</td>\n",
       "      <td>871fa1032ffffff</td>\n",
       "      <td>3</td>\n",
       "      <td>3</td>\n",
       "      <td>6</td>\n",
       "      <td>1</td>\n",
       "      <td>2</td>\n",
       "      <td>0.000000</td>\n",
       "      <td>(50.65461869788869, 7.214118833734157)</td>\n",
       "      <td>50.654619</td>\n",
       "      <td>...</td>\n",
       "      <td>1</td>\n",
       "      <td>1</td>\n",
       "      <td>0</td>\n",
       "      <td>0</td>\n",
       "      <td>0</td>\n",
       "      <td>0</td>\n",
       "      <td>0</td>\n",
       "      <td>0</td>\n",
       "      <td>11.939101</td>\n",
       "      <td>11.955306</td>\n",
       "    </tr>\n",
       "    <tr>\n",
       "      <th>1</th>\n",
       "      <td>1</td>\n",
       "      <td>871fa1032ffffff</td>\n",
       "      <td>3</td>\n",
       "      <td>21</td>\n",
       "      <td>3</td>\n",
       "      <td>0</td>\n",
       "      <td>3</td>\n",
       "      <td>0.800000</td>\n",
       "      <td>(50.65461869788869, 7.214118833734157)</td>\n",
       "      <td>50.654619</td>\n",
       "      <td>...</td>\n",
       "      <td>1</td>\n",
       "      <td>0</td>\n",
       "      <td>1</td>\n",
       "      <td>0</td>\n",
       "      <td>0</td>\n",
       "      <td>0</td>\n",
       "      <td>0</td>\n",
       "      <td>0</td>\n",
       "      <td>11.939101</td>\n",
       "      <td>11.955306</td>\n",
       "    </tr>\n",
       "    <tr>\n",
       "      <th>2</th>\n",
       "      <td>2</td>\n",
       "      <td>871fa1032ffffff</td>\n",
       "      <td>3</td>\n",
       "      <td>21</td>\n",
       "      <td>3</td>\n",
       "      <td>0</td>\n",
       "      <td>4</td>\n",
       "      <td>0.166667</td>\n",
       "      <td>(50.65461869788869, 7.214118833734157)</td>\n",
       "      <td>50.654619</td>\n",
       "      <td>...</td>\n",
       "      <td>1</td>\n",
       "      <td>1</td>\n",
       "      <td>0</td>\n",
       "      <td>0</td>\n",
       "      <td>0</td>\n",
       "      <td>0</td>\n",
       "      <td>0</td>\n",
       "      <td>0</td>\n",
       "      <td>11.939101</td>\n",
       "      <td>11.955306</td>\n",
       "    </tr>\n",
       "    <tr>\n",
       "      <th>3</th>\n",
       "      <td>3</td>\n",
       "      <td>871fa1032ffffff</td>\n",
       "      <td>3</td>\n",
       "      <td>22</td>\n",
       "      <td>4</td>\n",
       "      <td>0</td>\n",
       "      <td>4</td>\n",
       "      <td>1.000000</td>\n",
       "      <td>(50.65461869788869, 7.214118833734157)</td>\n",
       "      <td>50.654619</td>\n",
       "      <td>...</td>\n",
       "      <td>1</td>\n",
       "      <td>1</td>\n",
       "      <td>1</td>\n",
       "      <td>0</td>\n",
       "      <td>0</td>\n",
       "      <td>0</td>\n",
       "      <td>0</td>\n",
       "      <td>0</td>\n",
       "      <td>11.939101</td>\n",
       "      <td>11.955306</td>\n",
       "    </tr>\n",
       "    <tr>\n",
       "      <th>4</th>\n",
       "      <td>4</td>\n",
       "      <td>871fa1032ffffff</td>\n",
       "      <td>3</td>\n",
       "      <td>23</td>\n",
       "      <td>5</td>\n",
       "      <td>1</td>\n",
       "      <td>2</td>\n",
       "      <td>1.800000</td>\n",
       "      <td>(50.65461869788869, 7.214118833734157)</td>\n",
       "      <td>50.654619</td>\n",
       "      <td>...</td>\n",
       "      <td>1</td>\n",
       "      <td>1</td>\n",
       "      <td>0</td>\n",
       "      <td>0</td>\n",
       "      <td>0</td>\n",
       "      <td>0</td>\n",
       "      <td>0</td>\n",
       "      <td>0</td>\n",
       "      <td>11.939101</td>\n",
       "      <td>11.955306</td>\n",
       "    </tr>\n",
       "  </tbody>\n",
       "</table>\n",
       "<p>5 rows × 25 columns</p>\n",
       "</div>"
      ],
      "text/plain": [
       "   Unnamed: 0        h3_hex_id  month  day  weekday  weekend  time_basket  \\\n",
       "0           0  871fa1032ffffff      3    3        6        1            2   \n",
       "1           1  871fa1032ffffff      3   21        3        0            3   \n",
       "2           2  871fa1032ffffff      3   21        3        0            4   \n",
       "3           3  871fa1032ffffff      3   22        4        0            4   \n",
       "4           4  871fa1032ffffff      3   23        5        1            2   \n",
       "\n",
       "   available_bikes                                  center   center_x  ...  \\\n",
       "0         0.000000  (50.65461869788869, 7.214118833734157)  50.654619  ...   \n",
       "1         0.800000  (50.65461869788869, 7.214118833734157)  50.654619  ...   \n",
       "2         0.166667  (50.65461869788869, 7.214118833734157)  50.654619  ...   \n",
       "3         1.000000  (50.65461869788869, 7.214118833734157)  50.654619  ...   \n",
       "4         1.800000  (50.65461869788869, 7.214118833734157)  50.654619  ...   \n",
       "\n",
       "   urban_fabric  discontinuous_urban_fabric  continuous_urban_fabric  \\\n",
       "0             1                           1                        0   \n",
       "1             1                           0                        1   \n",
       "2             1                           1                        0   \n",
       "3             1                           1                        1   \n",
       "4             1                           1                        0   \n",
       "\n",
       "   industry_commercial  green_urban_area  agricultural_area  forest  \\\n",
       "0                    0                 0                  0       0   \n",
       "1                    0                 0                  0       0   \n",
       "2                    0                 0                  0       0   \n",
       "3                    0                 0                  0       0   \n",
       "4                    0                 0                  0       0   \n",
       "\n",
       "   water_courses  distanceToCentralStation  distanceToUniversity  \n",
       "0              0                 11.939101             11.955306  \n",
       "1              0                 11.939101             11.955306  \n",
       "2              0                 11.939101             11.955306  \n",
       "3              0                 11.939101             11.955306  \n",
       "4              0                 11.939101             11.955306  \n",
       "\n",
       "[5 rows x 25 columns]"
      ]
     },
     "execution_count": 135,
     "metadata": {},
     "output_type": "execute_result"
    }
   ],
   "source": [
    "df_availability.head()"
   ]
  },
  {
   "cell_type": "markdown",
   "metadata": {},
   "source": [
    "We know from task 4 that these features lead to the best results:"
   ]
  },
  {
   "cell_type": "code",
   "execution_count": 123,
   "metadata": {},
   "outputs": [],
   "source": [
    "features = [\"time_basket\", \"month\", \"center_x\", \"center_y\", \"weekend\", \n",
    "            \"distance_next_station\", \"distanceToCentralStation\", \"distanceToUniversity\"]"
   ]
  },
  {
   "cell_type": "code",
   "execution_count": 124,
   "metadata": {},
   "outputs": [],
   "source": [
    "# feature selection \n",
    "X = df_availability[features]\n",
    "y = df_availability[[\"available_bikes\"]]\n",
    "X_train , X_test , y_train, y_test = train_test_split(X, y, test_size = 0.3,random_state=0)"
   ]
  },
  {
   "cell_type": "code",
   "execution_count": 125,
   "metadata": {},
   "outputs": [],
   "source": [
    "def build_model():\n",
    "    model = models.Sequential()\n",
    "    model.add(layers.Dense(64, activation='relu', input_shape=(X_train.shape[1],)))\n",
    "    model.add(layers.Dense(64, activation='relu'))\n",
    "    model.add(layers.Dense(32, activation='relu'))    \n",
    "    model.add(layers.Dense(16, activation='relu'))\n",
    "    model.add(layers.Dense(1))\n",
    "    model.compile(optimizer='rmsprop', loss='mse', metrics=['mae','mse'])\n",
    "    return model"
   ]
  },
  {
   "cell_type": "code",
   "execution_count": 126,
   "metadata": {},
   "outputs": [
    {
     "name": "stdout",
     "output_type": "stream",
     "text": [
      "Epoch 1/50\n",
      "32676/32676 [==============================] - 4s 131us/step - loss: 36382.4721 - mae: 87.6442 - mse: 36382.4688\n",
      "Epoch 2/50\n",
      "32676/32676 [==============================] - 2s 64us/step - loss: 17271.1984 - mae: 67.1608 - mse: 17271.1992\n",
      "Epoch 3/50\n",
      "32676/32676 [==============================] - 2s 65us/step - loss: 6526.7628 - mae: 50.9834 - mse: 6526.7637\n",
      "Epoch 4/50\n",
      "32676/32676 [==============================] - 2s 63us/step - loss: 3715.4780 - mae: 41.9554 - mse: 3715.4773\n",
      "Epoch 5/50\n",
      "32676/32676 [==============================] - 2s 66us/step - loss: 2817.6683 - mae: 37.7207 - mse: 2817.6685\n",
      "Epoch 6/50\n",
      "32676/32676 [==============================] - 2s 64us/step - loss: 2280.3504 - mae: 34.5882 - mse: 2280.3513\n",
      "Epoch 7/50\n",
      "32676/32676 [==============================] - 2s 65us/step - loss: 1917.5153 - mae: 31.9775 - mse: 1917.5153\n",
      "Epoch 8/50\n",
      "32676/32676 [==============================] - 2s 70us/step - loss: 1607.8900 - mae: 29.5104 - mse: 1607.8900\n",
      "Epoch 9/50\n",
      "32676/32676 [==============================] - 2s 65us/step - loss: 1359.9760 - mae: 27.3883 - mse: 1359.9761\n",
      "Epoch 10/50\n",
      "32676/32676 [==============================] - 2s 62us/step - loss: 1197.4480 - mae: 25.7095 - mse: 1197.4480\n",
      "Epoch 11/50\n",
      "32676/32676 [==============================] - 2s 69us/step - loss: 1068.3403 - mae: 24.4196 - mse: 1068.3405\n",
      "Epoch 12/50\n",
      "32676/32676 [==============================] - 2s 70us/step - loss: 989.6776 - mae: 23.4044 - mse: 989.6773\n",
      "Epoch 13/50\n",
      "32676/32676 [==============================] - 2s 72us/step - loss: 927.0097 - mae: 22.4990 - mse: 927.0098\n",
      "Epoch 14/50\n",
      "32676/32676 [==============================] - 2s 68us/step - loss: 873.3228 - mae: 21.6961 - mse: 873.3232\n",
      "Epoch 15/50\n",
      "32676/32676 [==============================] - 2s 67us/step - loss: 836.2409 - mae: 21.1082 - mse: 836.2412\n",
      "Epoch 16/50\n",
      "32676/32676 [==============================] - 2s 73us/step - loss: 791.2565 - mae: 20.3917 - mse: 791.2565\n",
      "Epoch 17/50\n",
      "32676/32676 [==============================] - 3s 81us/step - loss: 745.4701 - mae: 19.7022 - mse: 745.4705 0s - loss: 7\n",
      "Epoch 18/50\n",
      "32676/32676 [==============================] - 3s 81us/step - loss: 718.4226 - mae: 19.1929 - mse: 718.4228\n",
      "Epoch 19/50\n",
      "32676/32676 [==============================] - 2s 72us/step - loss: 681.0506 - mae: 18.5693 - mse: 681.0505\n",
      "Epoch 20/50\n",
      "32676/32676 [==============================] - 2s 71us/step - loss: 654.4628 - mae: 17.9979 - mse: 654.4630\n",
      "Epoch 21/50\n",
      "32676/32676 [==============================] - 3s 81us/step - loss: 624.1181 - mae: 17.4622 - mse: 624.1183\n",
      "Epoch 22/50\n",
      "32676/32676 [==============================] - 3s 78us/step - loss: 597.1736 - mae: 17.1296 - mse: 597.1738\n",
      "Epoch 23/50\n",
      "32676/32676 [==============================] - 2s 73us/step - loss: 581.0820 - mae: 16.6570 - mse: 581.0823\n",
      "Epoch 24/50\n",
      "32676/32676 [==============================] - 2s 69us/step - loss: 570.7805 - mae: 16.4615 - mse: 570.7804\n",
      "Epoch 25/50\n",
      "32676/32676 [==============================] - 2s 66us/step - loss: 545.1545 - mae: 15.9831 - mse: 545.1544\n",
      "Epoch 26/50\n",
      "32676/32676 [==============================] - 2s 65us/step - loss: 530.7916 - mae: 15.6848 - mse: 530.7916\n",
      "Epoch 27/50\n",
      "32676/32676 [==============================] - 2s 64us/step - loss: 520.7699 - mae: 15.4680 - mse: 520.7698\n",
      "Epoch 28/50\n",
      "32676/32676 [==============================] - 2s 63us/step - loss: 512.6303 - mae: 15.2431 - mse: 512.6305\n",
      "Epoch 29/50\n",
      "32676/32676 [==============================] - 2s 63us/step - loss: 497.9893 - mae: 15.0132 - mse: 497.9894\n",
      "Epoch 30/50\n",
      "32676/32676 [==============================] - 2s 63us/step - loss: 488.8704 - mae: 14.8348 - mse: 488.8705\n",
      "Epoch 31/50\n",
      "32676/32676 [==============================] - 2s 63us/step - loss: 481.1006 - mae: 14.7583 - mse: 481.1007\n",
      "Epoch 32/50\n",
      "32676/32676 [==============================] - 2s 66us/step - loss: 466.8410 - mae: 14.5238 - mse: 466.8409\n",
      "Epoch 33/50\n",
      "32676/32676 [==============================] - 2s 65us/step - loss: 467.5609 - mae: 14.4943 - mse: 467.5609\n",
      "Epoch 34/50\n",
      "32676/32676 [==============================] - 2s 65us/step - loss: 460.3249 - mae: 14.2025 - mse: 460.3250\n",
      "Epoch 35/50\n",
      "32676/32676 [==============================] - 2s 63us/step - loss: 454.6552 - mae: 14.1678 - mse: 454.6552\n",
      "Epoch 36/50\n",
      "32676/32676 [==============================] - 2s 64us/step - loss: 444.0845 - mae: 14.0166 - mse: 444.0846\n",
      "Epoch 37/50\n",
      "32676/32676 [==============================] - 2s 64us/step - loss: 446.1644 - mae: 13.8738 - mse: 446.1645\n",
      "Epoch 38/50\n",
      "32676/32676 [==============================] - 2s 68us/step - loss: 429.4040 - mae: 13.6412 - mse: 429.4040\n",
      "Epoch 39/50\n",
      "32676/32676 [==============================] - 3s 77us/step - loss: 428.5650 - mae: 13.5926 - mse: 428.5649\n",
      "Epoch 40/50\n",
      "32676/32676 [==============================] - 2s 71us/step - loss: 413.5668 - mae: 13.2928 - mse: 413.5667\n",
      "Epoch 41/50\n",
      "32676/32676 [==============================] - 2s 65us/step - loss: 414.3899 - mae: 13.3203 - mse: 414.3898\n",
      "Epoch 42/50\n",
      "32676/32676 [==============================] - 2s 66us/step - loss: 407.2861 - mae: 13.1366 - mse: 407.2862\n",
      "Epoch 43/50\n",
      "32676/32676 [==============================] - 2s 67us/step - loss: 409.3945 - mae: 13.0529 - mse: 409.3946\n",
      "Epoch 44/50\n",
      "32676/32676 [==============================] - 2s 68us/step - loss: 405.6733 - mae: 13.0298 - mse: 405.6733\n",
      "Epoch 45/50\n",
      "32676/32676 [==============================] - 2s 72us/step - loss: 397.7029 - mae: 12.9422 - mse: 397.7030\n",
      "Epoch 46/50\n",
      "32676/32676 [==============================] - 2s 69us/step - loss: 398.5965 - mae: 12.7912 - mse: 398.5966\n",
      "Epoch 47/50\n",
      "32676/32676 [==============================] - 2s 70us/step - loss: 390.2160 - mae: 12.6933 - mse: 390.2159\n",
      "Epoch 48/50\n",
      "32676/32676 [==============================] - 2s 71us/step - loss: 383.9139 - mae: 12.6225 - mse: 383.9140\n",
      "Epoch 49/50\n",
      "32676/32676 [==============================] - 2s 65us/step - loss: 382.5283 - mae: 12.5540 - mse: 382.5284\n",
      "Epoch 50/50\n",
      "32676/32676 [==============================] - 2s 70us/step - loss: 376.8379 - mae: 12.3879 - mse: 376.8379\n"
     ]
    }
   ],
   "source": [
    "model = build_model()\n",
    "scaler = StandardScaler()\n",
    "history = model.fit(scaler.fit_transform(X_train),y_train,epochs=50,batch_size=128,verbose=1)"
   ]
  },
  {
   "cell_type": "code",
   "execution_count": 127,
   "metadata": {},
   "outputs": [
    {
     "data": {
      "image/png": "[encoded data removed]",
      "text/plain": [
       "<Figure size 864x576 with 1 Axes>"
      ]
     },
     "metadata": {
      "needs_background": "light"
     },
     "output_type": "display_data"
    }
   ],
   "source": [
    "plt.figure(figsize=(12,8))\n",
    "mae = history.history['mae']\n",
    "mse = history.history[\"mse\"]\n",
    "epochs = range(1, len(mae) + 1)\n",
    "plt.plot(epochs, mae, 'b', label='MAE')\n",
    "plt.plot(epochs, np.sqrt(mse), 'r', label=\"RMSE\")\n",
    "plt.title('Progress of MAE over epochs')\n",
    "plt.xlabel('Epochs')\n",
    "plt.ylabel('Error')\n",
    "plt.legend()\n",
    "plt.show()"
   ]
  },
  {
   "cell_type": "code",
   "execution_count": 128,
   "metadata": {},
   "outputs": [
    {
     "name": "stdout",
     "output_type": "stream",
     "text": [
      "ON TRAINING DATA:\n",
      "MAE  14.546280225666996\n",
      "MSE  452.1664843806655\n",
      "RMSE  21.264206648277888\n",
      "R2  0.9895279427238477\n",
      "\n",
      "\n",
      "ON TEST DATA:\n",
      "MAE  14.643386766062767\n",
      "MSE  483.2919179690319\n",
      "RMSE  21.98390133641051\n",
      "R2  0.9889219591851153\n"
     ]
    }
   ],
   "source": [
    "pred = model.predict(scaler.fit_transform(X_train))\n",
    "print(\"ON TRAINING DATA:\")\n",
    "print(\"MAE \", mean_absolute_error(y_train,pred))\n",
    "print(\"MSE \", mean_squared_error(y_train,pred))\n",
    "print(\"RMSE \", np.sqrt(mean_squared_error(y_train,pred)))\n",
    "print(\"R2 \", r2_score(y_train,pred))\n",
    "print(\"\\n\")\n",
    "\n",
    "pred = model.predict(scaler.fit_transform(X_test))\n",
    "print(\"ON TEST DATA:\")\n",
    "print(\"MAE \",mean_absolute_error(y_test,pred))\n",
    "print(\"MSE \",mean_squared_error(y_test,pred))\n",
    "print(\"RMSE \", np.sqrt(mean_squared_error(y_test,pred)))\n",
    "print(\"R2 \",r2_score(y_test,pred))"
   ]
  },
  {
   "cell_type": "markdown",
   "metadata": {},
   "source": [
    "##### In comparison to the SVR this first NN returns much better results. Furthermore the NN isn't overfitted. "
   ]
  },
  {
   "cell_type": "code",
   "execution_count": 129,
   "metadata": {},
   "outputs": [
    {
     "name": "stdout",
     "output_type": "stream",
     "text": [
      "ON TRAINING DATA:\n",
      "MAE  9.237134537202122\n",
      "MSE  269.023540981134\n",
      "R2  0.9937694852955621\n",
      "\n",
      "\n",
      "ON TEST DATA:\n",
      "MAE  9.143337590130407\n",
      "MSE  261.7884566519518\n",
      "R2  0.993999272282799\n"
     ]
    }
   ],
   "source": [
    "# increase epochs \n",
    "model = build_model()\n",
    "history = model.fit(scaler.fit_transform(X_train),y_train,epochs=100,batch_size=128,verbose=0)\n",
    "pred = model.predict(scaler.fit_transform(X_train))\n",
    "print(\"ON TRAINING DATA:\")\n",
    "print(\"MAE \", mean_absolute_error(y_train,pred))\n",
    "print(\"MSE \", mean_squared_error(y_train,pred))\n",
    "print(\"R2 \", r2_score(y_train,pred))\n",
    "print(\"\\n\")\n",
    "\n",
    "pred = model.predict(scaler.fit_transform(X_test))\n",
    "print(\"ON TEST DATA:\")\n",
    "print(\"MAE \",mean_absolute_error(y_test,pred))\n",
    "print(\"MSE \",mean_squared_error(y_test,pred))\n",
    "print(\"R2 \",r2_score(y_test,pred))"
   ]
  },
  {
   "cell_type": "code",
   "execution_count": 130,
   "metadata": {},
   "outputs": [
    {
     "name": "stdout",
     "output_type": "stream",
     "text": [
      "ON TRAINING DATA:\n",
      "MAE  10.083741926292406\n",
      "MSE  265.6786394733399\n",
      "R2  0.9938469523378632\n",
      "\n",
      "\n",
      "ON TEST DATA:\n",
      "MAE  10.151160969844847\n",
      "MSE  265.23675847245283\n",
      "R2  0.9939202301410018\n"
     ]
    }
   ],
   "source": [
    "# use adam as optimizer\n",
    "def build_model():\n",
    "    model = models.Sequential()\n",
    "    model.add(layers.Dense(64, activation='relu', input_shape=(X_train.shape[1],)))\n",
    "    model.add(layers.Dense(64, activation='relu'))\n",
    "    model.add(layers.Dense(32, activation='relu'))\n",
    "    model.add(layers.Dense(16, activation='relu'))\n",
    "    model.add(layers.Dense(1))\n",
    "    model.compile(optimizer='adam', loss='mse', metrics=['mae','mse'])\n",
    "    return model\n",
    "\n",
    "model = build_model()\n",
    "\n",
    "history = model.fit(scaler.fit_transform(X_train),y_train,epochs=50,batch_size=128,verbose=0)\n",
    "\n",
    "pred = model.predict(scaler.fit_transform(X_train))\n",
    "print(\"ON TRAINING DATA:\")\n",
    "print(\"MAE \", mean_absolute_error(y_train,pred))\n",
    "print(\"MSE \", mean_squared_error(y_train,pred))\n",
    "print(\"R2 \", r2_score(y_train,pred))\n",
    "print(\"\\n\")\n",
    "\n",
    "pred = model.predict(scaler.fit_transform(X_test))\n",
    "print(\"ON TEST DATA:\")\n",
    "print(\"MAE \",mean_absolute_error(y_test,pred))\n",
    "print(\"MSE \",mean_squared_error(y_test,pred))\n",
    "print(\"R2 \",r2_score(y_test,pred))"
   ]
  },
  {
   "cell_type": "code",
   "execution_count": 132,
   "metadata": {},
   "outputs": [
    {
     "data": {
      "image/png": "[encoded data removed]",
      "text/plain": [
       "<Figure size 864x576 with 1 Axes>"
      ]
     },
     "metadata": {
      "needs_background": "light"
     },
     "output_type": "display_data"
    },
    {
     "name": "stdout",
     "output_type": "stream",
     "text": [
      "ON TRAINING DATA:\n",
      "MAE  10.072372604693806\n",
      "MSE  275.4019407149962\n",
      "R2  0.993621763229353\n",
      "\n",
      "\n",
      "ON TEST DATA:\n",
      "MAE  10.485889544479623\n",
      "MSE  294.13185547765994\n",
      "R2  0.9932578953241505\n"
     ]
    }
   ],
   "source": [
    "# drop one hidden layer and see what happens\n",
    "def build_model():\n",
    "    model = models.Sequential()\n",
    "    model.add(layers.Dense(64, activation='relu', input_shape=(X_train.shape[1],)))\n",
    "    model.add(layers.Dense(32, activation='relu'))    \n",
    "    model.add(layers.Dense(16, activation='relu'))\n",
    "    model.add(layers.Dense(1))\n",
    "    model.compile(optimizer='adam', loss='mse', metrics=['mae','mse'])\n",
    "    return model\n",
    "\n",
    "model = build_model()\n",
    "\n",
    "history = model.fit(scaler.fit_transform(X_train),y_train,epochs=200,batch_size=128,verbose=0)\n",
    "\n",
    "plt.figure(figsize=(12,8))\n",
    "mae = history.history['mae']\n",
    "mse = history.history[\"mse\"]\n",
    "epochs = range(1, len(mae) + 1)\n",
    "plt.plot(epochs, mae, 'b', label='MAE')\n",
    "plt.plot(epochs, np.sqrt(mse), 'r', label=\"RMSE\")\n",
    "plt.title('Progress of MAE / RMSE over epochs')\n",
    "plt.xlabel('Epochs')\n",
    "plt.ylabel('Error')\n",
    "plt.legend()\n",
    "plt.show()\n",
    "\n",
    "pred = model.predict(scaler.fit_transform(X_train))\n",
    "print(\"ON TRAINING DATA:\")\n",
    "print(\"MAE \", mean_absolute_error(y_train,pred))\n",
    "print(\"MSE \", mean_squared_error(y_train,pred))\n",
    "print(\"R2 \", r2_score(y_train,pred))\n",
    "print(\"\\n\")\n",
    "\n",
    "pred = model.predict(scaler.fit_transform(X_test))\n",
    "print(\"ON TEST DATA:\")\n",
    "print(\"MAE \",mean_absolute_error(y_test,pred))\n",
    "print(\"MSE \",mean_squared_error(y_test,pred))\n",
    "print(\"R2 \",r2_score(y_test,pred))"
   ]
  },
  {
   "cell_type": "code",
   "execution_count": 131,
   "metadata": {},
   "outputs": [
    {
     "data": {
      "image/png": "[encoded data removed]",
      "text/plain": [
       "<Figure size 864x576 with 1 Axes>"
      ]
     },
     "metadata": {
      "needs_background": "light"
     },
     "output_type": "display_data"
    },
    {
     "name": "stdout",
     "output_type": "stream",
     "text": [
      "ON TRAINING DATA:\n",
      "MAE  9.305175582440405\n",
      "MSE  246.3836554064091\n",
      "R2  0.994293819112096\n",
      "\n",
      "\n",
      "ON TEST DATA:\n",
      "MAE  9.92642969113538\n",
      "MSE  281.39116190674935\n",
      "R2  0.9935499381209381\n"
     ]
    }
   ],
   "source": [
    "# drop one hidden layer and see what happens\n",
    "def build_model():\n",
    "    model = models.Sequential()\n",
    "    model.add(layers.Dense(64, activation='relu', input_shape=(X_train.shape[1],)))\n",
    "    model.add(layers.Dense(32, activation='relu'))    \n",
    "    model.add(layers.Dense(16, activation='relu'))\n",
    "    model.add(layers.Dense(1))\n",
    "    model.compile(optimizer='adam', loss='mse', metrics=['mae','mse'])\n",
    "    return model\n",
    "\n",
    "model = build_model()\n",
    "\n",
    "# increase number of epochs \n",
    "# decrease batch_size\n",
    "history = model.fit(scaler.fit_transform(X_train),y_train,epochs=250,batch_size=64,verbose=0)\n",
    "\n",
    "plt.figure(figsize=(12,8))\n",
    "mae = history.history['mae']\n",
    "mse = history.history[\"mse\"]\n",
    "epochs = range(1, len(mae) + 1)\n",
    "plt.plot(epochs, mae, 'b', label='MAE')\n",
    "plt.plot(epochs, np.sqrt(mse), 'r', label=\"RMSE\")\n",
    "plt.title('Progress of MAE / RMSE over epochs')\n",
    "plt.xlabel('Epochs')\n",
    "plt.ylabel('Error')\n",
    "plt.legend()\n",
    "plt.show()\n",
    "\n",
    "pred = model.predict(scaler.fit_transform(X_train))\n",
    "print(\"ON TRAINING DATA:\")\n",
    "print(\"MAE \", mean_absolute_error(y_train,pred))\n",
    "print(\"MSE \", mean_squared_error(y_train,pred))\n",
    "print(\"R2 \", r2_score(y_train,pred))\n",
    "print(\"\\n\")\n",
    "\n",
    "pred = model.predict(scaler.fit_transform(X_test))\n",
    "print(\"ON TEST DATA:\")\n",
    "print(\"MAE \",mean_absolute_error(y_test,pred))\n",
    "print(\"MSE \",mean_squared_error(y_test,pred))\n",
    "print(\"R2 \",r2_score(y_test,pred))"
   ]
  },
  {
   "cell_type": "markdown",
   "metadata": {},
   "source": [
    "# Optimizing Hyperparameters with GridSearch\n",
    "\n",
    "#### Epochs, Batch Size and Optimizer"
   ]
  },
  {
   "cell_type": "markdown",
   "metadata": {},
   "source": [
    "###### previous results  with ... \n",
    "epochs: 50 <br>\n",
    "batch size: 128 <br>\n",
    "optimizer: Adam <br>\n",
    "\n",
    "ON TRAINING DATA: <br>\n",
    "MAE  10.083741926292406 <br>\n",
    "MSE  265.6786394733399 <br>\n",
    "R2  0.9938469523378632 <br>\n",
    "\n",
    "\n",
    "ON TEST DATA: <br>\n",
    "MAE  10.151160969844847 <br>\n",
    "MSE  265.23675847245283 <br>\n",
    "R2  0.9939202301410018 <br>"
   ]
  },
  {
   "cell_type": "markdown",
   "metadata": {},
   "source": [
    "Although the results are already very good, we will see if the hyper parameters can be optimized with GridSearch even more."
   ]
  },
  {
   "cell_type": "code",
   "execution_count": 139,
   "metadata": {},
   "outputs": [
    {
     "name": "stdout",
     "output_type": "stream",
     "text": [
      "Best: 0.001071 using {'batch_size': 32, 'epochs': 100}\n",
      "0.000664 (0.000316) with: {'batch_size': 32, 'epochs': 20}\n",
      "0.000621 (0.000109) with: {'batch_size': 32, 'epochs': 50}\n",
      "0.001071 (0.000561) with: {'batch_size': 32, 'epochs': 100}\n",
      "0.000471 (0.000030) with: {'batch_size': 32, 'epochs': 100}\n",
      "0.000343 (0.000218) with: {'batch_size': 64, 'epochs': 20}\n",
      "0.000771 (0.000157) with: {'batch_size': 64, 'epochs': 50}\n",
      "0.000514 (0.000091) with: {'batch_size': 64, 'epochs': 100}\n",
      "0.000407 (0.000212) with: {'batch_size': 64, 'epochs': 100}\n",
      "0.000750 (0.000212) with: {'batch_size': 128, 'epochs': 20}\n",
      "0.000600 (0.000121) with: {'batch_size': 128, 'epochs': 50}\n",
      "0.000514 (0.000052) with: {'batch_size': 128, 'epochs': 100}\n",
      "0.000728 (0.000237) with: {'batch_size': 128, 'epochs': 100}\n",
      "0.000728 (0.000160) with: {'batch_size': 256, 'epochs': 20}\n",
      "0.000536 (0.000289) with: {'batch_size': 256, 'epochs': 50}\n",
      "0.000343 (0.000357) with: {'batch_size': 256, 'epochs': 100}\n",
      "0.000578 (0.000344) with: {'batch_size': 256, 'epochs': 100}\n"
     ]
    }
   ],
   "source": [
    "# Function to build the model, required for KerasClassifier\n",
    "def build_model():\n",
    "    model = models.Sequential()\n",
    "    model.add(layers.Dense(64, activation='relu', input_shape=(X_train.shape[1],)))\n",
    "    model.add(layers.Dense(64, activation='relu'))\n",
    "    model.add(layers.Dense(32, activation='relu'))    \n",
    "    model.add(layers.Dense(16, activation='relu'))\n",
    "    model.add(layers.Dense(1))\n",
    "    model.compile(optimizer='adam', loss='mse', metrics=['mae', 'accuracy'])\n",
    "    return model\n",
    "\n",
    "# create model\n",
    "model = KerasClassifier(build_fn=build_model, verbose=0)\n",
    "\n",
    "# search for best batch size and number of epochs \n",
    "# define the grid search parameters\n",
    "batch_size = [32,64,128,256]\n",
    "epochs = [20,50,100,100]\n",
    "\n",
    "param_grid = dict(batch_size=batch_size, epochs=epochs)\n",
    "grid = GridSearchCV(estimator=model, param_grid=param_grid, n_jobs=1, cv=3)\n",
    "\n",
    "# run grid search \n",
    "grid_result = grid.fit(X, y)\n",
    "\n",
    "# summarize results\n",
    "print(\"Best: %f using %s\" % (grid_result.best_score_, grid_result.best_params_))\n",
    "\n",
    "means = grid_result.cv_results_['mean_test_score']\n",
    "stds = grid_result.cv_results_['std_test_score']\n",
    "params = grid_result.cv_results_['params']\n",
    "for mean, stdev, param in zip(means, stds, params):\n",
    "    print(\"%f (%f) with: %r\" % (mean, stdev, param))"
   ]
  },
  {
   "cell_type": "markdown",
   "metadata": {},
   "source": [
    "Gridsearch has found the optimal batch size = 32 and the optimal number of epochs = 100.\n",
    "On the basis of these two hyperparameters we are looking for the optimal optimizer using GridSearch."
   ]
  },
  {
   "cell_type": "code",
   "execution_count": 134,
   "metadata": {},
   "outputs": [
    {
     "name": "stdout",
     "output_type": "stream",
     "text": [
      "Best: 0.000835 using {'optimizer': 'Adamax'}\n",
      "0.000000 (0.000000) with: {'optimizer': 'SGD'}\n",
      "0.000771 (0.000240) with: {'optimizer': 'RMSprop'}\n",
      "0.000471 (0.000289) with: {'optimizer': 'Adagrad'}\n",
      "0.000728 (0.000184) with: {'optimizer': 'Adadelta'}\n",
      "0.000493 (0.000259) with: {'optimizer': 'Adam'}\n",
      "0.000835 (0.000091) with: {'optimizer': 'Adamax'}\n",
      "0.000686 (0.000316) with: {'optimizer': 'Nadam'}\n"
     ]
    }
   ],
   "source": [
    "# Function to create model, required for KerasClassifier\n",
    "def build_model(optimizer=\"adam\"):\n",
    "    model = models.Sequential()\n",
    "    model.add(layers.Dense(64, activation='relu', input_shape=(X_train.shape[1],)))\n",
    "    model.add(layers.Dense(64, activation='relu'))\n",
    "    model.add(layers.Dense(32, activation='relu'))    \n",
    "    model.add(layers.Dense(16, activation='relu'))\n",
    "    model.add(layers.Dense(1))\n",
    "    model.compile(optimizer=optimizer, loss='mse', metrics=['mae','accuracy'])\n",
    "    return model\n",
    "\n",
    "model = KerasClassifier(build_fn=build_model, epochs=100, batch_size=32, verbose=0)\n",
    "\n",
    "# define the grid search parameters for optimizer \n",
    "optimizer = ['SGD', 'RMSprop', 'Adagrad', 'Adadelta', 'Adam', 'Adamax', 'Nadam']\n",
    "param_grid = dict(optimizer=optimizer)\n",
    "grid = GridSearchCV(estimator=model, param_grid=param_grid, n_jobs=1, cv=3)\n",
    "grid_result = grid.fit(X, y)\n",
    "\n",
    "# summarize results\n",
    "print(\"Best: %f using %s\" % (grid_result.best_score_, grid_result.best_params_))\n",
    "means = grid_result.cv_results_['mean_test_score']\n",
    "stds = grid_result.cv_results_['std_test_score']\n",
    "params = grid_result.cv_results_['params']\n",
    "for mean, stdev, param in zip(means, stds, params):\n",
    "    print(\"%f (%f) with: %r\" % (mean, stdev, param))"
   ]
  },
  {
   "cell_type": "markdown",
   "metadata": {},
   "source": [
    "GridSearch has found the optimal optimizer = 'Adamax'. In the following model we use the found hyper parameters."
   ]
  },
  {
   "cell_type": "code",
   "execution_count": 138,
   "metadata": {},
   "outputs": [
    {
     "name": "stdout",
     "output_type": "stream",
     "text": [
      "ON TEST DATA:\n",
      "MAE  9.304667240804566\n",
      "MSE  253.8314977831905\n",
      "R2  0.9941816620804206\n"
     ]
    }
   ],
   "source": [
    "scaler = StandardScaler()\n",
    "\n",
    "def build_model():\n",
    "    model = models.Sequential()\n",
    "    model.add(layers.Dense(64, activation='relu', input_shape=(X_train.shape[1],)))\n",
    "    model.add(layers.Dense(64, activation='relu'))\n",
    "    model.add(layers.Dense(32, activation='relu'))\n",
    "    model.add(layers.Dense(16, activation='relu'))\n",
    "    model.add(layers.Dense(1))\n",
    "    model.compile(optimizer='Adamax', loss='mse', metrics=['mae','mse']) #set the new optimizer \n",
    "    return model\n",
    "\n",
    "model = build_model()\n",
    "\n",
    "# use results of grid search for epochs and batch size \n",
    "history = model.fit(scaler.fit_transform(X_train),y_train,epochs=100,batch_size=32,verbose=0)\n",
    "\n",
    "pred = model.predict(scaler.fit_transform(X_test))\n",
    "print(\"ON TEST DATA:\")\n",
    "print(\"MAE \",mean_absolute_error(y_test,pred))\n",
    "print(\"MSE \",mean_squared_error(y_test,pred))\n",
    "print(\"R2 \",r2_score(y_test,pred))"
   ]
  },
  {
   "cell_type": "markdown",
   "metadata": {},
   "source": [
    "**The resulting metrics are minimally improved due to the optimized hyper parameters. Since the performance of the NN model was already so good before, there was not much room for improvement.**"
   ]
  },
  {
   "cell_type": "markdown",
   "metadata": {},
   "source": [
    "# Varying Hexagon resolution and periods"
   ]
  },
  {
   "cell_type": "markdown",
   "metadata": {},
   "source": [
    "First of all, we create a function (prepareAvailabilityData) that does all the necessary steps for the preparation of the availability dataframe for different hexagon resolutions and time baskets. "
   ]
  },
  {
   "cell_type": "code",
   "execution_count": 140,
   "metadata": {},
   "outputs": [],
   "source": [
    "# read in transformed availability data\n",
    "availability_data = pd.read_csv(\"Data/bonn_availability.csv\", index_col=0)"
   ]
  },
  {
   "cell_type": "code",
   "execution_count": 141,
   "metadata": {},
   "outputs": [],
   "source": [
    "from h3 import h3 \n",
    "def createHexagons(df, resolution):    \n",
    "    df[\"h3_hex_id\"] = df.apply(lambda row: h3.geo_to_h3(row[\"p_lat\"], row[\"p_lng\"], resolution) if (row['p_lat'] and row['p_lng']) else 0, axis=1)\n",
    "    return df"
   ]
  },
  {
   "cell_type": "code",
   "execution_count": 142,
   "metadata": {},
   "outputs": [],
   "source": [
    "# function which returns True for saturday and sunday; otherwise it returns False\n",
    "def isWeekend(index_of_day): \n",
    "    if index_of_day > 4: \n",
    "        return 1 \n",
    "    else: \n",
    "        return 0"
   ]
  },
  {
   "cell_type": "code",
   "execution_count": 143,
   "metadata": {},
   "outputs": [],
   "source": [
    "def centroid(h3hexId):\n",
    "    vertexes = h3.h3_to_geo_boundary(h3hexId)\n",
    "    _x_list = [vertex [0] for vertex in vertexes]\n",
    "    _y_list = [vertex [1] for vertex in vertexes]\n",
    "    _len = len(vertexes)\n",
    "    _x = sum(_x_list) / _len\n",
    "    _y = sum(_y_list) / _len\n",
    "    return _x, _y"
   ]
  },
  {
   "cell_type": "code",
   "execution_count": 144,
   "metadata": {},
   "outputs": [],
   "source": [
    "def prepareAvailabilityData(hex_resolution, periodLength, df=availability_data): \n",
    "    \"\"\"\n",
    "    periodLength = 24h / 6h / 2h / 1h\n",
    "    hex_resolution = 5 / 6 / 7 / 8 / 9 \n",
    "    \"\"\"\n",
    "    #Creating hexagons      \n",
    "    availability_data = createHexagons(df, hex_resolution)\n",
    "    \n",
    "    trips = ['start', 'end']\n",
    "    availability_data_start_end = df[df.trip.isin(trips)]\n",
    "    \n",
    "    availability_data2=availability_data_start_end.sort_values(['b_number', 'datetime'])\n",
    "    \n",
    "    #After checking the amount of end and start trips, we see that there is no even amount of start and end trips \n",
    "    #so let's check sequences and eliminate those that do not form a pair\n",
    "    #it eliminates those where the b_number is the same and the trip type is the same of two following rows\n",
    "    #and those where the bike number is not the same but the trip type is the same \n",
    "    m1 = (availability_data2['b_number'] == availability_data2['b_number'].shift(-1))\n",
    "    m2 = (availability_data2['trip'] == availability_data2['trip'].shift(-1))\n",
    "    m3 = (availability_data2['b_number'] != availability_data2['b_number'].shift(-1))\n",
    "    m4 = (availability_data2['trip'] == availability_data2['trip'].shift(-1))\n",
    "    availability = availability_data2[~((m1&m2)|(m3&m4))]\n",
    "    \n",
    "    #sort dataframe so that we can locate the first occurrence of every bike\n",
    "    df_firstocc = df.sort_values(['month', 'day', 'hour'])\n",
    "    \n",
    "    #first occurence of every bike in 2019\n",
    "    first_occ_ofallbikes = df_firstocc.loc[df_firstocc.trip =='first'].groupby('b_number').head(1)\n",
    "    \n",
    "    frames = [availability, first_occ_ofallbikes]\n",
    "    \n",
    "    availability_data_start_end_firstocc= pd.concat(frames)\n",
    "    \n",
    "    availability_data_start_end_firstocc2 = availability_data_start_end_firstocc\n",
    "    \n",
    "    #Adding column available bikes\n",
    "    #For arriving trips (trip == 'end') and the first occurrence of every bike (trip == 'first') 1 is written into the new column, because one bike is added in each case. \n",
    "    #For starting trips (trip == 'start') 0 is written into the new column, because there is one bike leaving in each case.\n",
    "    availability_data_start_end_firstocc2['available_bikes']= availability_data_start_end_firstocc2.apply(lambda x: 1 if ((x.trip == 'end')|(x.trip == 'first')) else (-1), axis=1)\n",
    "    \n",
    "    #Summing up of the Available bike column with GroupBy to calculate the value of how many bikes come and go per hexagon, month, day and hour .\n",
    "    grouped_2 = availability_data_start_end_firstocc2[['h3_hex_id','month', 'day', 'hour', 'available_bikes']].groupby(['h3_hex_id','month', 'day', 'hour'], as_index = False).sum()\n",
    "    \n",
    "    grouped_2 = grouped_2.sort_values(['month', 'day', 'hour']).groupby('h3_hex_id')\n",
    "    \n",
    "    all_groups = []\n",
    "    for group in grouped_2.groups:\n",
    "    \n",
    "        group = grouped_2.get_group(group)\n",
    "        group = group.reset_index()\n",
    "        \n",
    "        # Cumulative summing of the available bikes column per hexagon to get the number of available bikes per hexagon\n",
    "        group['available_bikes']= np.cumsum(group['available_bikes'])  \n",
    "    \n",
    "        all_groups.append(group)\n",
    "\n",
    "    cumulativesum_df = pd.concat(all_groups)\n",
    "    \n",
    "    #saving the unique h3_hex_ids\n",
    "    h3_hex_ids = cumulativesum_df['h3_hex_id'].unique()\n",
    "    \n",
    "    #create new dataframe with the same columns\n",
    "    all_availability = pd.DataFrame(columns=[\"h3_hex_id\", \"datetime\", \"month\",\"day\",\"hour\", \"available_bikes\"])\n",
    "    \n",
    "    #add the unique h3_hex_ids\n",
    "    all_availability['h3_hex_id'] = h3_hex_ids\n",
    "    \n",
    "    #create a time range for the new dataframe starting from the 20/01/2019 as our provided data starts at that time\n",
    "    datelist = pd.date_range('2019-01-20 00:00:00', '2019-12-31 23:59:00', freq='H').tolist()\n",
    "\n",
    "    for i in range(0, len(h3_hex_ids)):\n",
    "        all_availability['datetime'][i] = datelist\n",
    "    \n",
    "    s = all_availability.apply(lambda x: pd.Series(x['datetime']),axis=1).stack().reset_index(level=1, drop=True)\n",
    "    s.name = 'datetime'\n",
    "\n",
    "    all_availability = all_availability.drop('datetime', axis=1).join(s)\n",
    "    \n",
    "    all_availability[\"datetime\"] = pd.to_datetime(all_availability[\"datetime\"])\n",
    "    all_availability[\"day\"] = all_availability[\"datetime\"].apply(lambda x: x.day)\n",
    "    all_availability[\"month\"] = all_availability[\"datetime\"].apply(lambda x: x.month)\n",
    "    all_availability[\"hour\"] = all_availability[\"datetime\"].apply(lambda x: x.hour)\n",
    "    \n",
    "    #Merge the grouped original dataframe with the new dataframe\n",
    "    availability_per_hex = pd.merge(cumulativesum_df, all_availability, left_on=['h3_hex_id', 'month', 'day', 'hour'], right_on=['h3_hex_id', 'month', 'day', 'hour'], how=\"outer\")\n",
    "    availability_per_hex = availability_per_hex.drop('available_bikes_y', axis=1)\n",
    "    availability_per_hex = availability_per_hex.rename(columns= {'available_bikes_x': 'available_bikes'})\n",
    "    \n",
    "    availability_per_hex_groups = availability_per_hex.sort_values(['h3_hex_id','month', 'day', 'hour']).groupby('h3_hex_id')\n",
    "    \n",
    "    all_groups = []\n",
    "    #split by groups   \n",
    "    for group in availability_per_hex_groups.groups:\n",
    "        group = availability_per_hex_groups.get_group(group)\n",
    "        group = group.reset_index()\n",
    "               \n",
    "        #save the dataframe for one hexagon in the list all groups  \n",
    "        all_groups.append(group)\n",
    "\n",
    "    availability_per_hex = pd.concat(all_groups)\n",
    "    \n",
    "    availability_per_hex = availability_per_hex.drop(['level_0', 'index'], axis=1)\n",
    "    \n",
    "    #Applying a forward fill per group to add the missing hourly available bikes per hexagon\n",
    "    availability_per_hour = availability_per_hex.groupby(['h3_hex_id'], as_index=False).apply(lambda group: group.ffill())\n",
    "    \n",
    "    #Filling the remaining NaN values with 0\n",
    "    availability_per_hour = availability_per_hour.fillna(0)\n",
    "    \n",
    "    # adding column weekday\n",
    "    availability_per_hour[\"weekday\"] = availability_per_hour[\"datetime\"].dt.dayofweek\n",
    "    \n",
    "    # adding new boolean column \"weekend\"    \n",
    "    availability_per_hour[\"weekend\"] = availability_per_hour[\"weekday\"].apply(lambda x: isWeekend(x))\n",
    "    \n",
    "    availability_per_hour[\"center\"] = availability_per_hour[\"h3_hex_id\"].apply(lambda x: centroid(x))\n",
    "    availability_per_hour[\"center_x\"] = availability_per_hour[\"center\"].apply(lambda x: x[0])\n",
    "    availability_per_hour[\"center_y\"]  = availability_per_hour[\"center\"].apply(lambda x: x[1])\n",
    "    \n",
    "    availability_per_hour['time_basket'] = availability_per_hour['hour'].apply(lambda x: x//periodLength+1)\n",
    "\n",
    "    availability_per_hour = availability_per_hour.groupby(['h3_hex_id', 'center_x', 'center_y', 'month', 'day', 'weekday', 'weekend', 'time_basket' ], as_index=False).mean()\n",
    "    availability_per_hour.drop('hour', axis=1, inplace=True)\n",
    "    ### Adding the average of the temperature and the distance to the next station, precipitation y/n and the mode of the land use features of the hexgaon\n",
    "\n",
    "    # grouped dataframe to calculate the mean of the temperatur and the distance to the next station per day and timebasket \n",
    "    availability_data['time_basket'] = availability_data['hour'].apply(lambda x: x//periodLength+1)\n",
    "    availability_per_hour['time_basket'] = availability_data['hour'].apply(lambda x: x//periodLength+1)\n",
    "    grouped_distance_station = pd.DataFrame(availability_data.groupby(['time_basket', 'h3_hex_id', 'month', 'day'], as_index = False\n",
    "                                                                     ).mean())\n",
    "    #grouped_distance_station.reset_index(inplace=True)\n",
    "    grouped_distance_station = grouped_distance_station[['time_basket', 'h3_hex_id', 'month', 'day', \"distance_next_station\"]]\n",
    "\n",
    "    # merge mean temperature with the demands \n",
    "    df_availability = availability_per_hour.merge(grouped_distance_station, on=['time_basket', 'h3_hex_id', 'month', 'day'], how=\"inner\")\n",
    "\n",
    "    # final dataframe to predict the demand per hexagon, ... \n",
    "    # adding new boolean column \"weekend\"    \n",
    "    df_availability[\"weekend\"] = df_availability[\"weekend\"].apply(lambda x : 1 if x else 0)     \n",
    "\n",
    "    # create new feature for better prediction results \n",
    "    # distances from the center of the hexagons to the CentralStation / University \n",
    "    df_availability[\"distanceToCentralStation\"] = df_availability[[\"center_x\",\"center_y\"]].apply(\n",
    "        lambda x: vincenty([x[0], x[1]], [50.731944, 7.096944]), axis=1)\n",
    "    df_availability[\"distanceToUniversity\"] = df_availability[[\"center_x\",\"center_y\"]].apply(\n",
    "        lambda x: vincenty([x[0], x[1]], [50.72682, 7.0888]), axis=1)    \n",
    "    df_availability=df_availability.drop_duplicates()\n",
    "    \n",
    "    return df_availability\n",
    "    "
   ]
  },
  {
   "cell_type": "markdown",
   "metadata": {},
   "source": [
    "Now we define a function that runs a DL model with the hyperparameters optimized with GridSearch. In this function we can insert the availability dataframe of the different hexagon resolutions and time baskets."
   ]
  },
  {
   "cell_type": "code",
   "execution_count": 148,
   "metadata": {},
   "outputs": [],
   "source": [
    "def run_DL(df_availability):\n",
    "    \n",
    "    # feature selection \n",
    "    features = [\"time_basket\", \"month\", \"center_x\", \"center_y\", \"weekend\", \n",
    "            \"distance_next_station\", \"distanceToCentralStation\", \"distanceToUniversity\"]\n",
    "    X = df_availability[features]\n",
    "    y = df_availability[[\"available_bikes\"]]\n",
    "    X_train , X_test , y_train, y_test = train_test_split(X, y, test_size = 0.3,random_state=0)\n",
    "    \n",
    "    #build model\n",
    "    model = models.Sequential()\n",
    "    model.add(layers.Dense(64, activation='relu', input_shape=(X_train.shape[1],)))\n",
    "    model.add(layers.Dense(64, activation='relu'))\n",
    "    model.add(layers.Dense(32, activation='relu'))\n",
    "    model.add(layers.Dense(16, activation='relu'))\n",
    "    model.add(layers.Dense(1))\n",
    "    model.compile(optimizer='Adamax', loss='mse', metrics=['mae','mse'])\n",
    "\n",
    "    history = model.fit(scaler.fit_transform(X_train),y_train,epochs=100,batch_size=32,verbose=0)\n",
    "\n",
    "    pred = model.predict(scaler.fit_transform(X_train))\n",
    "    print(\"ON TRAINING DATA:\")\n",
    "    print(\"MAE \", mean_absolute_error(y_train,pred))\n",
    "    print(\"MSE \", mean_squared_error(y_train,pred))\n",
    "    print(\"R2 \", r2_score(y_train,pred))\n",
    "    print(\"\\n\")\n",
    "\n",
    "    pred = model.predict(scaler.fit_transform(X_test))\n",
    "    print(\"ON TEST DATA:\")\n",
    "    print(\"MAE \",mean_absolute_error(y_test,pred))\n",
    "    print(\"MSE \",mean_squared_error(y_test,pred))\n",
    "    print(\"R2 \",r2_score(y_test,pred))"
   ]
  },
  {
   "cell_type": "markdown",
   "metadata": {},
   "source": [
    "## Deep Learning with ... \n",
    "* Hexagon resolution = 5 "
   ]
  },
  {
   "cell_type": "code",
   "execution_count": 150,
   "metadata": {},
   "outputs": [
    {
     "name": "stdout",
     "output_type": "stream",
     "text": [
      "ON TRAINING DATA:\n",
      "MAE  16.448581033574342\n",
      "MSE  694.8325988247565\n",
      "R2  0.9775518773460116\n",
      "\n",
      "\n",
      "ON TEST DATA:\n",
      "MAE  16.704563542459113\n",
      "MSE  738.969132237999\n",
      "R2  0.9758371309084337\n"
     ]
    }
   ],
   "source": [
    "# period length = 1\n",
    "df_availability = prepareAvailabilityData(hex_resolution=5,periodLength=1,df=availability_data)\n",
    "\n",
    "run_DL(df_availability)"
   ]
  },
  {
   "cell_type": "code",
   "execution_count": 151,
   "metadata": {},
   "outputs": [
    {
     "name": "stdout",
     "output_type": "stream",
     "text": [
      "ON TRAINING DATA:\n",
      "MAE  15.625065810421741\n",
      "MSE  555.1712549038152\n",
      "R2  0.982606002781066\n",
      "\n",
      "\n",
      "ON TEST DATA:\n",
      "MAE  15.885774245935963\n",
      "MSE  583.0032312327445\n",
      "R2  0.981196838982835\n"
     ]
    }
   ],
   "source": [
    "# period length = 2\n",
    "df_availability = prepareAvailabilityData(hex_resolution=5,periodLength=2,df=availability_data)\n",
    "\n",
    "run_DL(df_availability)"
   ]
  },
  {
   "cell_type": "code",
   "execution_count": 152,
   "metadata": {},
   "outputs": [
    {
     "name": "stdout",
     "output_type": "stream",
     "text": [
      "ON TRAINING DATA:\n",
      "MAE  15.877622123787033\n",
      "MSE  516.4233194640107\n",
      "R2  0.9843246403771488\n",
      "\n",
      "\n",
      "ON TEST DATA:\n",
      "MAE  15.552763068935636\n",
      "MSE  494.27298520963035\n",
      "R2  0.9849337295942778\n"
     ]
    }
   ],
   "source": [
    "# period length = 6\n",
    "df_availability = prepareAvailabilityData(hex_resolution=5,periodLength=6,df=availability_data)\n",
    "\n",
    "run_DL(df_availability)"
   ]
  },
  {
   "cell_type": "code",
   "execution_count": 153,
   "metadata": {},
   "outputs": [
    {
     "name": "stdout",
     "output_type": "stream",
     "text": [
      "ON TRAINING DATA:\n",
      "MAE  13.956894840611469\n",
      "MSE  431.27471728719087\n",
      "R2  0.9872020506875697\n",
      "\n",
      "\n",
      "ON TEST DATA:\n",
      "MAE  18.353499194989702\n",
      "MSE  729.5665277671072\n",
      "R2  0.977699231705413\n"
     ]
    }
   ],
   "source": [
    "# period length = 24\n",
    "df_availability = prepareAvailabilityData(hex_resolution=5,periodLength=24,df=availability_data)\n",
    "\n",
    "run_DL(df_availability)"
   ]
  },
  {
   "cell_type": "markdown",
   "metadata": {},
   "source": [
    "## Deep Learning with... \n",
    "* Hexagon resolution = 6 "
   ]
  },
  {
   "cell_type": "code",
   "execution_count": 154,
   "metadata": {},
   "outputs": [
    {
     "name": "stdout",
     "output_type": "stream",
     "text": [
      "ON TRAINING DATA:\n",
      "MAE  13.113438696816145\n",
      "MSE  389.7108569335161\n",
      "R2  0.9923144387980077\n",
      "\n",
      "\n",
      "ON TEST DATA:\n",
      "MAE  13.119940585268228\n",
      "MSE  384.7504370169137\n",
      "R2  0.9924626526630462\n"
     ]
    }
   ],
   "source": [
    "# period length = 1\n",
    "df_availability = prepareAvailabilityData(hex_resolution=6,periodLength=1,df=availability_data)\n",
    "\n",
    "run_DL(df_availability)"
   ]
  },
  {
   "cell_type": "code",
   "execution_count": 155,
   "metadata": {},
   "outputs": [
    {
     "name": "stdout",
     "output_type": "stream",
     "text": [
      "ON TRAINING DATA:\n",
      "MAE  12.584722835300447\n",
      "MSE  333.75927165821\n",
      "R2  0.993098847891258\n",
      "\n",
      "\n",
      "ON TEST DATA:\n",
      "MAE  13.21781419372264\n",
      "MSE  370.5784730062531\n",
      "R2  0.9924066111089139\n"
     ]
    }
   ],
   "source": [
    "# period length = 2\n",
    "df_availability = prepareAvailabilityData(hex_resolution=6,periodLength=2,df=availability_data)\n",
    "\n",
    "run_DL(df_availability)"
   ]
  },
  {
   "cell_type": "code",
   "execution_count": 156,
   "metadata": {
    "scrolled": true
   },
   "outputs": [
    {
     "name": "stdout",
     "output_type": "stream",
     "text": [
      "ON TRAINING DATA:\n",
      "MAE  12.33853265143074\n",
      "MSE  324.8466433441076\n",
      "R2  0.9928701624306536\n",
      "\n",
      "\n",
      "ON TEST DATA:\n",
      "MAE  12.713922949642672\n",
      "MSE  318.01084735868227\n",
      "R2  0.9932763777221795\n"
     ]
    }
   ],
   "source": [
    "# period length = 6\n",
    "df_availability = prepareAvailabilityData(hex_resolution=6,periodLength=6,df=availability_data)\n",
    "\n",
    "run_DL(df_availability)"
   ]
  },
  {
   "cell_type": "code",
   "execution_count": 157,
   "metadata": {},
   "outputs": [
    {
     "name": "stdout",
     "output_type": "stream",
     "text": [
      "ON TRAINING DATA:\n",
      "MAE  12.406719278922116\n",
      "MSE  309.6926460560043\n",
      "R2  0.9930398076010356\n",
      "\n",
      "\n",
      "ON TEST DATA:\n",
      "MAE  15.373348760025099\n",
      "MSE  484.5322581441556\n",
      "R2  0.989869345270887\n"
     ]
    }
   ],
   "source": [
    "# period length = 24\n",
    "df_availability = prepareAvailabilityData(hex_resolution=6,periodLength=24,df=availability_data)\n",
    "\n",
    "run_DL(df_availability)"
   ]
  },
  {
   "cell_type": "markdown",
   "metadata": {},
   "source": [
    "## Deep Learning with... \n",
    "* Hexagon resolution = 7"
   ]
  },
  {
   "cell_type": "code",
   "execution_count": 158,
   "metadata": {},
   "outputs": [
    {
     "name": "stdout",
     "output_type": "stream",
     "text": [
      "ON TRAINING DATA:\n",
      "MAE  10.053689430279828\n",
      "MSE  300.2023251791075\n",
      "R2  0.9947715712024839\n",
      "\n",
      "\n",
      "ON TEST DATA:\n",
      "MAE  10.244061821349545\n",
      "MSE  302.16190542206675\n",
      "R2  0.9944665923062423\n"
     ]
    }
   ],
   "source": [
    "# period length = 1\n",
    "df_availability = prepareAvailabilityData(hex_resolution=7,periodLength=1,df=availability_data)\n",
    "\n",
    "run_DL(df_availability)"
   ]
  },
  {
   "cell_type": "code",
   "execution_count": 159,
   "metadata": {},
   "outputs": [
    {
     "name": "stdout",
     "output_type": "stream",
     "text": [
      "ON TRAINING DATA:\n",
      "MAE  9.903244136659191\n",
      "MSE  304.6818775882543\n",
      "R2  0.9938618795493488\n",
      "\n",
      "\n",
      "ON TEST DATA:\n",
      "MAE  10.049832534756812\n",
      "MSE  304.56842191547895\n",
      "R2  0.9938221377563022\n"
     ]
    }
   ],
   "source": [
    "# period length = 2\n",
    "df_availability = prepareAvailabilityData(hex_resolution=7,periodLength=2,df=availability_data)\n",
    "\n",
    "run_DL(df_availability)"
   ]
  },
  {
   "cell_type": "code",
   "execution_count": 160,
   "metadata": {},
   "outputs": [
    {
     "name": "stdout",
     "output_type": "stream",
     "text": [
      "ON TRAINING DATA:\n",
      "MAE  9.378736460612805\n",
      "MSE  243.0810761381734\n",
      "R2  0.9943936659742756\n",
      "\n",
      "\n",
      "ON TEST DATA:\n",
      "MAE  9.647969585894351\n",
      "MSE  254.20740439997425\n",
      "R2  0.9935234058677173\n"
     ]
    }
   ],
   "source": [
    "# period length = 6\n",
    "df_availability = prepareAvailabilityData(hex_resolution=7,periodLength=6,df=availability_data)\n",
    "\n",
    "run_DL(df_availability)"
   ]
  },
  {
   "cell_type": "code",
   "execution_count": 161,
   "metadata": {},
   "outputs": [
    {
     "name": "stdout",
     "output_type": "stream",
     "text": [
      "ON TRAINING DATA:\n",
      "MAE  10.365675823316845\n",
      "MSE  268.4077616723604\n",
      "R2  0.992921762503326\n",
      "\n",
      "\n",
      "ON TEST DATA:\n",
      "MAE  12.185580998837366\n",
      "MSE  366.6520992042919\n",
      "R2  0.9907430035925399\n"
     ]
    }
   ],
   "source": [
    "# period length = 24\n",
    "df_availability = prepareAvailabilityData(hex_resolution=7,periodLength=24,df=availability_data)\n",
    "\n",
    "run_DL(df_availability)"
   ]
  },
  {
   "cell_type": "markdown",
   "metadata": {},
   "source": [
    "## Deep Learning with...\n",
    "* Hexagon resolution = 8"
   ]
  },
  {
   "cell_type": "code",
   "execution_count": 162,
   "metadata": {},
   "outputs": [
    {
     "name": "stdout",
     "output_type": "stream",
     "text": [
      "ON TRAINING DATA:\n",
      "MAE  5.661291497079582\n",
      "MSE  72.91612229768018\n",
      "R2  0.9911915116292056\n",
      "\n",
      "\n",
      "ON TEST DATA:\n",
      "MAE  5.714313531639755\n",
      "MSE  74.48793976428699\n",
      "R2  0.9912195521170108\n"
     ]
    }
   ],
   "source": [
    "# period length = 1\n",
    "df_availability = prepareAvailabilityData(hex_resolution=8,periodLength=1,df=availability_data)\n",
    "\n",
    "run_DL(df_availability)"
   ]
  },
  {
   "cell_type": "code",
   "execution_count": 163,
   "metadata": {},
   "outputs": [
    {
     "name": "stdout",
     "output_type": "stream",
     "text": [
      "ON TRAINING DATA:\n",
      "MAE  5.449645548107764\n",
      "MSE  69.40888581297844\n",
      "R2  0.9900417073574928\n",
      "\n",
      "\n",
      "ON TEST DATA:\n",
      "MAE  5.674071716614941\n",
      "MSE  76.50813759957718\n",
      "R2  0.9892551680053248\n"
     ]
    }
   ],
   "source": [
    "# period length = 2\n",
    "df_availability = prepareAvailabilityData(hex_resolution=8,periodLength=2,df=availability_data)\n",
    "\n",
    "run_DL(df_availability)"
   ]
  },
  {
   "cell_type": "code",
   "execution_count": 164,
   "metadata": {},
   "outputs": [
    {
     "name": "stdout",
     "output_type": "stream",
     "text": [
      "ON TRAINING DATA:\n",
      "MAE  6.2426600374896335\n",
      "MSE  153.16923830931327\n",
      "R2  0.9722780935868385\n",
      "\n",
      "\n",
      "ON TEST DATA:\n",
      "MAE  6.632141007548716\n",
      "MSE  161.30923464800665\n",
      "R2  0.970041704542337\n"
     ]
    }
   ],
   "source": [
    "# period length = 6\n",
    "df_availability = prepareAvailabilityData(hex_resolution=8,periodLength=6,df=availability_data)\n",
    "\n",
    "run_DL(df_availability)"
   ]
  },
  {
   "cell_type": "code",
   "execution_count": 165,
   "metadata": {},
   "outputs": [
    {
     "name": "stdout",
     "output_type": "stream",
     "text": [
      "ON TRAINING DATA:\n",
      "MAE  7.425437387239179\n",
      "MSE  112.78376180111628\n",
      "R2  0.9757291171818415\n",
      "\n",
      "\n",
      "ON TEST DATA:\n",
      "MAE  8.140957925680713\n",
      "MSE  143.16188845722067\n",
      "R2  0.9702529914803226\n"
     ]
    }
   ],
   "source": [
    "# period length = 24\n",
    "df_availability = prepareAvailabilityData(hex_resolution=8,periodLength=24,df=availability_data)\n",
    "\n",
    "run_DL(df_availability)"
   ]
  },
  {
   "cell_type": "markdown",
   "metadata": {},
   "source": [
    "## Deep Learning with...\n",
    "* Hexagon resolution = 9"
   ]
  },
  {
   "cell_type": "code",
   "execution_count": 166,
   "metadata": {},
   "outputs": [
    {
     "name": "stdout",
     "output_type": "stream",
     "text": [
      "ON TRAINING DATA:\n",
      "MAE  4.67530522631179\n",
      "MSE  45.02233281816738\n",
      "R2  0.9897846934838967\n",
      "\n",
      "\n",
      "ON TEST DATA:\n",
      "MAE  4.855072856108461\n",
      "MSE  49.1829324201638\n",
      "R2  0.9891634072463258\n"
     ]
    }
   ],
   "source": [
    "# period length = 1\n",
    "df_availability = prepareAvailabilityData(hex_resolution=9,periodLength=1,df=availability_data)\n",
    "\n",
    "run_DL(df_availability)"
   ]
  },
  {
   "cell_type": "code",
   "execution_count": 167,
   "metadata": {},
   "outputs": [
    {
     "name": "stdout",
     "output_type": "stream",
     "text": [
      "ON TRAINING DATA:\n",
      "MAE  5.21207847445257\n",
      "MSE  62.90534625238511\n",
      "R2  0.9867934012433354\n",
      "\n",
      "\n",
      "ON TEST DATA:\n",
      "MAE  5.307520446323912\n",
      "MSE  65.16813861841594\n",
      "R2  0.986146455404365\n"
     ]
    }
   ],
   "source": [
    "# period length = 2\n",
    "df_availability = prepareAvailabilityData(hex_resolution=9,periodLength=2,df=availability_data)\n",
    "\n",
    "run_DL(df_availability)"
   ]
  },
  {
   "cell_type": "code",
   "execution_count": 168,
   "metadata": {},
   "outputs": [
    {
     "name": "stdout",
     "output_type": "stream",
     "text": [
      "ON TRAINING DATA:\n",
      "MAE  6.3088960696185685\n",
      "MSE  95.68157351813078\n",
      "R2  0.9583044899642704\n",
      "\n",
      "\n",
      "ON TEST DATA:\n",
      "MAE  6.371373369556632\n",
      "MSE  96.59535226681051\n",
      "R2  0.9562065246758563\n"
     ]
    }
   ],
   "source": [
    "# period length = 6\n",
    "df_availability = prepareAvailabilityData(hex_resolution=9,periodLength=6,df=availability_data)\n",
    "\n",
    "run_DL(df_availability)"
   ]
  },
  {
   "cell_type": "code",
   "execution_count": 169,
   "metadata": {},
   "outputs": [
    {
     "name": "stdout",
     "output_type": "stream",
     "text": [
      "ON TRAINING DATA:\n",
      "MAE  8.235511921520958\n",
      "MSE  172.4697835845578\n",
      "R2  0.8956475307253755\n",
      "\n",
      "\n",
      "ON TEST DATA:\n",
      "MAE  8.374313106774068\n",
      "MSE  184.91752337190402\n",
      "R2  0.8818920868922782\n"
     ]
    }
   ],
   "source": [
    "# period length = 24\n",
    "df_availability = prepareAvailabilityData(hex_resolution=9,periodLength=24,df=availability_data)\n",
    "\n",
    "run_DL(df_availability)"
   ]
  },
  {
   "cell_type": "code",
   "execution_count": null,
   "metadata": {},
   "outputs": [],
   "source": []
  }
 ],
 "metadata": {
  "kernelspec": {
   "display_name": "Python 3",
   "language": "python",
   "name": "python3"
  },
  "language_info": {
   "codemirror_mode": {
    "name": "ipython",
    "version": 3
   },
   "file_extension": ".py",
   "mimetype": "text/x-python",
   "name": "python",
   "nbconvert_exporter": "python",
   "pygments_lexer": "ipython3",
   "version": "3.7.6"
  }
 },
 "nbformat": 4,
 "nbformat_minor": 4
}
