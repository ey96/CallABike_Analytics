{
 "cells": [
  {
   "cell_type": "markdown",
   "metadata": {},
   "source": [
    "# Deep Learning for Demand Prediction "
   ]
  },
  {
   "cell_type": "code",
   "execution_count": 1,
   "metadata": {},
   "outputs": [
    {
     "name": "stderr",
     "output_type": "stream",
     "text": [
      "Using TensorFlow backend.\n"
     ]
    }
   ],
   "source": [
    "import warnings\n",
    "warnings.filterwarnings(\"ignore\")\n",
    "import pandas as pd\n",
    "import numpy as np\n",
    "import seaborn as sns\n",
    "import matplotlib.pyplot as plt\n",
    "import category_encoders as ce\n",
    "from sklearn import preprocessing\n",
    "from sklearn.svm import SVR\n",
    "from sklearn.preprocessing import StandardScaler\n",
    "from sklearn.model_selection import train_test_split, GridSearchCV\n",
    "from sklearn.metrics import r2_score, mean_absolute_error, mean_squared_error\n",
    "import geopandas\n",
    "import json\n",
    "from shapely.geometry import shape\n",
    "from h3 import h3\n",
    "from vincenty import vincenty \n",
    "from scipy import stats\n",
    "from keras import models\n",
    "from keras import layers\n",
    "from keras.wrappers.scikit_learn import KerasClassifier"
   ]
  },
  {
   "cell_type": "code",
   "execution_count": 2,
   "metadata": {},
   "outputs": [],
   "source": [
    "# preprocessing / aggregation steps to get demand data \n",
    "\n",
    "# read in transformed trip data \n",
    "bonn_trips = pd.read_csv(\"Data/bonn_trips.csv\", index_col=0)\n",
    "\n",
    "# drop columns that were created in Data Preparation / new hexagon resolutions will be created below \n",
    "bonn_trips.drop([\"h3_hex_id\"],axis=1, inplace =True) \n",
    "\n",
    "bonn_trips.head()\n",
    "\n",
    "# set new hex resolution for the prediction \n",
    "# therefore the start coordinates of one trip is used \n",
    "H3_HEXAGON_RESOLUTION = 7\n",
    "bonn_trips[\"h3_hex_id\"] = bonn_trips.apply(lambda row: h3.geo_to_h3(row[\"latitude_start\"], row[\"longitude_start\"], H3_HEXAGON_RESOLUTION) if (row['latitude_start'] and row['longitude_start']) else 0, axis=1)\n",
    "\n",
    "# calculate the centers of the hexagons to use this information for further Support Verctor Regressions \n",
    "def centroid(h3hexId):\n",
    "    vertexes = h3.h3_to_geo_boundary(h3hexId)\n",
    "    _x_list = [vertex [0] for vertex in vertexes]\n",
    "    _y_list = [vertex [1] for vertex in vertexes]\n",
    "    _len = len(vertexes)\n",
    "    _x = sum(_x_list) / _len\n",
    "    _y = sum(_y_list) / _len\n",
    "    return _x, _y\n",
    "\n",
    "bonn_trips[\"center\"] = bonn_trips[\"h3_hex_id\"].apply(lambda x: centroid(x))\n",
    "bonn_trips[\"center_x\"] = bonn_trips[\"center\"].apply(lambda x: x[0])\n",
    "bonn_trips[\"center_y\"]  = bonn_trips[\"center\"].apply(lambda x: x[1])\n",
    "\n",
    "# returns a time basket \n",
    "def get_timebasket(hour):\n",
    "    #from 5.00 to 10.59 : Morning\n",
    "    if hour>4 and hour<11:\n",
    "        x=0        \n",
    "    #from 11.00 to 12.59 : noon\n",
    "    if hour>10 and hour<13:\n",
    "        x=1        \n",
    "    #from 13.00 to 17.59 : afternoon\n",
    "    if hour>12 and hour<18:\n",
    "        x=2        \n",
    "    #from 18.00 to 22.59 : evening\n",
    "    if hour>17 and hour<23:\n",
    "        x=3        \n",
    "    #from 23.00 to 4.59 : night\n",
    "    if (hour>22 and hour<25)or hour<5:\n",
    "        x=4\n",
    "    return x\n",
    "\n",
    "bonn_trips['time_basket'] = bonn_trips['hour'].apply(lambda x: get_timebasket(x))\n",
    "\n",
    "# grouped dataframe by following feature - \n",
    "# sums up the number of trips for each hex, month, day, timebasket \n",
    "grouped_trips = pd.DataFrame(bonn_trips.groupby(['h3_hex_id','month', 'day',\"time_basket\", \"weekend\", \"weekday\",\"center_x\",\"center_y\"], as_index = False).size())\n",
    "grouped_trips.rename({0:\"Demand\"},axis=1, inplace=True )\n",
    "grouped_trips.reset_index(inplace=True)\n",
    "#grouped_trips.head()\n",
    "\n",
    "# grouped dataframe to calculate the mean of the temperatur and the distance to the next station per day and timebasket \n",
    "grouped_weather = pd.DataFrame(bonn_trips.groupby(['time_basket', 'h3_hex_id', 'month', 'day'], as_index = False).mean())\n",
    "grouped_weather.reset_index(inplace=True)\n",
    "grouped_weather = grouped_weather[['time_basket', 'h3_hex_id', 'month', 'day',\"temperature °C\",\"precipitaion_level (mm)\",\"distance_next_station\"]]\n",
    "#grouped_weather\n",
    "\n",
    "# grouped dataframe to get \"precipitation y/n\" for the group\n",
    "grouped_rain_bool = pd.DataFrame(bonn_trips.groupby(['time_basket', 'h3_hex_id', 'month', 'day'], as_index = False).max())\n",
    "grouped_rain_bool.reset_index(inplace=True)\n",
    "grouped_rain_bool = grouped_rain_bool[['time_basket', 'h3_hex_id', 'month', 'day',\"precipitation y/n\"]]\n",
    "#grouped_rain_bool\n",
    "\n",
    "# group by hex, month, day and timebasket \n",
    "# use the value for the land features that occurs most often within one group\n",
    "grouped_land_use = pd.DataFrame(bonn_trips.groupby(['h3_hex_id','month', 'day', 'time_basket'], as_index = False)\n",
    "                                ['urban_fabric', 'discontinuous_urban_fabric', 'continuous_urban_fabric','industry_commercial', \n",
    "                                 'green_urban_area', 'agricultural_area', 'forest', 'water_courses'].agg(lambda x:x.value_counts().index[0]))\n",
    "grouped_land_use.reset_index(inplace=True,drop=True)\n",
    "grouped_land_use\n",
    "\n",
    "# merge mean temperature with the demands \n",
    "df_demand = grouped_trips.merge(grouped_weather, on=['time_basket', 'h3_hex_id', 'month', 'day'], how=\"inner\")\n",
    "\n",
    "# merge to get value for precipitation as a boolean value \n",
    "df_demand = df_demand.merge(grouped_rain_bool, on=['time_basket', 'h3_hex_id', 'month', 'day'], how=\"inner\")\n",
    "\n",
    "# merge to get the correct values for the land features\n",
    "df_demand = df_demand.merge(grouped_land_use,on=['time_basket', 'h3_hex_id', 'month', 'day'], how=\"inner\")\n",
    "\n",
    "# final dataframe to predict the demand per hexagon, ... \n",
    "df_demand[\"weekend\"] = df_demand[\"weekend\"].apply(lambda x : 1 if x else 0)\n",
    "\n",
    "# fill incorrect values with mean values of the corresponding month\n",
    "temp_means = df_demand[df_demand[\"temperature °C\"] >= -25].groupby([\"month\"]).mean()[[\"temperature °C\"]]\n",
    "for i, row in df_demand.iterrows():     \n",
    "    if row[\"temperature °C\"] < -25: # lowest temperature in Germany in 2019 was about -20° Celsius \n",
    "        df_demand.at[i, \"temperature °C\"] = temp_means.iloc[row[\"month\"]]        \n",
    "        \n",
    "# create new feature for better prediction results \n",
    "# distances from the center of the hexagons to the CentralStation / University \n",
    "df_demand[\"distanceToCentralStation\"] = df_demand[[\"center_x\",\"center_y\"]].apply(\n",
    "    lambda x: vincenty([x[0], x[1]], [50.731944, 7.096944]), axis=1)\n",
    "df_demand[\"distanceToUniversity\"] = df_demand[[\"center_x\",\"center_y\"]].apply(\n",
    "    lambda x: vincenty([x[0], x[1]], [50.72682, 7.0888]), axis=1)"
   ]
  },
  {
   "cell_type": "code",
   "execution_count": 73,
   "metadata": {},
   "outputs": [],
   "source": [
    "# Write file so that we don't always have to run the code above\n",
    "df_demand.to_csv(\"Data/demand_hex7_timeBaskets\")"
   ]
  },
  {
   "cell_type": "code",
   "execution_count": 2,
   "metadata": {},
   "outputs": [],
   "source": [
    "df_demand = pd.read_csv(\"Data/demand_hex7_timeBaskets\",index_col=0)"
   ]
  },
  {
   "cell_type": "code",
   "execution_count": 3,
   "metadata": {
    "scrolled": false
   },
   "outputs": [
    {
     "data": {
      "text/html": [
       "<div>\n",
       "<style scoped>\n",
       "    .dataframe tbody tr th:only-of-type {\n",
       "        vertical-align: middle;\n",
       "    }\n",
       "\n",
       "    .dataframe tbody tr th {\n",
       "        vertical-align: top;\n",
       "    }\n",
       "\n",
       "    .dataframe thead th {\n",
       "        text-align: right;\n",
       "    }\n",
       "</style>\n",
       "<table border=\"1\" class=\"dataframe\">\n",
       "  <thead>\n",
       "    <tr style=\"text-align: right;\">\n",
       "      <th></th>\n",
       "      <th>h3_hex_id</th>\n",
       "      <th>month</th>\n",
       "      <th>day</th>\n",
       "      <th>time_basket</th>\n",
       "      <th>weekend</th>\n",
       "      <th>weekday</th>\n",
       "      <th>center_x</th>\n",
       "      <th>center_y</th>\n",
       "      <th>Demand</th>\n",
       "      <th>temperature °C</th>\n",
       "      <th>...</th>\n",
       "      <th>discontinuous_urban_fabric</th>\n",
       "      <th>continuous_urban_fabric</th>\n",
       "      <th>industry_commercial</th>\n",
       "      <th>green_urban_area</th>\n",
       "      <th>agricultural_area</th>\n",
       "      <th>forest</th>\n",
       "      <th>water_courses</th>\n",
       "      <th>distanceToCentralStation</th>\n",
       "      <th>distanceToUniversity</th>\n",
       "      <th>isAfternoon</th>\n",
       "    </tr>\n",
       "  </thead>\n",
       "  <tbody>\n",
       "    <tr>\n",
       "      <th>0</th>\n",
       "      <td>871fa1032ffffff</td>\n",
       "      <td>3</td>\n",
       "      <td>3</td>\n",
       "      <td>2</td>\n",
       "      <td>1</td>\n",
       "      <td>6</td>\n",
       "      <td>50.654619</td>\n",
       "      <td>7.214119</td>\n",
       "      <td>3</td>\n",
       "      <td>11.200000</td>\n",
       "      <td>...</td>\n",
       "      <td>0</td>\n",
       "      <td>0</td>\n",
       "      <td>0</td>\n",
       "      <td>0</td>\n",
       "      <td>1</td>\n",
       "      <td>0</td>\n",
       "      <td>0</td>\n",
       "      <td>11.939101</td>\n",
       "      <td>11.955306</td>\n",
       "      <td>1</td>\n",
       "    </tr>\n",
       "    <tr>\n",
       "      <th>1</th>\n",
       "      <td>871fa1032ffffff</td>\n",
       "      <td>3</td>\n",
       "      <td>23</td>\n",
       "      <td>3</td>\n",
       "      <td>1</td>\n",
       "      <td>5</td>\n",
       "      <td>50.654619</td>\n",
       "      <td>7.214119</td>\n",
       "      <td>1</td>\n",
       "      <td>8.500000</td>\n",
       "      <td>...</td>\n",
       "      <td>0</td>\n",
       "      <td>0</td>\n",
       "      <td>0</td>\n",
       "      <td>0</td>\n",
       "      <td>1</td>\n",
       "      <td>0</td>\n",
       "      <td>0</td>\n",
       "      <td>11.939101</td>\n",
       "      <td>11.955306</td>\n",
       "      <td>0</td>\n",
       "    </tr>\n",
       "    <tr>\n",
       "      <th>2</th>\n",
       "      <td>871fa1032ffffff</td>\n",
       "      <td>3</td>\n",
       "      <td>24</td>\n",
       "      <td>2</td>\n",
       "      <td>1</td>\n",
       "      <td>6</td>\n",
       "      <td>50.654619</td>\n",
       "      <td>7.214119</td>\n",
       "      <td>1</td>\n",
       "      <td>11.000000</td>\n",
       "      <td>...</td>\n",
       "      <td>1</td>\n",
       "      <td>0</td>\n",
       "      <td>0</td>\n",
       "      <td>0</td>\n",
       "      <td>0</td>\n",
       "      <td>0</td>\n",
       "      <td>0</td>\n",
       "      <td>11.939101</td>\n",
       "      <td>11.955306</td>\n",
       "      <td>1</td>\n",
       "    </tr>\n",
       "    <tr>\n",
       "      <th>3</th>\n",
       "      <td>871fa1032ffffff</td>\n",
       "      <td>3</td>\n",
       "      <td>25</td>\n",
       "      <td>4</td>\n",
       "      <td>0</td>\n",
       "      <td>0</td>\n",
       "      <td>50.654619</td>\n",
       "      <td>7.214119</td>\n",
       "      <td>1</td>\n",
       "      <td>5.500000</td>\n",
       "      <td>...</td>\n",
       "      <td>1</td>\n",
       "      <td>0</td>\n",
       "      <td>0</td>\n",
       "      <td>0</td>\n",
       "      <td>0</td>\n",
       "      <td>0</td>\n",
       "      <td>0</td>\n",
       "      <td>11.939101</td>\n",
       "      <td>11.955306</td>\n",
       "      <td>0</td>\n",
       "    </tr>\n",
       "    <tr>\n",
       "      <th>4</th>\n",
       "      <td>871fa1032ffffff</td>\n",
       "      <td>3</td>\n",
       "      <td>30</td>\n",
       "      <td>2</td>\n",
       "      <td>1</td>\n",
       "      <td>5</td>\n",
       "      <td>50.654619</td>\n",
       "      <td>7.214119</td>\n",
       "      <td>2</td>\n",
       "      <td>18.900000</td>\n",
       "      <td>...</td>\n",
       "      <td>1</td>\n",
       "      <td>0</td>\n",
       "      <td>0</td>\n",
       "      <td>0</td>\n",
       "      <td>0</td>\n",
       "      <td>0</td>\n",
       "      <td>0</td>\n",
       "      <td>11.939101</td>\n",
       "      <td>11.955306</td>\n",
       "      <td>1</td>\n",
       "    </tr>\n",
       "    <tr>\n",
       "      <th>...</th>\n",
       "      <td>...</td>\n",
       "      <td>...</td>\n",
       "      <td>...</td>\n",
       "      <td>...</td>\n",
       "      <td>...</td>\n",
       "      <td>...</td>\n",
       "      <td>...</td>\n",
       "      <td>...</td>\n",
       "      <td>...</td>\n",
       "      <td>...</td>\n",
       "      <td>...</td>\n",
       "      <td>...</td>\n",
       "      <td>...</td>\n",
       "      <td>...</td>\n",
       "      <td>...</td>\n",
       "      <td>...</td>\n",
       "      <td>...</td>\n",
       "      <td>...</td>\n",
       "      <td>...</td>\n",
       "      <td>...</td>\n",
       "      <td>...</td>\n",
       "    </tr>\n",
       "    <tr>\n",
       "      <th>41311</th>\n",
       "      <td>871fa1c4dffffff</td>\n",
       "      <td>12</td>\n",
       "      <td>31</td>\n",
       "      <td>0</td>\n",
       "      <td>0</td>\n",
       "      <td>1</td>\n",
       "      <td>50.758136</td>\n",
       "      <td>7.045302</td>\n",
       "      <td>6</td>\n",
       "      <td>2.133333</td>\n",
       "      <td>...</td>\n",
       "      <td>1</td>\n",
       "      <td>0</td>\n",
       "      <td>0</td>\n",
       "      <td>0</td>\n",
       "      <td>0</td>\n",
       "      <td>0</td>\n",
       "      <td>0</td>\n",
       "      <td>4.666416</td>\n",
       "      <td>4.643606</td>\n",
       "      <td>0</td>\n",
       "    </tr>\n",
       "    <tr>\n",
       "      <th>41312</th>\n",
       "      <td>871fa1c4dffffff</td>\n",
       "      <td>12</td>\n",
       "      <td>31</td>\n",
       "      <td>1</td>\n",
       "      <td>0</td>\n",
       "      <td>1</td>\n",
       "      <td>50.758136</td>\n",
       "      <td>7.045302</td>\n",
       "      <td>7</td>\n",
       "      <td>3.742857</td>\n",
       "      <td>...</td>\n",
       "      <td>1</td>\n",
       "      <td>0</td>\n",
       "      <td>0</td>\n",
       "      <td>0</td>\n",
       "      <td>0</td>\n",
       "      <td>0</td>\n",
       "      <td>0</td>\n",
       "      <td>4.666416</td>\n",
       "      <td>4.643606</td>\n",
       "      <td>0</td>\n",
       "    </tr>\n",
       "    <tr>\n",
       "      <th>41313</th>\n",
       "      <td>871fa1c4dffffff</td>\n",
       "      <td>12</td>\n",
       "      <td>31</td>\n",
       "      <td>2</td>\n",
       "      <td>0</td>\n",
       "      <td>1</td>\n",
       "      <td>50.758136</td>\n",
       "      <td>7.045302</td>\n",
       "      <td>17</td>\n",
       "      <td>3.452941</td>\n",
       "      <td>...</td>\n",
       "      <td>1</td>\n",
       "      <td>0</td>\n",
       "      <td>0</td>\n",
       "      <td>0</td>\n",
       "      <td>0</td>\n",
       "      <td>0</td>\n",
       "      <td>0</td>\n",
       "      <td>4.666416</td>\n",
       "      <td>4.643606</td>\n",
       "      <td>1</td>\n",
       "    </tr>\n",
       "    <tr>\n",
       "      <th>41314</th>\n",
       "      <td>871fa1c4dffffff</td>\n",
       "      <td>12</td>\n",
       "      <td>31</td>\n",
       "      <td>3</td>\n",
       "      <td>0</td>\n",
       "      <td>1</td>\n",
       "      <td>50.758136</td>\n",
       "      <td>7.045302</td>\n",
       "      <td>20</td>\n",
       "      <td>1.055000</td>\n",
       "      <td>...</td>\n",
       "      <td>1</td>\n",
       "      <td>0</td>\n",
       "      <td>0</td>\n",
       "      <td>0</td>\n",
       "      <td>0</td>\n",
       "      <td>0</td>\n",
       "      <td>0</td>\n",
       "      <td>4.666416</td>\n",
       "      <td>4.643606</td>\n",
       "      <td>0</td>\n",
       "    </tr>\n",
       "    <tr>\n",
       "      <th>41315</th>\n",
       "      <td>871fa1c4dffffff</td>\n",
       "      <td>12</td>\n",
       "      <td>31</td>\n",
       "      <td>4</td>\n",
       "      <td>0</td>\n",
       "      <td>1</td>\n",
       "      <td>50.758136</td>\n",
       "      <td>7.045302</td>\n",
       "      <td>6</td>\n",
       "      <td>1.200000</td>\n",
       "      <td>...</td>\n",
       "      <td>1</td>\n",
       "      <td>0</td>\n",
       "      <td>0</td>\n",
       "      <td>0</td>\n",
       "      <td>0</td>\n",
       "      <td>0</td>\n",
       "      <td>0</td>\n",
       "      <td>4.666416</td>\n",
       "      <td>4.643606</td>\n",
       "      <td>0</td>\n",
       "    </tr>\n",
       "  </tbody>\n",
       "</table>\n",
       "<p>41316 rows × 24 columns</p>\n",
       "</div>"
      ],
      "text/plain": [
       "             h3_hex_id  month  day  time_basket  weekend  weekday   center_x  \\\n",
       "0      871fa1032ffffff      3    3            2        1        6  50.654619   \n",
       "1      871fa1032ffffff      3   23            3        1        5  50.654619   \n",
       "2      871fa1032ffffff      3   24            2        1        6  50.654619   \n",
       "3      871fa1032ffffff      3   25            4        0        0  50.654619   \n",
       "4      871fa1032ffffff      3   30            2        1        5  50.654619   \n",
       "...                ...    ...  ...          ...      ...      ...        ...   \n",
       "41311  871fa1c4dffffff     12   31            0        0        1  50.758136   \n",
       "41312  871fa1c4dffffff     12   31            1        0        1  50.758136   \n",
       "41313  871fa1c4dffffff     12   31            2        0        1  50.758136   \n",
       "41314  871fa1c4dffffff     12   31            3        0        1  50.758136   \n",
       "41315  871fa1c4dffffff     12   31            4        0        1  50.758136   \n",
       "\n",
       "       center_y  Demand  temperature °C  ...  discontinuous_urban_fabric  \\\n",
       "0      7.214119       3       11.200000  ...                           0   \n",
       "1      7.214119       1        8.500000  ...                           0   \n",
       "2      7.214119       1       11.000000  ...                           1   \n",
       "3      7.214119       1        5.500000  ...                           1   \n",
       "4      7.214119       2       18.900000  ...                           1   \n",
       "...         ...     ...             ...  ...                         ...   \n",
       "41311  7.045302       6        2.133333  ...                           1   \n",
       "41312  7.045302       7        3.742857  ...                           1   \n",
       "41313  7.045302      17        3.452941  ...                           1   \n",
       "41314  7.045302      20        1.055000  ...                           1   \n",
       "41315  7.045302       6        1.200000  ...                           1   \n",
       "\n",
       "       continuous_urban_fabric  industry_commercial  green_urban_area  \\\n",
       "0                            0                    0                 0   \n",
       "1                            0                    0                 0   \n",
       "2                            0                    0                 0   \n",
       "3                            0                    0                 0   \n",
       "4                            0                    0                 0   \n",
       "...                        ...                  ...               ...   \n",
       "41311                        0                    0                 0   \n",
       "41312                        0                    0                 0   \n",
       "41313                        0                    0                 0   \n",
       "41314                        0                    0                 0   \n",
       "41315                        0                    0                 0   \n",
       "\n",
       "       agricultural_area  forest  water_courses  distanceToCentralStation  \\\n",
       "0                      1       0              0                 11.939101   \n",
       "1                      1       0              0                 11.939101   \n",
       "2                      0       0              0                 11.939101   \n",
       "3                      0       0              0                 11.939101   \n",
       "4                      0       0              0                 11.939101   \n",
       "...                  ...     ...            ...                       ...   \n",
       "41311                  0       0              0                  4.666416   \n",
       "41312                  0       0              0                  4.666416   \n",
       "41313                  0       0              0                  4.666416   \n",
       "41314                  0       0              0                  4.666416   \n",
       "41315                  0       0              0                  4.666416   \n",
       "\n",
       "       distanceToUniversity  isAfternoon  \n",
       "0                 11.955306            1  \n",
       "1                 11.955306            0  \n",
       "2                 11.955306            1  \n",
       "3                 11.955306            0  \n",
       "4                 11.955306            1  \n",
       "...                     ...          ...  \n",
       "41311              4.643606            0  \n",
       "41312              4.643606            0  \n",
       "41313              4.643606            1  \n",
       "41314              4.643606            0  \n",
       "41315              4.643606            0  \n",
       "\n",
       "[41316 rows x 24 columns]"
      ]
     },
     "execution_count": 3,
     "metadata": {},
     "output_type": "execute_result"
    }
   ],
   "source": [
    "df_demand"
   ]
  },
  {
   "cell_type": "code",
   "execution_count": 4,
   "metadata": {},
   "outputs": [],
   "source": [
    "# feature selection \n",
    "X = df_demand[[\"time_basket\",\"month\",\"center_x\",\"center_y\",\"day\", \"weekend\", \"weekday\", \"temperature °C\",\n",
    "              \"distanceToCentralStation\",\"distanceToUniversity\",\"distance_next_station\", \"urban_fabric\",\n",
    "              \"industry_commercial\", \"green_urban_area\"]]\n",
    "y = df_demand[[\"Demand\"]]\n",
    "X_train , X_test , y_train, y_test = train_test_split(X, y, test_size = 0.3,random_state=0)"
   ]
  },
  {
   "cell_type": "code",
   "execution_count": 5,
   "metadata": {},
   "outputs": [],
   "source": [
    "def build_model():\n",
    "    model = models.Sequential()\n",
    "    model.add(layers.Dense(64, activation='relu', input_shape=(X_train.shape[1],)))\n",
    "    model.add(layers.Dense(64, activation='relu'))\n",
    "    model.add(layers.Dense(32, activation='relu'))    \n",
    "    model.add(layers.Dense(16, activation='relu'))\n",
    "    model.add(layers.Dense(1))\n",
    "    model.compile(optimizer='rmsprop', loss='mse', metrics=['mae','mse'])\n",
    "    return model"
   ]
  },
  {
   "cell_type": "code",
   "execution_count": 6,
   "metadata": {},
   "outputs": [],
   "source": [
    "model = build_model()"
   ]
  },
  {
   "cell_type": "code",
   "execution_count": 7,
   "metadata": {
    "scrolled": true
   },
   "outputs": [
    {
     "name": "stdout",
     "output_type": "stream",
     "text": [
      "WARNING:tensorflow:From C:\\Users\\Emre\\Anaconda3\\lib\\site-packages\\keras\\backend\\tensorflow_backend.py:422: The name tf.global_variables is deprecated. Please use tf.compat.v1.global_variables instead.\n",
      "\n",
      "Epoch 1/50\n",
      "28921/28921 [==============================] - 1s 30us/step - loss: 1512.7910 - mae: 21.0621 - mse: 1512.7913\n",
      "Epoch 2/50\n",
      "28921/28921 [==============================] - 1s 28us/step - loss: 1082.4926 - mae: 17.0566 - mse: 1082.4921\n",
      "Epoch 3/50\n",
      "28921/28921 [==============================] - 1s 18us/step - loss: 976.2955 - mae: 15.7059 - mse: 976.2957\n",
      "Epoch 4/50\n",
      "28921/28921 [==============================] - 1s 19us/step - loss: 922.2920 - mae: 15.1590 - mse: 922.2918\n",
      "Epoch 5/50\n",
      "28921/28921 [==============================] - 0s 17us/step - loss: 895.5138 - mae: 14.7221 - mse: 895.5138\n",
      "Epoch 6/50\n",
      "28921/28921 [==============================] - 0s 17us/step - loss: 867.8850 - mae: 14.3440 - mse: 867.8853\n",
      "Epoch 7/50\n",
      "28921/28921 [==============================] - 1s 19us/step - loss: 844.1136 - mae: 14.0522 - mse: 844.1134\n",
      "Epoch 8/50\n",
      "28921/28921 [==============================] - 1s 19us/step - loss: 819.7444 - mae: 13.6986 - mse: 819.7442\n",
      "Epoch 9/50\n",
      "28921/28921 [==============================] - 1s 23us/step - loss: 786.3450 - mae: 13.3313 - mse: 786.3452\n",
      "Epoch 10/50\n",
      "28921/28921 [==============================] - 0s 16us/step - loss: 755.5173 - mae: 12.9501 - mse: 755.5175\n",
      "Epoch 11/50\n",
      "28921/28921 [==============================] - 1s 19us/step - loss: 728.7217 - mae: 12.6351 - mse: 728.7220\n",
      "Epoch 12/50\n",
      "28921/28921 [==============================] - 1s 18us/step - loss: 702.6962 - mae: 12.3030 - mse: 702.6962\n",
      "Epoch 13/50\n",
      "28921/28921 [==============================] - 0s 16us/step - loss: 687.8039 - mae: 12.0039 - mse: 687.8040\n",
      "Epoch 14/50\n",
      "28921/28921 [==============================] - 1s 21us/step - loss: 676.9479 - mae: 11.7985 - mse: 676.9478\n",
      "Epoch 15/50\n",
      "28921/28921 [==============================] - 1s 18us/step - loss: 669.4475 - mae: 11.7147 - mse: 669.4474\n",
      "Epoch 16/50\n",
      "28921/28921 [==============================] - 0s 15us/step - loss: 657.3613 - mae: 11.6128 - mse: 657.3611\n",
      "Epoch 17/50\n",
      "28921/28921 [==============================] - 0s 16us/step - loss: 654.4781 - mae: 11.4775 - mse: 654.4783\n",
      "Epoch 18/50\n",
      "28921/28921 [==============================] - 1s 18us/step - loss: 651.6455 - mae: 11.4903 - mse: 651.6454\n",
      "Epoch 19/50\n",
      "28921/28921 [==============================] - 0s 16us/step - loss: 651.3541 - mae: 11.3957 - mse: 651.3542\n",
      "Epoch 20/50\n",
      "28921/28921 [==============================] - 0s 15us/step - loss: 644.9553 - mae: 11.3800 - mse: 644.9555\n",
      "Epoch 21/50\n",
      "28921/28921 [==============================] - 0s 17us/step - loss: 643.3003 - mae: 11.3373 - mse: 643.3002\n",
      "Epoch 22/50\n",
      "28921/28921 [==============================] - 0s 17us/step - loss: 639.7652 - mae: 11.2952 - mse: 639.7651\n",
      "Epoch 23/50\n",
      "28921/28921 [==============================] - 1s 24us/step - loss: 639.2002 - mae: 11.2686 - mse: 639.2004\n",
      "Epoch 24/50\n",
      "28921/28921 [==============================] - 1s 27us/step - loss: 632.9673 - mae: 11.2757 - mse: 632.9673\n",
      "Epoch 25/50\n",
      "28921/28921 [==============================] - 1s 22us/step - loss: 634.3069 - mae: 11.2518 - mse: 634.3069\n",
      "Epoch 26/50\n",
      "28921/28921 [==============================] - 1s 24us/step - loss: 628.2826 - mae: 11.2301 - mse: 628.2826\n",
      "Epoch 27/50\n",
      "28921/28921 [==============================] - 1s 26us/step - loss: 627.8664 - mae: 11.1576 - mse: 627.8663\n",
      "Epoch 28/50\n",
      "28921/28921 [==============================] - 1s 20us/step - loss: 631.3329 - mae: 11.2486 - mse: 631.3329 0s - loss: 818.6818 - mae: 1\n",
      "Epoch 29/50\n",
      "28921/28921 [==============================] - 1s 23us/step - loss: 626.2436 - mae: 11.2159 - mse: 626.2434\n",
      "Epoch 30/50\n",
      "28921/28921 [==============================] - 1s 18us/step - loss: 622.7625 - mae: 11.1649 - mse: 622.7625\n",
      "Epoch 31/50\n",
      "28921/28921 [==============================] - 1s 18us/step - loss: 619.8217 - mae: 11.1363 - mse: 619.8217\n",
      "Epoch 32/50\n",
      "28921/28921 [==============================] - 1s 19us/step - loss: 619.4835 - mae: 11.1485 - mse: 619.4837\n",
      "Epoch 33/50\n",
      "28921/28921 [==============================] - 0s 17us/step - loss: 616.9307 - mae: 11.1015 - mse: 616.9305\n",
      "Epoch 34/50\n",
      "28921/28921 [==============================] - 0s 17us/step - loss: 614.1811 - mae: 11.0659 - mse: 614.1812\n",
      "Epoch 35/50\n",
      "28921/28921 [==============================] - 0s 17us/step - loss: 612.5265 - mae: 11.0923 - mse: 612.5263\n",
      "Epoch 36/50\n",
      "28921/28921 [==============================] - 0s 17us/step - loss: 612.3205 - mae: 11.0463 - mse: 612.3204\n",
      "Epoch 37/50\n",
      "28921/28921 [==============================] - 1s 17us/step - loss: 611.5757 - mae: 11.0619 - mse: 611.5756\n",
      "Epoch 38/50\n",
      "28921/28921 [==============================] - 1s 20us/step - loss: 604.8143 - mae: 11.0488 - mse: 604.8143\n",
      "Epoch 39/50\n",
      "28921/28921 [==============================] - 1s 17us/step - loss: 604.1176 - mae: 11.0506 - mse: 604.1176\n",
      "Epoch 40/50\n",
      "28921/28921 [==============================] - 1s 19us/step - loss: 606.4075 - mae: 10.9970 - mse: 606.4075\n",
      "Epoch 41/50\n",
      "28921/28921 [==============================] - 0s 17us/step - loss: 603.5328 - mae: 10.9796 - mse: 603.5328\n",
      "Epoch 42/50\n",
      "28921/28921 [==============================] - 1s 19us/step - loss: 599.7514 - mae: 10.9804 - mse: 599.7515\n",
      "Epoch 43/50\n",
      "28921/28921 [==============================] - 0s 16us/step - loss: 599.6108 - mae: 11.0013 - mse: 599.6110\n",
      "Epoch 44/50\n",
      "28921/28921 [==============================] - 1s 18us/step - loss: 601.2628 - mae: 10.9332 - mse: 601.2627\n",
      "Epoch 45/50\n",
      "28921/28921 [==============================] - 1s 18us/step - loss: 596.5670 - mae: 10.9084 - mse: 596.5670\n",
      "Epoch 46/50\n",
      "28921/28921 [==============================] - 0s 17us/step - loss: 590.1169 - mae: 10.9316 - mse: 590.1168\n",
      "Epoch 47/50\n",
      "28921/28921 [==============================] - 1s 19us/step - loss: 593.5252 - mae: 10.8726 - mse: 593.5250\n",
      "Epoch 48/50\n",
      "28921/28921 [==============================] - 0s 17us/step - loss: 591.7681 - mae: 10.8612 - mse: 591.7681\n",
      "Epoch 49/50\n",
      "28921/28921 [==============================] - 1s 17us/step - loss: 590.8992 - mae: 10.8578 - mse: 590.8992\n",
      "Epoch 50/50\n",
      "28921/28921 [==============================] - 0s 17us/step - loss: 586.5687 - mae: 10.8728 - mse: 586.5688\n"
     ]
    }
   ],
   "source": [
    "scaler = StandardScaler()\n",
    "history = model.fit(scaler.fit_transform(X_train),y_train,epochs=50,batch_size=128,verbose=1)"
   ]
  },
  {
   "cell_type": "code",
   "execution_count": 9,
   "metadata": {
    "scrolled": false
   },
   "outputs": [
    {
     "data": {
      "image/png": "[encoded data removed]",
      "text/plain": [
       "<Figure size 864x576 with 1 Axes>"
      ]
     },
     "metadata": {
      "needs_background": "light"
     },
     "output_type": "display_data"
    }
   ],
   "source": [
    "plt.figure(figsize=(12,8))\n",
    "mae = history.history['mae']\n",
    "mse = history.history[\"mse\"]\n",
    "epochs = range(1, len(mae) + 1)\n",
    "plt.plot(epochs, mae, 'b', label='MAE')\n",
    "plt.plot(epochs, np.sqrt(mse), 'r', label=\"RMSE\")\n",
    "plt.title('Progress of MAE over epochs')\n",
    "plt.xlabel('Epochs')\n",
    "plt.ylabel('Error')\n",
    "plt.legend()\n",
    "plt.show()"
   ]
  },
  {
   "cell_type": "code",
   "execution_count": 8,
   "metadata": {},
   "outputs": [
    {
     "name": "stdout",
     "output_type": "stream",
     "text": [
      "ON TRAINING DATA:\n",
      "MAE  10.926079024726237\n",
      "MSE  564.0807528122705\n",
      "RMSE  23.75038426662336\n",
      "R2  0.6955332574256992\n",
      "\n",
      "\n",
      "ON TEST DATA:\n",
      "MAE  11.7444501082399\n",
      "MSE  535.5350228443674\n",
      "RMSE  23.14162964971066\n",
      "R2  0.7065098198051019\n"
     ]
    }
   ],
   "source": [
    "pred = model.predict(scaler.fit_transform(X_train))\n",
    "print(\"ON TRAINING DATA:\")\n",
    "print(\"MAE \", mean_absolute_error(y_train,pred))\n",
    "print(\"MSE \", mean_squared_error(y_train,pred))\n",
    "print(\"RMSE \", np.sqrt(mean_squared_error(y_train,pred)))\n",
    "print(\"R2 \", r2_score(y_train,pred))\n",
    "print(\"\\n\")\n",
    "\n",
    "pred = model.predict(scaler.fit_transform(X_test))\n",
    "print(\"ON TEST DATA:\")\n",
    "print(\"MAE \",mean_absolute_error(y_test,pred))\n",
    "print(\"MSE \",mean_squared_error(y_test,pred))\n",
    "print(\"RMSE \", np.sqrt(mean_squared_error(y_test,pred)))\n",
    "print(\"R2 \",r2_score(y_test,pred))"
   ]
  },
  {
   "cell_type": "markdown",
   "metadata": {},
   "source": [
    "###### In comparison to the SVR this first NN returns much better results. Furthermore the NN isn't overfitted. \n",
    "\n",
    "<b>Metrics on the first SVR<br></b>\n",
    "ON TEST DATA <br>\n",
    " R2:  \t 0.41 <br>\n",
    " MAE:  \t 14.85 <br>\n",
    " MSE:  \t 1082.82 <br>\n",
    " RMSE:   32.91 <br>"
   ]
  },
  {
   "cell_type": "code",
   "execution_count": 10,
   "metadata": {
    "scrolled": false
   },
   "outputs": [
    {
     "name": "stdout",
     "output_type": "stream",
     "text": [
      "ON TRAINING DATA:\n",
      "MAE  10.085158282482526\n",
      "MSE  441.5601612775199\n",
      "R2  0.7616646494593443\n",
      "\n",
      "\n",
      "ON TEST DATA:\n",
      "MAE  11.176296373681225\n",
      "MSE  499.85096648576217\n",
      "R2  0.726065814621552\n"
     ]
    }
   ],
   "source": [
    "# increase epochs \n",
    "model = build_model()\n",
    "history = model.fit(scaler.fit_transform(X_train),y_train,epochs=100,batch_size=128,verbose=0)\n",
    "pred = model.predict(scaler.fit_transform(X_train))\n",
    "print(\"ON TRAINING DATA:\")\n",
    "print(\"MAE \", mean_absolute_error(y_train,pred))\n",
    "print(\"MSE \", mean_squared_error(y_train,pred))\n",
    "print(\"R2 \", r2_score(y_train,pred))\n",
    "print(\"\\n\")\n",
    "\n",
    "pred = model.predict(scaler.fit_transform(X_test))\n",
    "print(\"ON TEST DATA:\")\n",
    "print(\"MAE \",mean_absolute_error(y_test,pred))\n",
    "print(\"MSE \",mean_squared_error(y_test,pred))\n",
    "print(\"R2 \",r2_score(y_test,pred))"
   ]
  },
  {
   "cell_type": "markdown",
   "metadata": {},
   "source": [
    "--> large number of epochs can lead to overfitting, here it is the case!"
   ]
  },
  {
   "cell_type": "code",
   "execution_count": 11,
   "metadata": {
    "scrolled": true
   },
   "outputs": [
    {
     "name": "stdout",
     "output_type": "stream",
     "text": [
      "ON TRAINING DATA:\n",
      "MAE  10.278332970649235\n",
      "MSE  466.54274730688206\n",
      "R2  0.748180114574011\n",
      "\n",
      "\n",
      "ON TEST DATA:\n",
      "MAE  11.25159554367779\n",
      "MSE  513.0872566111328\n",
      "R2  0.7188119077652381\n"
     ]
    }
   ],
   "source": [
    "# use adam as optimizer\n",
    "def build_model():\n",
    "    model = models.Sequential()\n",
    "    model.add(layers.Dense(64, activation='relu', input_shape=(X_train.shape[1],)))\n",
    "    model.add(layers.Dense(64, activation='relu'))\n",
    "    model.add(layers.Dense(32, activation='relu'))\n",
    "    model.add(layers.Dense(16, activation='relu'))\n",
    "    model.add(layers.Dense(1))\n",
    "    model.compile(optimizer='adam', loss='mse', metrics=['mae','mse'])\n",
    "    return model\n",
    "\n",
    "model = build_model()\n",
    "\n",
    "history = model.fit(scaler.fit_transform(X_train),y_train,epochs=50,batch_size=128,verbose=0)\n",
    "\n",
    "pred = model.predict(scaler.fit_transform(X_train))\n",
    "print(\"ON TRAINING DATA:\")\n",
    "print(\"MAE \", mean_absolute_error(y_train,pred))\n",
    "print(\"MSE \", mean_squared_error(y_train,pred))\n",
    "print(\"R2 \", r2_score(y_train,pred))\n",
    "print(\"\\n\")\n",
    "\n",
    "pred = model.predict(scaler.fit_transform(X_test))\n",
    "print(\"ON TEST DATA:\")\n",
    "print(\"MAE \",mean_absolute_error(y_test,pred))\n",
    "print(\"MSE \",mean_squared_error(y_test,pred))\n",
    "print(\"R2 \",r2_score(y_test,pred))"
   ]
  },
  {
   "cell_type": "code",
   "execution_count": 12,
   "metadata": {
    "scrolled": false
   },
   "outputs": [
    {
     "data": {
      "image/png": "[encoded data removed]",
      "text/plain": [
       "<Figure size 864x576 with 1 Axes>"
      ]
     },
     "metadata": {
      "needs_background": "light"
     },
     "output_type": "display_data"
    },
    {
     "name": "stdout",
     "output_type": "stream",
     "text": [
      "ON TRAINING DATA:\n",
      "MAE  9.091125077220733\n",
      "MSE  230.80677164165445\n",
      "R2  0.8754203443824783\n",
      "\n",
      "\n",
      "ON TEST DATA:\n",
      "MAE  10.839274436823468\n",
      "MSE  443.3462409044978\n",
      "R2  0.7570321966232907\n"
     ]
    }
   ],
   "source": [
    "# drop one hidden layer and see what happens\n",
    "def build_model():\n",
    "    model = models.Sequential()\n",
    "    model.add(layers.Dense(64, activation='relu', input_shape=(X_train.shape[1],)))\n",
    "    model.add(layers.Dense(32, activation='relu'))    \n",
    "    model.add(layers.Dense(16, activation='relu'))\n",
    "    model.add(layers.Dense(1))\n",
    "    model.compile(optimizer='adam', loss='mse', metrics=['mae','mse'])\n",
    "    return model\n",
    "\n",
    "model = build_model()\n",
    "# increase number of epochs \n",
    "# decrease batch_size\n",
    "history = model.fit(scaler.fit_transform(X_train),y_train,epochs=250,batch_size=64,verbose=0)\n",
    "\n",
    "plt.figure(figsize=(12,8))\n",
    "mae = history.history['mae']\n",
    "mse = history.history[\"mse\"]\n",
    "epochs = range(1, len(mae) + 1)\n",
    "plt.plot(epochs, mae, 'b', label='MAE')\n",
    "plt.plot(epochs, np.sqrt(mse), 'r', label=\"RMSE\")\n",
    "plt.title('Progress of MAE / RMSE over epochs')\n",
    "plt.xlabel('Epochs')\n",
    "plt.ylabel('Error')\n",
    "plt.legend()\n",
    "plt.show()\n",
    "\n",
    "pred = model.predict(scaler.fit_transform(X_train))\n",
    "print(\"ON TRAINING DATA:\")\n",
    "print(\"MAE \", mean_absolute_error(y_train,pred))\n",
    "print(\"MSE \", mean_squared_error(y_train,pred))\n",
    "print(\"R2 \", r2_score(y_train,pred))\n",
    "print(\"\\n\")\n",
    "\n",
    "pred = model.predict(scaler.fit_transform(X_test))\n",
    "print(\"ON TEST DATA:\")\n",
    "print(\"MAE \",mean_absolute_error(y_test,pred))\n",
    "print(\"MSE \",mean_squared_error(y_test,pred))\n",
    "print(\"R2 \",r2_score(y_test,pred))"
   ]
  },
  {
   "cell_type": "markdown",
   "metadata": {},
   "source": [
    "--> by dropping one hidden layer the network tends to overfit\n",
    "--> we will use the dropped hidden layer in further steps"
   ]
  },
  {
   "cell_type": "markdown",
   "metadata": {},
   "source": [
    "# Further tests "
   ]
  },
  {
   "cell_type": "code",
   "execution_count": 33,
   "metadata": {},
   "outputs": [
    {
     "data": {
      "image/png": "[encoded data removed]",
      "text/plain": [
       "<Figure size 432x288 with 1 Axes>"
      ]
     },
     "metadata": {
      "needs_background": "light"
     },
     "output_type": "display_data"
    }
   ],
   "source": [
    "# illustrate a overfitted network \n",
    "def build_model():\n",
    "    model = models.Sequential()\n",
    "    model.add(layers.Dense(128, activation='relu', input_shape=(X_train.shape[1],)))\n",
    "    model.add(layers.Dense(128, activation='relu'))\n",
    "    model.add(layers.Dense(128, activation='relu'))    \n",
    "    model.add(layers.Dense(128, activation='relu'))\n",
    "    model.add(layers.Dense(128, activation='relu'))  \n",
    "    model.add(layers.Dense(64, activation='relu'))    \n",
    "    model.add(layers.Dense(64, activation='relu'))    \n",
    "    model.add(layers.Dense(64, activation='relu'))    \n",
    "    model.add(layers.Dense(64, activation='relu'))    \n",
    "    model.add(layers.Dense(32, activation='relu'))    \n",
    "    model.add(layers.Dense(32, activation='relu'))    \n",
    "    model.add(layers.Dense(32, activation='relu'))    \n",
    "    model.add(layers.Dense(16, activation='relu'))\n",
    "    model.add(layers.Dense(1))\n",
    "    model.compile(optimizer='adam', loss='mse', metrics=['mae','mse'])\n",
    "    return model\n",
    "\n",
    "model = build_model()\n",
    "history = model.fit(X_train,y_train,epochs=50,batch_size=128,verbose=0)\n",
    "\n",
    "mae = history.history['mae']\n",
    "#val_loss = history.history['val_loss']\n",
    "epochs = range(1, len(mae) + 1)\n",
    "plt.plot(epochs, mae, 'b', label='Training loss')\n",
    "plt.title('Progress of MAE over epochs')\n",
    "plt.xlabel('Epochs')\n",
    "plt.ylabel('MAE')\n",
    "plt.legend()\n",
    "plt.show()"
   ]
  },
  {
   "cell_type": "code",
   "execution_count": 34,
   "metadata": {
    "scrolled": true
   },
   "outputs": [
    {
     "name": "stdout",
     "output_type": "stream",
     "text": [
      "ON TRAINING DATA:\n",
      "MAE  8.813754698563354\n",
      "MSE  299.9759541000602\n",
      "R2  0.8380857685001364\n",
      "\n",
      "\n",
      "ON TEST DATA:\n",
      "MAE  11.084534361459594\n",
      "MSE  560.0836602757984\n",
      "R2  0.6930563877867375\n"
     ]
    }
   ],
   "source": [
    "pred = model.predict(X_train)\n",
    "print(\"ON TRAINING DATA:\")\n",
    "print(\"MAE \", mean_absolute_error(y_train,pred))\n",
    "print(\"MSE \", mean_squared_error(y_train,pred))\n",
    "print(\"R2 \", r2_score(y_train,pred))\n",
    "print(\"\\n\")\n",
    "\n",
    "pred = model.predict(X_test)\n",
    "print(\"ON TEST DATA:\")\n",
    "print(\"MAE \",mean_absolute_error(y_test,pred))\n",
    "print(\"MSE \",mean_squared_error(y_test,pred))\n",
    "print(\"R2 \",r2_score(y_test,pred))"
   ]
  },
  {
   "cell_type": "markdown",
   "metadata": {},
   "source": [
    "--> We can see clearly that a really dense network with many hidden layers tend to overfit. "
   ]
  },
  {
   "cell_type": "markdown",
   "metadata": {},
   "source": [
    "# Optimizing Hyperparameters with GridSearch\n",
    "\n",
    "#### Epochs, Batch Size and Optimizer"
   ]
  },
  {
   "cell_type": "markdown",
   "metadata": {},
   "source": [
    "###### previous results  with ... \n",
    "epochs: 50 <br>\n",
    "batch size: 128 <br>\n",
    "optimizer: Adam <br>\n",
    "\n",
    "ON TEST DATA: <br>\n",
    "MAE  11.25159554367779 <br>\n",
    "MSE  513.0872566111328 <br>\n",
    "R2  0.7188119077652381 <br>"
   ]
  },
  {
   "cell_type": "code",
   "execution_count": 3,
   "metadata": {},
   "outputs": [],
   "source": [
    "df_demand = pd.read_csv(\"Data/demand_hex7_timeBaskets\",index_col=0)\n",
    "# feature selection \n",
    "X = df_demand[[\"time_basket\",\"month\",\"center_x\",\"center_y\",\"day\", \"weekend\", \"weekday\", \"temperature °C\",\n",
    "              \"distanceToCentralStation\",\"distanceToUniversity\",\"distance_next_station\", \"urban_fabric\",\n",
    "              \"industry_commercial\", \"green_urban_area\"]]\n",
    "y = df_demand[[\"Demand\"]]\n",
    "X_train , X_test , y_train, y_test = train_test_split(X, y, test_size = 0.3,random_state=0)"
   ]
  },
  {
   "cell_type": "code",
   "execution_count": 14,
   "metadata": {
    "scrolled": true
   },
   "outputs": [
    {
     "name": "stdout",
     "output_type": "stream",
     "text": [
      "Best: 0.043204 using {'batch_size': 32, 'epochs': 100}\n",
      "0.028851 (0.012641) with: {'batch_size': 32, 'epochs': 20}\n",
      "0.036281 (0.012145) with: {'batch_size': 32, 'epochs': 50}\n",
      "0.043204 (0.009322) with: {'batch_size': 32, 'epochs': 100}\n",
      "0.025801 (0.005679) with: {'batch_size': 64, 'epochs': 20}\n",
      "0.029553 (0.014214) with: {'batch_size': 64, 'epochs': 50}\n",
      "0.034660 (0.007997) with: {'batch_size': 64, 'epochs': 100}\n",
      "0.026745 (0.014034) with: {'batch_size': 128, 'epochs': 20}\n",
      "0.030037 (0.010279) with: {'batch_size': 128, 'epochs': 50}\n",
      "0.033038 (0.009557) with: {'batch_size': 128, 'epochs': 100}\n",
      "0.025244 (0.007058) with: {'batch_size': 256, 'epochs': 20}\n",
      "0.026382 (0.008336) with: {'batch_size': 256, 'epochs': 50}\n",
      "0.032360 (0.014935) with: {'batch_size': 256, 'epochs': 100}\n"
     ]
    }
   ],
   "source": [
    "# Function to build the model, required for KerasClassifier\n",
    "def build_model():\n",
    "    model = models.Sequential()\n",
    "    model.add(layers.Dense(64, activation='relu', input_shape=(X_train.shape[1],)))\n",
    "    model.add(layers.Dense(64, activation='relu'))\n",
    "    model.add(layers.Dense(32, activation='relu'))    \n",
    "    model.add(layers.Dense(16, activation='relu'))\n",
    "    model.add(layers.Dense(1))\n",
    "    model.compile(optimizer='adam', loss='mse', metrics=['mae', 'accuracy'])\n",
    "    return model\n",
    "\n",
    "# create model\n",
    "model = KerasClassifier(build_fn=build_model, verbose=0)\n",
    "\n",
    "# search for best batch size and number of epochs \n",
    "# define the grid search parameters\n",
    "batch_size = [32,64,128,256]\n",
    "epochs = [20,50,100]\n",
    "\n",
    "param_grid = dict(batch_size=batch_size, epochs=epochs)\n",
    "grid = GridSearchCV(estimator=model, param_grid=param_grid, n_jobs=1, cv=3)\n",
    "\n",
    "# run grid search \n",
    "grid_result = grid.fit(X, y)\n",
    "\n",
    "# summarize results\n",
    "print(\"Best: %f using %s\" % (grid_result.best_score_, grid_result.best_params_))\n",
    "\n",
    "means = grid_result.cv_results_['mean_test_score']\n",
    "stds = grid_result.cv_results_['std_test_score']\n",
    "params = grid_result.cv_results_['params']\n",
    "for mean, stdev, param in zip(means, stds, params):\n",
    "    print(\"%f (%f) with: %r\" % (mean, stdev, param))"
   ]
  },
  {
   "cell_type": "code",
   "execution_count": 15,
   "metadata": {},
   "outputs": [
    {
     "name": "stdout",
     "output_type": "stream",
     "text": [
      "ON TEST DATA:\n",
      "MAE  10.397414964588961\n",
      "MSE  429.3300117374267\n",
      "R2  0.7647135348148587\n"
     ]
    }
   ],
   "source": [
    "# check metrics for results of the first grid search for epochs and the batch size \n",
    "scaler = StandardScaler()\n",
    "\n",
    "def build_model():\n",
    "    model = models.Sequential()\n",
    "    model.add(layers.Dense(64, activation='relu', input_shape=(X_train.shape[1],)))\n",
    "    model.add(layers.Dense(64, activation='relu'))\n",
    "    model.add(layers.Dense(32, activation='relu'))\n",
    "    model.add(layers.Dense(16, activation='relu'))\n",
    "    model.add(layers.Dense(1))\n",
    "    model.compile(optimizer='adam', loss='mse', metrics=['mae','mse'])\n",
    "    return model\n",
    "\n",
    "model = build_model()\n",
    "\n",
    "# use result of grid search for epochs and batch size \n",
    "history = model.fit(scaler.fit_transform(X_train),y_train,epochs=100,batch_size=32,verbose=0)\n",
    "\n",
    "pred = model.predict(scaler.fit_transform(X_test))\n",
    "print(\"ON TEST DATA:\")\n",
    "print(\"MAE \",mean_absolute_error(y_test,pred))\n",
    "print(\"MSE \",mean_squared_error(y_test,pred))\n",
    "print(\"R2 \",r2_score(y_test,pred))"
   ]
  },
  {
   "cell_type": "markdown",
   "metadata": {},
   "source": [
    "---> Metrics became better"
   ]
  },
  {
   "cell_type": "code",
   "execution_count": 16,
   "metadata": {},
   "outputs": [
    {
     "name": "stdout",
     "output_type": "stream",
     "text": [
      "Best: 0.043663 using {'optimizer': 'Nadam'}\n",
      "0.000000 (0.000000) with: {'optimizer': 'SGD'}\n",
      "0.032990 (0.011372) with: {'optimizer': 'RMSprop'}\n",
      "0.028633 (0.007267) with: {'optimizer': 'Adagrad'}\n",
      "0.031416 (0.012930) with: {'optimizer': 'Adadelta'}\n",
      "0.036475 (0.010025) with: {'optimizer': 'Adam'}\n",
      "0.040590 (0.007295) with: {'optimizer': 'Adamax'}\n",
      "0.043663 (0.010626) with: {'optimizer': 'Nadam'}\n"
     ]
    }
   ],
   "source": [
    "# Function to create model, required for KerasClassifier\n",
    "def build_model(optimizer=\"adam\"):\n",
    "    model = models.Sequential()\n",
    "    model.add(layers.Dense(64, activation='relu', input_shape=(X_train.shape[1],)))\n",
    "    model.add(layers.Dense(64, activation='relu'))\n",
    "    model.add(layers.Dense(32, activation='relu'))    \n",
    "    model.add(layers.Dense(16, activation='relu'))\n",
    "    model.add(layers.Dense(1))\n",
    "    model.compile(optimizer=optimizer, loss='mse', metrics=['mae','accuracy'])\n",
    "    return model\n",
    "\n",
    "model = KerasClassifier(build_fn=build_model, epochs=100, batch_size=32, verbose=0)\n",
    "\n",
    "# define the grid search parameters for optimizer \n",
    "optimizer = ['SGD', 'RMSprop', 'Adagrad', 'Adadelta', 'Adam', 'Adamax', 'Nadam']\n",
    "param_grid = dict(optimizer=optimizer)\n",
    "grid = GridSearchCV(estimator=model, param_grid=param_grid, n_jobs=1, cv=3)\n",
    "grid_result = grid.fit(X, y)\n",
    "\n",
    "# summarize results\n",
    "print(\"Best: %f using %s\" % (grid_result.best_score_, grid_result.best_params_))\n",
    "means = grid_result.cv_results_['mean_test_score']\n",
    "stds = grid_result.cv_results_['std_test_score']\n",
    "params = grid_result.cv_results_['params']\n",
    "for mean, stdev, param in zip(means, stds, params):\n",
    "    print(\"%f (%f) with: %r\" % (mean, stdev, param))"
   ]
  },
  {
   "cell_type": "code",
   "execution_count": 17,
   "metadata": {},
   "outputs": [
    {
     "name": "stdout",
     "output_type": "stream",
     "text": [
      "ON TEST DATA:\n",
      "MAE  10.694759520776525\n",
      "MSE  462.02871920501605\n",
      "R2  0.7467936058887686\n"
     ]
    }
   ],
   "source": [
    "scaler = StandardScaler()\n",
    "\n",
    "def build_model():\n",
    "    model = models.Sequential()\n",
    "    model.add(layers.Dense(64, activation='relu', input_shape=(X_train.shape[1],)))\n",
    "    model.add(layers.Dense(64, activation='relu'))\n",
    "    model.add(layers.Dense(32, activation='relu'))\n",
    "    model.add(layers.Dense(16, activation='relu'))\n",
    "    model.add(layers.Dense(1))\n",
    "    model.compile(optimizer='nadam', loss='mse', metrics=['mae','mse']) #set the new optimizer \n",
    "    return model\n",
    "\n",
    "model = build_model()\n",
    "\n",
    "# use results of grid search for epochs and batch size \n",
    "history = model.fit(scaler.fit_transform(X_train),y_train,epochs=100,batch_size=32,verbose=0)\n",
    "\n",
    "pred = model.predict(scaler.fit_transform(X_test))\n",
    "print(\"ON TEST DATA:\")\n",
    "print(\"MAE \",mean_absolute_error(y_test,pred))\n",
    "print(\"MSE \",mean_squared_error(y_test,pred))\n",
    "print(\"R2 \",r2_score(y_test,pred))"
   ]
  },
  {
   "cell_type": "markdown",
   "metadata": {},
   "source": [
    "# Varying Hexagon resolution and periods"
   ]
  },
  {
   "cell_type": "code",
   "execution_count": 18,
   "metadata": {},
   "outputs": [],
   "source": [
    "# read in transformed trip data \n",
    "bonn_trips = pd.read_csv(\"Data/bonn_trips.csv\", index_col=0)\n",
    "\n",
    "# drop columns that were created in Data Preparation / new hexagon resolutions will be created below \n",
    "bonn_trips.drop([\"h3_hex_id\"],axis=1, inplace =True) "
   ]
  },
  {
   "cell_type": "code",
   "execution_count": 19,
   "metadata": {},
   "outputs": [],
   "source": [
    "def centroid(h3hexId):\n",
    "    vertexes = h3.h3_to_geo_boundary(h3hexId)\n",
    "    _x_list = [vertex [0] for vertex in vertexes]\n",
    "    _y_list = [vertex [1] for vertex in vertexes]\n",
    "    _len = len(vertexes)\n",
    "    _x = sum(_x_list) / _len\n",
    "    _y = sum(_y_list) / _len\n",
    "    return _x, _y\n",
    "\n",
    "# function to prepare/aggregate the demand data regarding to the hex_resolution and period_length\n",
    "def prepareDemandData(hex_resolution=8, periodLength=6, trips=bonn_trips): \n",
    "    \"\"\"\n",
    "    periodLength = 24h / 6h / 2h / 1h\n",
    "    hex_resolution = 5 / 6 / 7 / 8 / 9 \n",
    "    \"\"\"\n",
    "    trips[\"h3_hex_id\"] = trips.apply(lambda row: h3.geo_to_h3(row[\"latitude_start\"], row[\"longitude_start\"], \n",
    "                                                                        hex_resolution) if (row['latitude_start'] and row['longitude_start']) else 0, axis=1)\n",
    "    \n",
    "    trips[\"center\"] = trips[\"h3_hex_id\"].apply(lambda x: centroid(x))\n",
    "    trips[\"center_x\"] = trips[\"center\"].apply(lambda x: x[0])\n",
    "    trips[\"center_y\"]  = trips[\"center\"].apply(lambda x: x[1])\n",
    "    \n",
    "    trips['time_basket'] = trips['hour'].apply(lambda x: x//periodLength+1)\n",
    "    \n",
    "    # grouped dataframe by following feature - \n",
    "    # sums up the number of trips for each hex, month, day, timebasket \n",
    "    grouped_trips = pd.DataFrame(trips.groupby(['h3_hex_id','month', 'day',\"time_basket\", \"weekend\", \"weekday\",\"center_x\",\"center_y\"], as_index = False).size())\n",
    "    grouped_trips.rename({0:\"Demand\"},axis=1, inplace=True )\n",
    "    grouped_trips.reset_index(inplace=True)\n",
    "\n",
    "    # grouped dataframe to calculate the mean of the temperatur and the distance to the next station per day and timebasket \n",
    "    grouped_weather = pd.DataFrame(trips.groupby(['time_basket', 'h3_hex_id', 'month', 'day'], as_index = False).mean())\n",
    "    grouped_weather.reset_index(inplace=True)\n",
    "    grouped_weather = grouped_weather[['time_basket', 'h3_hex_id', 'month', 'day',\"temperature °C\",\"precipitaion_level (mm)\",\"distance_next_station\"]]\n",
    "\n",
    "    # grouped dataframe to get \"precipitation y/n\" for the group\n",
    "    grouped_rain_bool = pd.DataFrame(trips.groupby(['time_basket', 'h3_hex_id', 'month', 'day'], as_index = False).max())\n",
    "    grouped_rain_bool.reset_index(inplace=True)\n",
    "    grouped_rain_bool = grouped_rain_bool[['time_basket', 'h3_hex_id', 'month', 'day',\"precipitation y/n\"]]\n",
    "    \n",
    "    # group by hex, month, day and timebasket \n",
    "    # use the value for the land features that occurs most often within one group\n",
    "    grouped_land_use = pd.DataFrame(trips.groupby(['h3_hex_id','month', 'day', 'time_basket'], as_index = False)\n",
    "                                    ['urban_fabric', 'discontinuous_urban_fabric', 'continuous_urban_fabric','industry_commercial', \n",
    "                                     'green_urban_area', 'agricultural_area', 'forest', 'water_courses'].agg(lambda x:x.value_counts().index[0]))\n",
    "    grouped_land_use.reset_index(inplace=True,drop=True)\n",
    "\n",
    "    # merge mean temperature with the demands \n",
    "    df_demand = grouped_trips.merge(grouped_weather, on=['time_basket', 'h3_hex_id', 'month', 'day'], how=\"inner\")\n",
    "\n",
    "    # merge to get value for precipitation as a boolean value \n",
    "    df_demand = df_demand.merge(grouped_rain_bool, on=['time_basket', 'h3_hex_id', 'month', 'day'], how=\"inner\")\n",
    "\n",
    "    # merge to get the correct values for the land features\n",
    "    df_demand = df_demand.merge(grouped_land_use,on=['time_basket', 'h3_hex_id', 'month', 'day'], how=\"inner\")\n",
    "\n",
    "    # final dataframe to predict the demand per hexagon, ... \n",
    "    df_demand[\"weekend\"] = df_demand[\"weekend\"].apply(lambda x : 1 if x else 0)\n",
    "\n",
    "    # fill incorrect values with mean values of the corresponding month\n",
    "    temp_means = df_demand[df_demand[\"temperature °C\"] >= -25].groupby([\"month\"]).mean()[[\"temperature °C\"]]\n",
    "    for i, row in df_demand.iterrows():     \n",
    "        if row[\"temperature °C\"] < -25: # lowest temperature in Germany in 2019 was about -20° Celsius \n",
    "            df_demand.at[i, \"temperature °C\"] = temp_means.iloc[row[\"month\"]]     \n",
    "\n",
    "    # create new feature for better prediction results \n",
    "    # distances from the center of the hexagons to the CentralStation / University \n",
    "    df_demand[\"distanceToCentralStation\"] = df_demand[[\"center_x\",\"center_y\"]].apply(\n",
    "        lambda x: vincenty([x[0], x[1]], [50.731944, 7.096944]), axis=1)\n",
    "    df_demand[\"distanceToUniversity\"] = df_demand[[\"center_x\",\"center_y\"]].apply(\n",
    "        lambda x: vincenty([x[0], x[1]], [50.72682, 7.0888]), axis=1)        \n",
    "    \n",
    "    return df_demand\n",
    "    "
   ]
  },
  {
   "cell_type": "markdown",
   "metadata": {},
   "source": [
    "We will continue with the following deep neural network. \n",
    "- input layer: 14 nodes (14 input features)\n",
    "- first hidden layer: 64 nodes\n",
    "- second hidden layer: 32 nodes\n",
    "- third hidden layer: 16 nodes\n",
    "- all of them use 'ReLu' as activation function \n",
    "- output layer: 1 node due to a regression task \n",
    "- optimizer: nadam \n"
   ]
  },
  {
   "cell_type": "code",
   "execution_count": 20,
   "metadata": {},
   "outputs": [],
   "source": [
    "def build_model():\n",
    "    model = models.Sequential()\n",
    "    model.add(layers.Dense(64, activation='relu', input_shape=(X_train.shape[1],)))\n",
    "    model.add(layers.Dense(64, activation='relu'))\n",
    "    model.add(layers.Dense(32, activation='relu'))    \n",
    "    model.add(layers.Dense(16, activation='relu'))\n",
    "    model.add(layers.Dense(1))\n",
    "    model.compile(optimizer='nadam', loss='mse', metrics=['mae','mse'])\n",
    "    return model"
   ]
  },
  {
   "cell_type": "markdown",
   "metadata": {},
   "source": [
    "### Hexagon resolution = 5 "
   ]
  },
  {
   "cell_type": "markdown",
   "metadata": {},
   "source": [
    "###### Period length = 1"
   ]
  },
  {
   "cell_type": "code",
   "execution_count": 36,
   "metadata": {},
   "outputs": [],
   "source": [
    "df = prepareDemandData(hex_resolution=5,periodLength=1)\n",
    "X = df[[\"time_basket\",\"month\",\"center_x\",\"center_y\",\"day\", \"weekend\", \"weekday\", \"temperature °C\",\n",
    "              \"distanceToCentralStation\",\"distanceToUniversity\",\"distance_next_station\", \"urban_fabric\",\n",
    "              \"industry_commercial\", \"green_urban_area\"]]\n",
    "y = df[[\"Demand\"]]\n",
    "X_train , X_test , y_train, y_test = train_test_split(X, y, test_size = 0.3,random_state=0)\n",
    "\n",
    "X_train_scaled = scaler.fit_transform(X_train)\n",
    "X_test_scaled = scaler.fit_transform(X_test)"
   ]
  },
  {
   "cell_type": "code",
   "execution_count": 37,
   "metadata": {
    "scrolled": false
   },
   "outputs": [
    {
     "data": {
      "image/png": "[encoded data removed]",
      "text/plain": [
       "<Figure size 864x576 with 1 Axes>"
      ]
     },
     "metadata": {
      "needs_background": "light"
     },
     "output_type": "display_data"
    },
    {
     "name": "stdout",
     "output_type": "stream",
     "text": [
      "HEX resolution = 5 & period length = 1\n",
      "ON TRAINING DATA:\n",
      "MAE  19.894114054657543\n",
      "MSE  2374.95581686282\n",
      "R2  0.6116057603113569\n",
      "\n",
      "\n",
      "ON TEST DATA:\n",
      "MAE  21.070933962776742\n",
      "MSE  3244.88752907534\n",
      "R2  0.5537467356061159\n"
     ]
    }
   ],
   "source": [
    "model = build_model()\n",
    "history = model.fit(X_train_scaled,y_train,epochs=50,batch_size=128,verbose=0)\n",
    "\n",
    "plt.figure(figsize=(12,8))\n",
    "mae = history.history['mae']\n",
    "mse = history.history[\"mse\"]\n",
    "epochs = range(1, len(mae) + 1)\n",
    "plt.plot(epochs, mae, 'b', label='MAE')\n",
    "plt.plot(epochs, np.sqrt(mse), 'r', label=\"RMSE\")\n",
    "plt.title('Progress of MAE / RMSE over epochs')\n",
    "plt.xlabel('Epochs')\n",
    "plt.ylabel('Error')\n",
    "plt.legend()\n",
    "plt.show()\n",
    "\n",
    "print(\"HEX resolution = 5 & period length = 1\")\n",
    "pred = model.predict(X_train_scaled)\n",
    "print(\"ON TRAINING DATA:\")\n",
    "print(\"MAE \", mean_absolute_error(y_train,pred))\n",
    "print(\"MSE \", mean_squared_error(y_train,pred))\n",
    "print(\"R2 \", r2_score(y_train,pred))\n",
    "print(\"\\n\")\n",
    "\n",
    "pred = model.predict(X_test_scaled)\n",
    "print(\"ON TEST DATA:\")\n",
    "print(\"MAE \",mean_absolute_error(y_test,pred))\n",
    "print(\"MSE \",mean_squared_error(y_test,pred))\n",
    "print(\"R2 \",r2_score(y_test,pred))"
   ]
  },
  {
   "cell_type": "markdown",
   "metadata": {},
   "source": [
    "###### Period Length = 2"
   ]
  },
  {
   "cell_type": "code",
   "execution_count": 38,
   "metadata": {},
   "outputs": [
    {
     "name": "stdout",
     "output_type": "stream",
     "text": [
      "HEX resolution = 5 & period length = 2\n",
      "ON TRAINING DATA:\n",
      "MAE  34.06803249172214\n",
      "MSE  6739.1099560211605\n",
      "R2  0.6323533264078172\n",
      "\n",
      "\n",
      "ON TEST DATA:\n",
      "MAE  38.69898795289183\n",
      "MSE  8861.250491584244\n",
      "R2  0.5776412396759382\n"
     ]
    }
   ],
   "source": [
    "df = prepareDemandData(hex_resolution=5,periodLength=2)\n",
    "X = df[[\"time_basket\",\"month\",\"center_x\",\"center_y\",\"day\", \"weekend\", \"weekday\", \"temperature °C\",\n",
    "              \"distanceToCentralStation\",\"distanceToUniversity\",\"distance_next_station\", \"urban_fabric\",\n",
    "              \"industry_commercial\", \"green_urban_area\"]]\n",
    "y = df[[\"Demand\"]]\n",
    "X_train , X_test , y_train, y_test = train_test_split(X, y, test_size = 0.3,random_state=0)\n",
    "\n",
    "X_train_scaled = scaler.fit_transform(X_train)\n",
    "X_test_scaled = scaler.fit_transform(X_test)\n",
    "\n",
    "model = build_model()\n",
    "history = model.fit(X_train_scaled,y_train,epochs=50,batch_size=128,verbose=0)\n",
    "\n",
    "print(\"HEX resolution = 5 & period length = 2\")\n",
    "pred = model.predict(X_train_scaled)\n",
    "print(\"ON TRAINING DATA:\")\n",
    "print(\"MAE \", mean_absolute_error(y_train,pred))\n",
    "print(\"MSE \", mean_squared_error(y_train,pred))\n",
    "print(\"R2 \", r2_score(y_train,pred))\n",
    "print(\"\\n\")\n",
    "\n",
    "pred = model.predict(X_test_scaled)\n",
    "print(\"ON TEST DATA:\")\n",
    "print(\"MAE \",mean_absolute_error(y_test,pred))\n",
    "print(\"MSE \",mean_squared_error(y_test,pred))\n",
    "print(\"R2 \",r2_score(y_test,pred))"
   ]
  },
  {
   "cell_type": "markdown",
   "metadata": {},
   "source": [
    "###### Period Length = 6"
   ]
  },
  {
   "cell_type": "code",
   "execution_count": 39,
   "metadata": {},
   "outputs": [],
   "source": [
    "df = prepareDemandData(hex_resolution=5,periodLength=6)\n",
    "X = df[[\"time_basket\",\"month\",\"center_x\",\"center_y\",\"day\", \"weekend\", \"weekday\", \"temperature °C\",\n",
    "              \"distanceToCentralStation\",\"distanceToUniversity\",\"distance_next_station\", \"urban_fabric\",\n",
    "              \"industry_commercial\", \"green_urban_area\"]]\n",
    "y = df[[\"Demand\"]]\n",
    "X_train , X_test , y_train, y_test = train_test_split(X, y, test_size = 0.3,random_state=0)\n",
    "\n",
    "X_train_scaled = scaler.fit_transform(X_train)\n",
    "X_test_scaled = scaler.fit_transform(X_test)"
   ]
  },
  {
   "cell_type": "code",
   "execution_count": 40,
   "metadata": {
    "scrolled": false
   },
   "outputs": [
    {
     "data": {
      "image/png": "[encoded data removed]",
      "text/plain": [
       "<Figure size 864x576 with 1 Axes>"
      ]
     },
     "metadata": {
      "needs_background": "light"
     },
     "output_type": "display_data"
    },
    {
     "name": "stdout",
     "output_type": "stream",
     "text": [
      "HEX resolution = 5 & period length = 6\n",
      "ON TRAINING DATA:\n",
      "MAE  74.20037189318725\n",
      "MSE  33828.01175021492\n",
      "R2  0.7047703045961822\n",
      "\n",
      "\n",
      "ON TEST DATA:\n",
      "MAE  75.72824134583264\n",
      "MSE  32137.879491237887\n",
      "R2  0.7328475379568116\n"
     ]
    }
   ],
   "source": [
    "model = build_model()\n",
    "history = model.fit(X_train_scaled,y_train,epochs=50,batch_size=128,verbose=0)\n",
    "\n",
    "plt.figure(figsize=(12,8))\n",
    "mae = history.history['mae']\n",
    "mse = history.history[\"mse\"]\n",
    "epochs = range(1, len(mae) + 1)\n",
    "plt.plot(epochs, mae, 'b', label='MAE')\n",
    "plt.plot(epochs, np.sqrt(mse), 'r', label=\"RMSE\")\n",
    "plt.title('Progress of MAE / RMSE over epochs')\n",
    "plt.xlabel('Epochs')\n",
    "plt.ylabel('Error')\n",
    "plt.legend()\n",
    "plt.show()\n",
    "\n",
    "print(\"HEX resolution = 5 & period length = 6\")\n",
    "pred = model.predict(X_train_scaled)\n",
    "print(\"ON TRAINING DATA:\")\n",
    "print(\"MAE \", mean_absolute_error(y_train,pred))\n",
    "print(\"MSE \", mean_squared_error(y_train,pred))\n",
    "print(\"R2 \", r2_score(y_train,pred))\n",
    "print(\"\\n\")\n",
    "\n",
    "pred = model.predict(X_test_scaled)\n",
    "print(\"ON TEST DATA:\")\n",
    "print(\"MAE \",mean_absolute_error(y_test,pred))\n",
    "print(\"MSE \",mean_squared_error(y_test,pred))\n",
    "print(\"R2 \",r2_score(y_test,pred))"
   ]
  },
  {
   "cell_type": "code",
   "execution_count": 41,
   "metadata": {
    "scrolled": true
   },
   "outputs": [
    {
     "name": "stdout",
     "output_type": "stream",
     "text": [
      "HEX resolution = 5 & period length = 24\n",
      "ON TRAINING DATA:\n",
      "MAE  248.85580210794103\n",
      "MSE  236728.502291015\n",
      "R2  0.7692264514307923\n",
      "\n",
      "\n",
      "ON TEST DATA:\n",
      "MAE  262.4698000785916\n",
      "MSE  372107.1741866054\n",
      "R2  0.6813428302586457\n"
     ]
    }
   ],
   "source": [
    "df = prepareDemandData(hex_resolution=5,periodLength=24)\n",
    "X = df[[\"time_basket\",\"month\",\"center_x\",\"center_y\",\"day\", \"weekend\", \"weekday\", \"temperature °C\",\n",
    "              \"distanceToCentralStation\",\"distanceToUniversity\",\"distance_next_station\", \"urban_fabric\",\n",
    "              \"industry_commercial\", \"green_urban_area\"]]\n",
    "y = df[[\"Demand\"]]\n",
    "X_train , X_test , y_train, y_test = train_test_split(X, y, test_size = 0.3,random_state=0)\n",
    "\n",
    "X_train_scaled = scaler.fit_transform(X_train)\n",
    "X_test_scaled = scaler.fit_transform(X_test)\n",
    "\n",
    "model = build_model()\n",
    "history = model.fit(X_train_scaled,y_train,epochs=50,batch_size=128,verbose=0)\n",
    "\n",
    "print(\"HEX resolution = 5 & period length = 24\")\n",
    "pred = model.predict(X_train_scaled)\n",
    "print(\"ON TRAINING DATA:\")\n",
    "print(\"MAE \", mean_absolute_error(y_train,pred))\n",
    "print(\"MSE \", mean_squared_error(y_train,pred))\n",
    "print(\"R2 \", r2_score(y_train,pred))\n",
    "print(\"\\n\")\n",
    "\n",
    "pred = model.predict(X_test_scaled)\n",
    "print(\"ON TEST DATA:\")\n",
    "print(\"MAE \",mean_absolute_error(y_test,pred))\n",
    "print(\"MSE \",mean_squared_error(y_test,pred))\n",
    "print(\"R2 \",r2_score(y_test,pred))"
   ]
  },
  {
   "cell_type": "markdown",
   "metadata": {},
   "source": [
    "### Hexagon resolution = 6"
   ]
  },
  {
   "cell_type": "code",
   "execution_count": 42,
   "metadata": {},
   "outputs": [
    {
     "name": "stdout",
     "output_type": "stream",
     "text": [
      "HEX resolution = 1 & period length = 1\n",
      "ON TRAINING DATA:\n",
      "MAE  10.339493229034568\n",
      "MSE  760.3738781031374\n",
      "R2  0.6837693358790966\n",
      "\n",
      "\n",
      "ON TEST DATA:\n",
      "MAE  11.016148714200192\n",
      "MSE  929.5702707920885\n",
      "R2  0.5888967479072267\n"
     ]
    }
   ],
   "source": [
    "df = prepareDemandData(hex_resolution=6,periodLength=1)\n",
    "X = df[[\"time_basket\",\"month\",\"center_x\",\"center_y\",\"day\", \"weekend\", \"weekday\", \"temperature °C\",\n",
    "              \"distanceToCentralStation\",\"distanceToUniversity\",\"distance_next_station\", \"urban_fabric\",\n",
    "              \"industry_commercial\", \"green_urban_area\"]]\n",
    "y = df[[\"Demand\"]]\n",
    "X_train , X_test , y_train, y_test = train_test_split(X, y, test_size = 0.3,random_state=0)\n",
    "\n",
    "X_train_scaled = scaler.fit_transform(X_train)\n",
    "X_test_scaled = scaler.fit_transform(X_test)\n",
    "\n",
    "model = build_model()\n",
    "history = model.fit(X_train_scaled,y_train,epochs=50,batch_size=128,verbose=0)\n",
    "\n",
    "print(\"HEX resolution = 1 & period length = 1\")\n",
    "pred = model.predict(X_train_scaled)\n",
    "print(\"ON TRAINING DATA:\")\n",
    "print(\"MAE \", mean_absolute_error(y_train,pred))\n",
    "print(\"MSE \", mean_squared_error(y_train,pred))\n",
    "print(\"R2 \", r2_score(y_train,pred))\n",
    "print(\"\\n\")\n",
    "\n",
    "pred = model.predict(X_test_scaled)\n",
    "print(\"ON TEST DATA:\")\n",
    "print(\"MAE \",mean_absolute_error(y_test,pred))\n",
    "print(\"MSE \",mean_squared_error(y_test,pred))\n",
    "print(\"R2 \",r2_score(y_test,pred))"
   ]
  },
  {
   "cell_type": "code",
   "execution_count": 43,
   "metadata": {},
   "outputs": [
    {
     "name": "stdout",
     "output_type": "stream",
     "text": [
      "HEX resolution = 6 & period length = 2\n",
      "ON TRAINING DATA:\n",
      "MAE  16.047815458439988\n",
      "MSE  2215.982642899079\n",
      "R2  0.6939773769453896\n",
      "\n",
      "\n",
      "ON TEST DATA:\n",
      "MAE  16.54085075875944\n",
      "MSE  2010.2129065856666\n",
      "R2  0.6595018732304897\n"
     ]
    }
   ],
   "source": [
    "df = prepareDemandData(hex_resolution=6,periodLength=2)\n",
    "X = df[[\"time_basket\",\"month\",\"center_x\",\"center_y\",\"day\", \"weekend\", \"weekday\", \"temperature °C\",\n",
    "              \"distanceToCentralStation\",\"distanceToUniversity\",\"distance_next_station\", \"urban_fabric\",\n",
    "              \"industry_commercial\", \"green_urban_area\"]]\n",
    "y = df[[\"Demand\"]]\n",
    "X_train , X_test , y_train, y_test = train_test_split(X, y, test_size = 0.3,random_state=0)\n",
    "\n",
    "X_train_scaled = scaler.fit_transform(X_train)\n",
    "X_test_scaled = scaler.fit_transform(X_test)\n",
    "\n",
    "model = build_model()\n",
    "history = model.fit(X_train_scaled,y_train,epochs=50,batch_size=128,verbose=0)\n",
    "\n",
    "print(\"HEX resolution = 6 & period length = 2\")\n",
    "pred = model.predict(X_train_scaled)\n",
    "print(\"ON TRAINING DATA:\")\n",
    "print(\"MAE \", mean_absolute_error(y_train,pred))\n",
    "print(\"MSE \", mean_squared_error(y_train,pred))\n",
    "print(\"R2 \", r2_score(y_train,pred))\n",
    "print(\"\\n\")\n",
    "\n",
    "pred = model.predict(X_test_scaled)\n",
    "print(\"ON TEST DATA:\")\n",
    "print(\"MAE \",mean_absolute_error(y_test,pred))\n",
    "print(\"MSE \",mean_squared_error(y_test,pred))\n",
    "print(\"R2 \",r2_score(y_test,pred))"
   ]
  },
  {
   "cell_type": "code",
   "execution_count": 44,
   "metadata": {},
   "outputs": [
    {
     "name": "stdout",
     "output_type": "stream",
     "text": [
      "HEX resolution = 6 & period length = 6\n",
      "ON TRAINING DATA:\n",
      "MAE  30.40956344724157\n",
      "MSE  7876.868312372953\n",
      "R2  0.8097648962414039\n",
      "\n",
      "\n",
      "ON TEST DATA:\n",
      "MAE  34.81740913231219\n",
      "MSE  10817.037672244829\n",
      "R2  0.744432580478154\n"
     ]
    }
   ],
   "source": [
    "df = prepareDemandData(hex_resolution=6,periodLength=6)\n",
    "X = df[[\"time_basket\",\"month\",\"center_x\",\"center_y\",\"day\", \"weekend\", \"weekday\", \"temperature °C\",\n",
    "              \"distanceToCentralStation\",\"distanceToUniversity\",\"distance_next_station\", \"urban_fabric\",\n",
    "              \"industry_commercial\", \"green_urban_area\"]]\n",
    "y = df[[\"Demand\"]]\n",
    "X_train , X_test , y_train, y_test = train_test_split(X, y, test_size = 0.3,random_state=0)\n",
    "\n",
    "X_train_scaled = scaler.fit_transform(X_train)\n",
    "X_test_scaled = scaler.fit_transform(X_test)\n",
    "\n",
    "model = build_model()\n",
    "history = model.fit(X_train_scaled,y_train,epochs=50,batch_size=128,verbose=0)\n",
    "\n",
    "print(\"HEX resolution = 6 & period length = 6\")\n",
    "pred = model.predict(X_train_scaled)\n",
    "print(\"ON TRAINING DATA:\")\n",
    "print(\"MAE \", mean_absolute_error(y_train,pred))\n",
    "print(\"MSE \", mean_squared_error(y_train,pred))\n",
    "print(\"R2 \", r2_score(y_train,pred))\n",
    "print(\"\\n\")\n",
    "\n",
    "pred = model.predict(X_test_scaled)\n",
    "print(\"ON TEST DATA:\")\n",
    "print(\"MAE \",mean_absolute_error(y_test,pred))\n",
    "print(\"MSE \",mean_squared_error(y_test,pred))\n",
    "print(\"R2 \",r2_score(y_test,pred))"
   ]
  },
  {
   "cell_type": "code",
   "execution_count": 45,
   "metadata": {},
   "outputs": [
    {
     "name": "stdout",
     "output_type": "stream",
     "text": [
      "HEX resolution = 6 & period length = 24\n",
      "ON TRAINING DATA:\n",
      "MAE  107.87375252520889\n",
      "MSE  69929.00052922253\n",
      "R2  0.8351268918864113\n",
      "\n",
      "\n",
      "ON TEST DATA:\n",
      "MAE  100.28366170684583\n",
      "MSE  49978.10947277717\n",
      "R2  0.8849300075254836\n"
     ]
    }
   ],
   "source": [
    "df = prepareDemandData(hex_resolution=6,periodLength=24)\n",
    "X = df[[\"time_basket\",\"month\",\"center_x\",\"center_y\",\"day\", \"weekend\", \"weekday\", \"temperature °C\",\n",
    "              \"distanceToCentralStation\",\"distanceToUniversity\",\"distance_next_station\", \"urban_fabric\",\n",
    "              \"industry_commercial\", \"green_urban_area\"]]\n",
    "y = df[[\"Demand\"]]\n",
    "X_train , X_test , y_train, y_test = train_test_split(X, y, test_size = 0.3,random_state=0)\n",
    "\n",
    "X_train_scaled = scaler.fit_transform(X_train)\n",
    "X_test_scaled = scaler.fit_transform(X_test)\n",
    "\n",
    "model = build_model()\n",
    "history = model.fit(X_train_scaled,y_train,epochs=50,batch_size=128,verbose=0)\n",
    "\n",
    "print(\"HEX resolution = 6 & period length = 24\")\n",
    "pred = model.predict(X_train_scaled)\n",
    "print(\"ON TRAINING DATA:\")\n",
    "print(\"MAE \", mean_absolute_error(y_train,pred))\n",
    "print(\"MSE \", mean_squared_error(y_train,pred))\n",
    "print(\"R2 \", r2_score(y_train,pred))\n",
    "print(\"\\n\")\n",
    "\n",
    "pred = model.predict(X_test_scaled)\n",
    "print(\"ON TEST DATA:\")\n",
    "print(\"MAE \",mean_absolute_error(y_test,pred))\n",
    "print(\"MSE \",mean_squared_error(y_test,pred))\n",
    "print(\"R2 \",r2_score(y_test,pred))"
   ]
  },
  {
   "cell_type": "markdown",
   "metadata": {},
   "source": [
    "### Hexagon resolution = 7"
   ]
  },
  {
   "cell_type": "code",
   "execution_count": 46,
   "metadata": {},
   "outputs": [
    {
     "name": "stdout",
     "output_type": "stream",
     "text": [
      "HEX resolution = 7 & period length = 1\n",
      "ON TRAINING DATA:\n",
      "MAE  4.094628254718574\n",
      "MSE  69.06781725831927\n",
      "R2  0.607799735890524\n",
      "\n",
      "\n",
      "ON TEST DATA:\n",
      "MAE  4.207514933641905\n",
      "MSE  75.11986638183556\n",
      "R2  0.4971081774838094\n"
     ]
    }
   ],
   "source": [
    "df = prepareDemandData(hex_resolution=7,periodLength=1)\n",
    "X = df[[\"time_basket\",\"month\",\"center_x\",\"center_y\",\"day\", \"weekend\", \"weekday\", \"temperature °C\",\n",
    "              \"distanceToCentralStation\",\"distanceToUniversity\",\"distance_next_station\", \"urban_fabric\",\n",
    "              \"industry_commercial\", \"green_urban_area\"]]\n",
    "y = df[[\"Demand\"]]\n",
    "X_train , X_test , y_train, y_test = train_test_split(X, y, test_size = 0.3,random_state=0)\n",
    "\n",
    "X_train_scaled = scaler.fit_transform(X_train)\n",
    "X_test_scaled = scaler.fit_transform(X_test)\n",
    "\n",
    "model = build_model()\n",
    "history = model.fit(X_train_scaled,y_train,epochs=50,batch_size=128,verbose=0)\n",
    "\n",
    "print(\"HEX resolution = 7 & period length = 1\")\n",
    "pred = model.predict(X_train_scaled)\n",
    "print(\"ON TRAINING DATA:\")\n",
    "print(\"MAE \", mean_absolute_error(y_train,pred))\n",
    "print(\"MSE \", mean_squared_error(y_train,pred))\n",
    "print(\"R2 \", r2_score(y_train,pred))\n",
    "print(\"\\n\")\n",
    "\n",
    "pred = model.predict(X_test_scaled)\n",
    "print(\"ON TEST DATA:\")\n",
    "print(\"MAE \",mean_absolute_error(y_test,pred))\n",
    "print(\"MSE \",mean_squared_error(y_test,pred))\n",
    "print(\"R2 \",r2_score(y_test,pred))"
   ]
  },
  {
   "cell_type": "code",
   "execution_count": 47,
   "metadata": {},
   "outputs": [
    {
     "name": "stdout",
     "output_type": "stream",
     "text": [
      "HEX resolution = 7 & period length = 2\n",
      "ON TRAINING DATA:\n",
      "MAE  6.502989929109799\n",
      "MSE  143.83176035638434\n",
      "R2  0.7030744371043445\n",
      "\n",
      "\n",
      "ON TEST DATA:\n",
      "MAE  6.73938234227716\n",
      "MSE  161.87711793270466\n",
      "R2  0.6160399439164352\n"
     ]
    }
   ],
   "source": [
    "df = prepareDemandData(hex_resolution=7,periodLength=2)\n",
    "X = df[[\"time_basket\",\"month\",\"center_x\",\"center_y\",\"day\", \"weekend\", \"weekday\", \"temperature °C\",\n",
    "              \"distanceToCentralStation\",\"distanceToUniversity\",\"distance_next_station\", \"urban_fabric\",\n",
    "              \"industry_commercial\", \"green_urban_area\"]]\n",
    "y = df[[\"Demand\"]]\n",
    "X_train , X_test , y_train, y_test = train_test_split(X, y, test_size = 0.3,random_state=0)\n",
    "\n",
    "X_train_scaled = scaler.fit_transform(X_train)\n",
    "X_test_scaled = scaler.fit_transform(X_test)\n",
    "\n",
    "model = build_model()\n",
    "history = model.fit(X_train_scaled,y_train,epochs=50,batch_size=128,verbose=0)\n",
    "\n",
    "print(\"HEX resolution = 7 & period length = 2\")\n",
    "pred = model.predict(X_train_scaled)\n",
    "print(\"ON TRAINING DATA:\")\n",
    "print(\"MAE \", mean_absolute_error(y_train,pred))\n",
    "print(\"MSE \", mean_squared_error(y_train,pred))\n",
    "print(\"R2 \", r2_score(y_train,pred))\n",
    "print(\"\\n\")\n",
    "\n",
    "pred = model.predict(X_test_scaled)\n",
    "print(\"ON TEST DATA:\")\n",
    "print(\"MAE \",mean_absolute_error(y_test,pred))\n",
    "print(\"MSE \",mean_squared_error(y_test,pred))\n",
    "print(\"R2 \",r2_score(y_test,pred))"
   ]
  },
  {
   "cell_type": "code",
   "execution_count": 48,
   "metadata": {},
   "outputs": [
    {
     "name": "stdout",
     "output_type": "stream",
     "text": [
      "HEX resolution = 7 & period length = 6\n",
      "ON TRAINING DATA:\n",
      "MAE  11.991411511940179\n",
      "MSE  670.3006355182633\n",
      "R2  0.7561875710089601\n",
      "\n",
      "\n",
      "ON TEST DATA:\n",
      "MAE  12.675420091026556\n",
      "MSE  704.4023107652587\n",
      "R2  0.7062516345796546\n"
     ]
    }
   ],
   "source": [
    "df = prepareDemandData(hex_resolution=7,periodLength=6)\n",
    "X = df[[\"time_basket\",\"month\",\"center_x\",\"center_y\",\"day\", \"weekend\", \"weekday\", \"temperature °C\",\n",
    "              \"distanceToCentralStation\",\"distanceToUniversity\",\"distance_next_station\", \"urban_fabric\",\n",
    "              \"industry_commercial\", \"green_urban_area\"]]\n",
    "y = df[[\"Demand\"]]\n",
    "X_train , X_test , y_train, y_test = train_test_split(X, y, test_size = 0.3,random_state=0)\n",
    "\n",
    "X_train_scaled = scaler.fit_transform(X_train)\n",
    "X_test_scaled = scaler.fit_transform(X_test)\n",
    "\n",
    "model = build_model()\n",
    "history = model.fit(X_train_scaled,y_train,epochs=50,batch_size=128,verbose=0)\n",
    "\n",
    "print(\"HEX resolution = 7 & period length = 6\")\n",
    "pred = model.predict(X_train_scaled)\n",
    "print(\"ON TRAINING DATA:\")\n",
    "print(\"MAE \", mean_absolute_error(y_train,pred))\n",
    "print(\"MSE \", mean_squared_error(y_train,pred))\n",
    "print(\"R2 \", r2_score(y_train,pred))\n",
    "print(\"\\n\")\n",
    "\n",
    "pred = model.predict(X_test_scaled)\n",
    "print(\"ON TEST DATA:\")\n",
    "print(\"MAE \",mean_absolute_error(y_test,pred))\n",
    "print(\"MSE \",mean_squared_error(y_test,pred))\n",
    "print(\"R2 \",r2_score(y_test,pred))"
   ]
  },
  {
   "cell_type": "code",
   "execution_count": 49,
   "metadata": {},
   "outputs": [
    {
     "name": "stdout",
     "output_type": "stream",
     "text": [
      "HEX resolution = 7 & period length = 24\n",
      "ON TRAINING DATA:\n",
      "MAE  30.52197719744063\n",
      "MSE  3832.4887202883697\n",
      "R2  0.8379550368765151\n",
      "\n",
      "\n",
      "ON TEST DATA:\n",
      "MAE  31.215040605641004\n",
      "MSE  3994.4452082372127\n",
      "R2  0.8282020192369401\n"
     ]
    }
   ],
   "source": [
    "df = prepareDemandData(hex_resolution=7,periodLength=24)\n",
    "X = df[[\"time_basket\",\"month\",\"center_x\",\"center_y\",\"day\", \"weekend\", \"weekday\", \"temperature °C\",\n",
    "              \"distanceToCentralStation\",\"distanceToUniversity\",\"distance_next_station\", \"urban_fabric\",\n",
    "              \"industry_commercial\", \"green_urban_area\"]]\n",
    "y = df[[\"Demand\"]]\n",
    "X_train , X_test , y_train, y_test = train_test_split(X, y, test_size = 0.3,random_state=0)\n",
    "\n",
    "X_train_scaled = scaler.fit_transform(X_train)\n",
    "X_test_scaled = scaler.fit_transform(X_test)\n",
    "\n",
    "model = build_model()\n",
    "history = model.fit(X_train_scaled,y_train,epochs=50,batch_size=128,verbose=0)\n",
    "\n",
    "print(\"HEX resolution = 7 & period length = 24\")\n",
    "pred = model.predict(X_train_scaled)\n",
    "print(\"ON TRAINING DATA:\")\n",
    "print(\"MAE \", mean_absolute_error(y_train,pred))\n",
    "print(\"MSE \", mean_squared_error(y_train,pred))\n",
    "print(\"R2 \", r2_score(y_train,pred))\n",
    "print(\"\\n\")\n",
    "\n",
    "pred = model.predict(X_test_scaled)\n",
    "print(\"ON TEST DATA:\")\n",
    "print(\"MAE \",mean_absolute_error(y_test,pred))\n",
    "print(\"MSE \",mean_squared_error(y_test,pred))\n",
    "print(\"R2 \",r2_score(y_test,pred))"
   ]
  },
  {
   "cell_type": "markdown",
   "metadata": {},
   "source": [
    "### Hexagon resolution = 8"
   ]
  },
  {
   "cell_type": "code",
   "execution_count": 50,
   "metadata": {},
   "outputs": [
    {
     "name": "stdout",
     "output_type": "stream",
     "text": [
      "HEX resolution = 8 & period length = 1\n",
      "ON TRAINING DATA:\n",
      "MAE  1.51143593167555\n",
      "MSE  7.928855924393645\n",
      "R2  0.48522917835411306\n",
      "\n",
      "\n",
      "ON TEST DATA:\n",
      "MAE  1.572394561655714\n",
      "MSE  9.48658773583006\n",
      "R2  0.3834818284824345\n"
     ]
    }
   ],
   "source": [
    "df = prepareDemandData(hex_resolution=8,periodLength=1)\n",
    "X = df[[\"time_basket\",\"month\",\"center_x\",\"center_y\",\"day\", \"weekend\", \"weekday\", \"temperature °C\",\n",
    "              \"distanceToCentralStation\",\"distanceToUniversity\",\"distance_next_station\", \"urban_fabric\",\n",
    "              \"industry_commercial\", \"green_urban_area\"]]\n",
    "y = df[[\"Demand\"]]\n",
    "X_train , X_test , y_train, y_test = train_test_split(X, y, test_size = 0.3,random_state=0)\n",
    "\n",
    "X_train_scaled = scaler.fit_transform(X_train)\n",
    "X_test_scaled = scaler.fit_transform(X_test)\n",
    "\n",
    "model = build_model()\n",
    "history = model.fit(X_train_scaled,y_train,epochs=50,batch_size=128,verbose=0)\n",
    "\n",
    "print(\"HEX resolution = 8 & period length = 1\")\n",
    "pred = model.predict(X_train_scaled)\n",
    "print(\"ON TRAINING DATA:\")\n",
    "print(\"MAE \", mean_absolute_error(y_train,pred))\n",
    "print(\"MSE \", mean_squared_error(y_train,pred))\n",
    "print(\"R2 \", r2_score(y_train,pred))\n",
    "print(\"\\n\")\n",
    "\n",
    "pred = model.predict(X_test_scaled)\n",
    "print(\"ON TEST DATA:\")\n",
    "print(\"MAE \",mean_absolute_error(y_test,pred))\n",
    "print(\"MSE \",mean_squared_error(y_test,pred))\n",
    "print(\"R2 \",r2_score(y_test,pred))"
   ]
  },
  {
   "cell_type": "code",
   "execution_count": 51,
   "metadata": {},
   "outputs": [
    {
     "name": "stdout",
     "output_type": "stream",
     "text": [
      "HEX resolution = 8 & period length = 2\n",
      "ON TRAINING DATA:\n",
      "MAE  2.099100122169144\n",
      "MSE  12.971099769165665\n",
      "R2  0.6491724766561267\n",
      "\n",
      "\n",
      "ON TEST DATA:\n",
      "MAE  2.172075991592443\n",
      "MSE  16.1027200687247\n",
      "R2  0.5876866256971698\n"
     ]
    }
   ],
   "source": [
    "df = prepareDemandData(hex_resolution=8,periodLength=2)\n",
    "X = df[[\"time_basket\",\"month\",\"center_x\",\"center_y\",\"day\", \"weekend\", \"weekday\", \"temperature °C\",\n",
    "              \"distanceToCentralStation\",\"distanceToUniversity\",\"distance_next_station\", \"urban_fabric\",\n",
    "              \"industry_commercial\", \"green_urban_area\"]]\n",
    "y = df[[\"Demand\"]]\n",
    "X_train , X_test , y_train, y_test = train_test_split(X, y, test_size = 0.3,random_state=0)\n",
    "\n",
    "X_train_scaled = scaler.fit_transform(X_train)\n",
    "X_test_scaled = scaler.fit_transform(X_test)\n",
    "\n",
    "model = build_model()\n",
    "history = model.fit(X_train_scaled,y_train,epochs=50,batch_size=128,verbose=0)\n",
    "\n",
    "print(\"HEX resolution = 8 & period length = 2\")\n",
    "pred = model.predict(X_train_scaled)\n",
    "print(\"ON TRAINING DATA:\")\n",
    "print(\"MAE \", mean_absolute_error(y_train,pred))\n",
    "print(\"MSE \", mean_squared_error(y_train,pred))\n",
    "print(\"R2 \", r2_score(y_train,pred))\n",
    "print(\"\\n\")\n",
    "\n",
    "pred = model.predict(X_test_scaled)\n",
    "print(\"ON TEST DATA:\")\n",
    "print(\"MAE \",mean_absolute_error(y_test,pred))\n",
    "print(\"MSE \",mean_squared_error(y_test,pred))\n",
    "print(\"R2 \",r2_score(y_test,pred))"
   ]
  },
  {
   "cell_type": "code",
   "execution_count": 52,
   "metadata": {},
   "outputs": [
    {
     "name": "stdout",
     "output_type": "stream",
     "text": [
      "HEX resolution = 8 & period length = 6\n",
      "ON TRAINING DATA:\n",
      "MAE  3.9260768072690997\n",
      "MSE  45.6822495767511\n",
      "R2  0.7435304876680277\n",
      "\n",
      "\n",
      "ON TEST DATA:\n",
      "MAE  4.117212563294823\n",
      "MSE  57.523277258453376\n",
      "R2  0.6804451159972595\n"
     ]
    }
   ],
   "source": [
    "df = prepareDemandData(hex_resolution=8,periodLength=6)\n",
    "X = df[[\"time_basket\",\"month\",\"center_x\",\"center_y\",\"day\", \"weekend\", \"weekday\", \"temperature °C\",\n",
    "              \"distanceToCentralStation\",\"distanceToUniversity\",\"distance_next_station\", \"urban_fabric\",\n",
    "              \"industry_commercial\", \"green_urban_area\"]]\n",
    "y = df[[\"Demand\"]]\n",
    "X_train , X_test , y_train, y_test = train_test_split(X, y, test_size = 0.3,random_state=0)\n",
    "\n",
    "X_train_scaled = scaler.fit_transform(X_train)\n",
    "X_test_scaled = scaler.fit_transform(X_test)\n",
    "\n",
    "model = build_model()\n",
    "history = model.fit(X_train_scaled,y_train,epochs=50,batch_size=128,verbose=0)\n",
    "\n",
    "print(\"HEX resolution = 8 & period length = 6\")\n",
    "pred = model.predict(X_train_scaled)\n",
    "print(\"ON TRAINING DATA:\")\n",
    "print(\"MAE \", mean_absolute_error(y_train,pred))\n",
    "print(\"MSE \", mean_squared_error(y_train,pred))\n",
    "print(\"R2 \", r2_score(y_train,pred))\n",
    "print(\"\\n\")\n",
    "\n",
    "pred = model.predict(X_test_scaled)\n",
    "print(\"ON TEST DATA:\")\n",
    "print(\"MAE \",mean_absolute_error(y_test,pred))\n",
    "print(\"MSE \",mean_squared_error(y_test,pred))\n",
    "print(\"R2 \",r2_score(y_test,pred))"
   ]
  },
  {
   "cell_type": "code",
   "execution_count": 53,
   "metadata": {},
   "outputs": [
    {
     "name": "stdout",
     "output_type": "stream",
     "text": [
      "HEX resolution = 8 & period length = 24\n",
      "ON TRAINING DATA:\n",
      "MAE  8.71575235891063\n",
      "MSE  257.15358037286495\n",
      "R2  0.8056998200761565\n",
      "\n",
      "\n",
      "ON TEST DATA:\n",
      "MAE  9.160467968334641\n",
      "MSE  338.0159943803135\n",
      "R2  0.7438565840412434\n"
     ]
    }
   ],
   "source": [
    "df = prepareDemandData(hex_resolution=8,periodLength=24)\n",
    "X = df[[\"time_basket\",\"month\",\"center_x\",\"center_y\",\"day\", \"weekend\", \"weekday\", \"temperature °C\",\n",
    "              \"distanceToCentralStation\",\"distanceToUniversity\",\"distance_next_station\", \"urban_fabric\",\n",
    "              \"industry_commercial\", \"green_urban_area\"]]\n",
    "y = df[[\"Demand\"]]\n",
    "X_train , X_test , y_train, y_test = train_test_split(X, y, test_size = 0.3,random_state=0)\n",
    "\n",
    "X_train_scaled = scaler.fit_transform(X_train)\n",
    "X_test_scaled = scaler.fit_transform(X_test)\n",
    "\n",
    "model = build_model()\n",
    "history = model.fit(X_train_scaled,y_train,epochs=50,batch_size=128,verbose=0)\n",
    "\n",
    "print(\"HEX resolution = 8 & period length = 24\")\n",
    "pred = model.predict(X_train_scaled)\n",
    "print(\"ON TRAINING DATA:\")\n",
    "print(\"MAE \", mean_absolute_error(y_train,pred))\n",
    "print(\"MSE \", mean_squared_error(y_train,pred))\n",
    "print(\"R2 \", r2_score(y_train,pred))\n",
    "print(\"\\n\")\n",
    "\n",
    "pred = model.predict(X_test_scaled)\n",
    "print(\"ON TEST DATA:\")\n",
    "print(\"MAE \",mean_absolute_error(y_test,pred))\n",
    "print(\"MSE \",mean_squared_error(y_test,pred))\n",
    "print(\"R2 \",r2_score(y_test,pred))"
   ]
  },
  {
   "cell_type": "markdown",
   "metadata": {},
   "source": [
    "### Hexagon resolution = 9"
   ]
  },
  {
   "cell_type": "code",
   "execution_count": 54,
   "metadata": {},
   "outputs": [
    {
     "name": "stdout",
     "output_type": "stream",
     "text": [
      "HEX resolution = 9 & period length = 1\n",
      "ON TRAINING DATA:\n",
      "MAE  0.6851599091969194\n",
      "MSE  1.3003346522521133\n",
      "R2  0.389304539807542\n",
      "\n",
      "\n",
      "ON TEST DATA:\n",
      "MAE  0.6951312608845714\n",
      "MSE  1.3940805362162\n",
      "R2  0.339204735764587\n"
     ]
    }
   ],
   "source": [
    "df = prepareDemandData(hex_resolution=9,periodLength=1)\n",
    "X = df[[\"time_basket\",\"month\",\"center_x\",\"center_y\",\"day\", \"weekend\", \"weekday\", \"temperature °C\",\n",
    "              \"distanceToCentralStation\",\"distanceToUniversity\",\"distance_next_station\", \"urban_fabric\",\n",
    "              \"industry_commercial\", \"green_urban_area\"]]\n",
    "y = df[[\"Demand\"]]\n",
    "X_train , X_test , y_train, y_test = train_test_split(X, y, test_size = 0.3,random_state=0)\n",
    "\n",
    "X_train_scaled = scaler.fit_transform(X_train)\n",
    "X_test_scaled = scaler.fit_transform(X_test)\n",
    "\n",
    "model = build_model()\n",
    "history = model.fit(X_train_scaled,y_train,epochs=50,batch_size=128,verbose=0)\n",
    "\n",
    "print(\"HEX resolution = 9 & period length = 1\")\n",
    "pred = model.predict(X_train_scaled)\n",
    "print(\"ON TRAINING DATA:\")\n",
    "print(\"MAE \", mean_absolute_error(y_train,pred))\n",
    "print(\"MSE \", mean_squared_error(y_train,pred))\n",
    "print(\"R2 \", r2_score(y_train,pred))\n",
    "print(\"\\n\")\n",
    "\n",
    "pred = model.predict(X_test_scaled)\n",
    "print(\"ON TEST DATA:\")\n",
    "print(\"MAE \",mean_absolute_error(y_test,pred))\n",
    "print(\"MSE \",mean_squared_error(y_test,pred))\n",
    "print(\"R2 \",r2_score(y_test,pred))"
   ]
  },
  {
   "cell_type": "code",
   "execution_count": 55,
   "metadata": {},
   "outputs": [
    {
     "name": "stdout",
     "output_type": "stream",
     "text": [
      "HEX resolution = 9 & period length = 2\n",
      "ON TRAINING DATA:\n",
      "MAE  0.8798831162031383\n",
      "MSE  2.3154485702146608\n",
      "R2  0.48388896559526895\n",
      "\n",
      "\n",
      "ON TEST DATA:\n",
      "MAE  0.8956477546400344\n",
      "MSE  2.529627947300802\n",
      "R2  0.4190011578047229\n"
     ]
    }
   ],
   "source": [
    "df = prepareDemandData(hex_resolution=9,periodLength=2)\n",
    "X = df[[\"time_basket\",\"month\",\"center_x\",\"center_y\",\"day\", \"weekend\", \"weekday\", \"temperature °C\",\n",
    "              \"distanceToCentralStation\",\"distanceToUniversity\",\"distance_next_station\", \"urban_fabric\",\n",
    "              \"industry_commercial\", \"green_urban_area\"]]\n",
    "y = df[[\"Demand\"]]\n",
    "X_train , X_test , y_train, y_test = train_test_split(X, y, test_size = 0.3,random_state=0)\n",
    "\n",
    "X_train_scaled = scaler.fit_transform(X_train)\n",
    "X_test_scaled = scaler.fit_transform(X_test)\n",
    "\n",
    "model = build_model()\n",
    "history = model.fit(X_train_scaled,y_train,epochs=50,batch_size=128,verbose=0)\n",
    "\n",
    "print(\"HEX resolution = 9 & period length = 2\")\n",
    "pred = model.predict(X_train_scaled)\n",
    "print(\"ON TRAINING DATA:\")\n",
    "print(\"MAE \", mean_absolute_error(y_train,pred))\n",
    "print(\"MSE \", mean_squared_error(y_train,pred))\n",
    "print(\"R2 \", r2_score(y_train,pred))\n",
    "print(\"\\n\")\n",
    "\n",
    "pred = model.predict(X_test_scaled)\n",
    "print(\"ON TEST DATA:\")\n",
    "print(\"MAE \",mean_absolute_error(y_test,pred))\n",
    "print(\"MSE \",mean_squared_error(y_test,pred))\n",
    "print(\"R2 \",r2_score(y_test,pred))"
   ]
  },
  {
   "cell_type": "code",
   "execution_count": 56,
   "metadata": {},
   "outputs": [
    {
     "name": "stdout",
     "output_type": "stream",
     "text": [
      "HEX resolution = 9 & period length = 6\n",
      "ON TRAINING DATA:\n",
      "MAE  1.4730535160994238\n",
      "MSE  6.685718037466168\n",
      "R2  0.5827794585396773\n",
      "\n",
      "\n",
      "ON TEST DATA:\n",
      "MAE  1.5094850426886843\n",
      "MSE  7.270291200249497\n",
      "R2  0.5293702621327379\n"
     ]
    }
   ],
   "source": [
    "df = prepareDemandData(hex_resolution=9,periodLength=6)\n",
    "X = df[[\"time_basket\",\"month\",\"center_x\",\"center_y\",\"day\", \"weekend\", \"weekday\", \"temperature °C\",\n",
    "              \"distanceToCentralStation\",\"distanceToUniversity\",\"distance_next_station\", \"urban_fabric\",\n",
    "              \"industry_commercial\", \"green_urban_area\"]]\n",
    "y = df[[\"Demand\"]]\n",
    "X_train , X_test , y_train, y_test = train_test_split(X, y, test_size = 0.3,random_state=0)\n",
    "\n",
    "X_train_scaled = scaler.fit_transform(X_train)\n",
    "X_test_scaled = scaler.fit_transform(X_test)\n",
    "\n",
    "model = build_model()\n",
    "history = model.fit(X_train_scaled,y_train,epochs=50,batch_size=128,verbose=0)\n",
    "\n",
    "print(\"HEX resolution = 9 & period length = 6\")\n",
    "pred = model.predict(X_train_scaled)\n",
    "print(\"ON TRAINING DATA:\")\n",
    "print(\"MAE \", mean_absolute_error(y_train,pred))\n",
    "print(\"MSE \", mean_squared_error(y_train,pred))\n",
    "print(\"R2 \", r2_score(y_train,pred))\n",
    "print(\"\\n\")\n",
    "\n",
    "pred = model.predict(X_test_scaled)\n",
    "print(\"ON TEST DATA:\")\n",
    "print(\"MAE \",mean_absolute_error(y_test,pred))\n",
    "print(\"MSE \",mean_squared_error(y_test,pred))\n",
    "print(\"R2 \",r2_score(y_test,pred))"
   ]
  },
  {
   "cell_type": "code",
   "execution_count": 57,
   "metadata": {},
   "outputs": [
    {
     "name": "stdout",
     "output_type": "stream",
     "text": [
      "HEX resolution = 9 & period length = 24\n",
      "ON TRAINING DATA:\n",
      "MAE  2.9765274781960076\n",
      "MSE  23.95536820441921\n",
      "R2  0.7078428032841908\n",
      "\n",
      "\n",
      "ON TEST DATA:\n",
      "MAE  3.1021300865816595\n",
      "MSE  27.98669726630116\n",
      "R2  0.6498057549239774\n"
     ]
    }
   ],
   "source": [
    "df = prepareDemandData(hex_resolution=9,periodLength=24)\n",
    "X = df[[\"time_basket\",\"month\",\"center_x\",\"center_y\",\"day\", \"weekend\", \"weekday\", \"temperature °C\",\n",
    "              \"distanceToCentralStation\",\"distanceToUniversity\",\"distance_next_station\", \"urban_fabric\",\n",
    "              \"industry_commercial\", \"green_urban_area\"]]\n",
    "y = df[[\"Demand\"]]\n",
    "X_train , X_test , y_train, y_test = train_test_split(X, y, test_size = 0.3,random_state=0)\n",
    "\n",
    "X_train_scaled = scaler.fit_transform(X_train)\n",
    "X_test_scaled = scaler.fit_transform(X_test)\n",
    "\n",
    "model = build_model()\n",
    "history = model.fit(X_train_scaled,y_train,epochs=50,batch_size=128,verbose=0)\n",
    "\n",
    "print(\"HEX resolution = 9 & period length = 24\")\n",
    "pred = model.predict(X_train_scaled)\n",
    "print(\"ON TRAINING DATA:\")\n",
    "print(\"MAE \", mean_absolute_error(y_train,pred))\n",
    "print(\"MSE \", mean_squared_error(y_train,pred))\n",
    "print(\"R2 \", r2_score(y_train,pred))\n",
    "print(\"\\n\")\n",
    "\n",
    "pred = model.predict(X_test_scaled)\n",
    "print(\"ON TEST DATA:\")\n",
    "print(\"MAE \",mean_absolute_error(y_test,pred))\n",
    "print(\"MSE \",mean_squared_error(y_test,pred))\n",
    "print(\"R2 \",r2_score(y_test,pred))"
   ]
  }
 ],
 "metadata": {
  "kernelspec": {
   "display_name": "Python 3",
   "language": "python",
   "name": "python3"
  },
  "language_info": {
   "codemirror_mode": {
    "name": "ipython",
    "version": 3
   },
   "file_extension": ".py",
   "mimetype": "text/x-python",
   "name": "python",
   "nbconvert_exporter": "python",
   "pygments_lexer": "ipython3",
   "version": "3.7.3"
  }
 },
 "nbformat": 4,
 "nbformat_minor": 4
}
