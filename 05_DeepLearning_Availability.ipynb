{
 "cells": [
  {
   "cell_type": "markdown",
   "metadata": {},
   "source": [
    "# Deep Learning for Availability Prediction"
   ]
  },
  {
   "cell_type": "code",
   "execution_count": 2,
   "metadata": {},
   "outputs": [
    {
     "name": "stderr",
     "output_type": "stream",
     "text": [
      "Using TensorFlow backend.\n"
     ]
    }
   ],
   "source": [
    "import warnings\n",
    "warnings.filterwarnings(\"ignore\")\n",
    "import pandas as pd\n",
    "import numpy as np\n",
    "import seaborn as sns\n",
    "import matplotlib.pyplot as plt\n",
    "import category_encoders as ce\n",
    "from sklearn import preprocessing\n",
    "from sklearn.svm import SVR\n",
    "from sklearn.preprocessing import StandardScaler\n",
    "from sklearn.model_selection import train_test_split, GridSearchCV\n",
    "from sklearn.metrics import r2_score, mean_absolute_error, mean_squared_error\n",
    "import geopandas\n",
    "import json\n",
    "from shapely.geometry import shape\n",
    "from h3 import h3\n",
    "from vincenty import vincenty \n",
    "from scipy import stats\n",
    "from keras import models\n",
    "from keras import layers\n",
    "from keras.wrappers.scikit_learn import KerasClassifier"
   ]
  },
  {
   "cell_type": "markdown",
   "metadata": {},
   "source": [
    "## Starting with Hexagon size = 7"
   ]
  },
  {
   "cell_type": "code",
   "execution_count": 4,
   "metadata": {},
   "outputs": [],
   "source": [
    "df_availability = pd.read_csv('Data/availability_SVR.csv') "
   ]
  },
  {
   "cell_type": "code",
   "execution_count": 5,
   "metadata": {},
   "outputs": [],
   "source": [
    "features = [\"time_basket\", \"month\", \"center_x\", \"center_y\", \"weekend\", \n",
    "            \"distance_next_station\", \"distanceToCentralStation\", \"distanceToUniversity\", \"urban_fabric\", \"industry_commercial\", \n",
    "            \"green_urban_area\"]"
   ]
  },
  {
   "cell_type": "code",
   "execution_count": 6,
   "metadata": {},
   "outputs": [],
   "source": [
    "# feature selection \n",
    "X = df_availability[features]\n",
    "y = df_availability[[\"available_bikes\"]]\n",
    "X_train , X_test , y_train, y_test = train_test_split(X, y, test_size = 0.3,random_state=0)"
   ]
  },
  {
   "cell_type": "code",
   "execution_count": 7,
   "metadata": {},
   "outputs": [],
   "source": [
    "def build_model():\n",
    "    model = models.Sequential()\n",
    "    model.add(layers.Dense(64, activation='relu', input_shape=(X_train.shape[1],)))\n",
    "    model.add(layers.Dense(64, activation='relu'))\n",
    "    model.add(layers.Dense(32, activation='relu'))    \n",
    "    model.add(layers.Dense(16, activation='relu'))\n",
    "    model.add(layers.Dense(1))\n",
    "    model.compile(optimizer='rmsprop', loss='mse', metrics=['mae','mse'])\n",
    "    return model"
   ]
  },
  {
   "cell_type": "code",
   "execution_count": 8,
   "metadata": {},
   "outputs": [
    {
     "name": "stdout",
     "output_type": "stream",
     "text": [
      "WARNING:tensorflow:From /Users/Isabelle/opt/miniconda3/lib/python3.7/site-packages/tensorflow/python/ops/resource_variable_ops.py:435: colocate_with (from tensorflow.python.framework.ops) is deprecated and will be removed in a future version.\n",
      "Instructions for updating:\n",
      "Colocations handled automatically by placer.\n",
      "WARNING:tensorflow:From /Users/Isabelle/opt/miniconda3/lib/python3.7/site-packages/tensorflow/python/ops/math_ops.py:3066: to_int32 (from tensorflow.python.ops.math_ops) is deprecated and will be removed in a future version.\n",
      "Instructions for updating:\n",
      "Use tf.cast instead.\n",
      "Epoch 1/50\n",
      "159400/159400 [==============================] - 2s 14us/step - loss: 12226.6493 - mae: 57.8003 - mse: 12226.6523\n",
      "Epoch 2/50\n",
      "159400/159400 [==============================] - 2s 13us/step - loss: 2038.6522 - mae: 33.9633 - mse: 2038.6530\n",
      "Epoch 3/50\n",
      "159400/159400 [==============================] - 2s 13us/step - loss: 1174.0745 - mae: 25.8247 - mse: 1174.0743\n",
      "Epoch 4/50\n",
      "159400/159400 [==============================] - 2s 12us/step - loss: 851.9334 - mae: 21.2844 - mse: 851.9329\n",
      "Epoch 5/50\n",
      "159400/159400 [==============================] - 2s 12us/step - loss: 672.3406 - mae: 18.2384 - mse: 672.3405\n",
      "Epoch 6/50\n",
      "159400/159400 [==============================] - 2s 12us/step - loss: 566.4864 - mae: 16.3909 - mse: 566.4864\n",
      "Epoch 7/50\n",
      "159400/159400 [==============================] - 2s 12us/step - loss: 502.4033 - mae: 15.1623 - mse: 502.4031\n",
      "Epoch 8/50\n",
      "159400/159400 [==============================] - 2s 13us/step - loss: 455.9186 - mae: 14.2271 - mse: 455.9187\n",
      "Epoch 9/50\n",
      "159400/159400 [==============================] - 2s 12us/step - loss: 425.2443 - mae: 13.5554 - mse: 425.2442\n",
      "Epoch 10/50\n",
      "159400/159400 [==============================] - 2s 12us/step - loss: 404.0649 - mae: 13.0508 - mse: 404.0649\n",
      "Epoch 11/50\n",
      "159400/159400 [==============================] - 2s 12us/step - loss: 386.3785 - mae: 12.6756 - mse: 386.3787\n",
      "Epoch 12/50\n",
      "159400/159400 [==============================] - 2s 12us/step - loss: 373.0709 - mae: 12.3567 - mse: 373.0711\n",
      "Epoch 13/50\n",
      "159400/159400 [==============================] - 2s 12us/step - loss: 362.5420 - mae: 12.1480 - mse: 362.5418\n",
      "Epoch 14/50\n",
      "159400/159400 [==============================] - 2s 12us/step - loss: 353.8907 - mae: 11.9633 - mse: 353.8908\n",
      "Epoch 15/50\n",
      "159400/159400 [==============================] - 2s 12us/step - loss: 344.7311 - mae: 11.7663 - mse: 344.7312\n",
      "Epoch 16/50\n",
      "159400/159400 [==============================] - 2s 12us/step - loss: 337.3147 - mae: 11.6142 - mse: 337.3149\n",
      "Epoch 17/50\n",
      "159400/159400 [==============================] - 2s 12us/step - loss: 332.1862 - mae: 11.4446 - mse: 332.1864\n",
      "Epoch 18/50\n",
      "159400/159400 [==============================] - 2s 12us/step - loss: 327.9233 - mae: 11.3356 - mse: 327.9234\n",
      "Epoch 19/50\n",
      "159400/159400 [==============================] - 2s 12us/step - loss: 320.2782 - mae: 11.1855 - mse: 320.2782\n",
      "Epoch 20/50\n",
      "159400/159400 [==============================] - 2s 12us/step - loss: 318.0041 - mae: 11.0632 - mse: 318.0043\n",
      "Epoch 21/50\n",
      "159400/159400 [==============================] - 2s 12us/step - loss: 311.8669 - mae: 10.9522 - mse: 311.8671\n",
      "Epoch 22/50\n",
      "159400/159400 [==============================] - 2s 12us/step - loss: 306.7982 - mae: 10.8432 - mse: 306.7983\n",
      "Epoch 23/50\n",
      "159400/159400 [==============================] - 2s 14us/step - loss: 305.4454 - mae: 10.7520 - mse: 305.4451\n",
      "Epoch 24/50\n",
      "159400/159400 [==============================] - 2s 14us/step - loss: 299.8007 - mae: 10.6543 - mse: 299.8008\n",
      "Epoch 25/50\n",
      "159400/159400 [==============================] - 2s 13us/step - loss: 298.0717 - mae: 10.5479 - mse: 298.0716\n",
      "Epoch 26/50\n",
      "159400/159400 [==============================] - 2s 15us/step - loss: 295.9266 - mae: 10.4876 - mse: 295.9268\n",
      "Epoch 27/50\n",
      "159400/159400 [==============================] - 2s 15us/step - loss: 294.1745 - mae: 10.4010 - mse: 294.1747\n",
      "Epoch 28/50\n",
      "159400/159400 [==============================] - 2s 13us/step - loss: 291.5008 - mae: 10.3464 - mse: 291.5009\n",
      "Epoch 29/50\n",
      "159400/159400 [==============================] - 2s 15us/step - loss: 288.2020 - mae: 10.2720 - mse: 288.2020\n",
      "Epoch 30/50\n",
      "159400/159400 [==============================] - 2s 15us/step - loss: 285.4680 - mae: 10.2136 - mse: 285.4679\n",
      "Epoch 31/50\n",
      "159400/159400 [==============================] - 3s 16us/step - loss: 284.8935 - mae: 10.1475 - mse: 284.8935\n",
      "Epoch 32/50\n",
      "159400/159400 [==============================] - 2s 14us/step - loss: 282.5002 - mae: 10.0842 - mse: 282.5003\n",
      "Epoch 33/50\n",
      "159400/159400 [==============================] - 2s 12us/step - loss: 282.3225 - mae: 10.0454 - mse: 282.3225\n",
      "Epoch 34/50\n",
      "159400/159400 [==============================] - 2s 13us/step - loss: 279.0899 - mae: 10.0121 - mse: 279.0899\n",
      "Epoch 35/50\n",
      "159400/159400 [==============================] - 2s 14us/step - loss: 279.3016 - mae: 9.9579 - mse: 279.3018\n",
      "Epoch 36/50\n",
      "159400/159400 [==============================] - 3s 18us/step - loss: 277.3351 - mae: 9.9160 - mse: 277.3353\n",
      "Epoch 37/50\n",
      "159400/159400 [==============================] - 2s 15us/step - loss: 275.3770 - mae: 9.8525 - mse: 275.3770\n",
      "Epoch 38/50\n",
      "159400/159400 [==============================] - 2s 14us/step - loss: 274.7510 - mae: 9.8145 - mse: 274.7511\n",
      "Epoch 39/50\n",
      "159400/159400 [==============================] - 2s 13us/step - loss: 273.3853 - mae: 9.7835 - mse: 273.3853\n",
      "Epoch 40/50\n",
      "159400/159400 [==============================] - 2s 13us/step - loss: 272.3961 - mae: 9.7395 - mse: 272.3959\n",
      "Epoch 41/50\n",
      "159400/159400 [==============================] - 2s 13us/step - loss: 270.5261 - mae: 9.6960 - mse: 270.5262\n",
      "Epoch 42/50\n",
      "159400/159400 [==============================] - 2s 13us/step - loss: 269.9998 - mae: 9.6574 - mse: 270.0001\n",
      "Epoch 43/50\n",
      "159400/159400 [==============================] - 2s 13us/step - loss: 270.5567 - mae: 9.6226 - mse: 270.5566\n",
      "Epoch 44/50\n",
      "159400/159400 [==============================] - 2s 14us/step - loss: 270.3713 - mae: 9.6023 - mse: 270.3712\n",
      "Epoch 45/50\n",
      "159400/159400 [==============================] - 3s 16us/step - loss: 268.1832 - mae: 9.5691 - mse: 268.1832\n",
      "Epoch 46/50\n",
      "159400/159400 [==============================] - 2s 12us/step - loss: 266.5422 - mae: 9.5150 - mse: 266.5422\n",
      "Epoch 47/50\n",
      "159400/159400 [==============================] - 2s 12us/step - loss: 265.1084 - mae: 9.4889 - mse: 265.1084\n",
      "Epoch 48/50\n",
      "159400/159400 [==============================] - 2s 11us/step - loss: 263.0435 - mae: 9.4612 - mse: 263.0436\n",
      "Epoch 49/50\n",
      "159400/159400 [==============================] - 2s 12us/step - loss: 262.9045 - mae: 9.4268 - mse: 262.9045\n",
      "Epoch 50/50\n",
      "159400/159400 [==============================] - 2s 14us/step - loss: 263.8970 - mae: 9.4095 - mse: 263.8973\n"
     ]
    }
   ],
   "source": [
    "model = build_model()\n",
    "scaler = StandardScaler()\n",
    "history = model.fit(scaler.fit_transform(X_train),y_train,epochs=50,batch_size=128,verbose=1)"
   ]
  },
  {
   "cell_type": "code",
   "execution_count": 9,
   "metadata": {},
   "outputs": [
    {
     "data": {
      "image/png": "[encoded data removed]",
      "text/plain": [
       "<Figure size 864x576 with 1 Axes>"
      ]
     },
     "metadata": {
      "needs_background": "light"
     },
     "output_type": "display_data"
    }
   ],
   "source": [
    "plt.figure(figsize=(12,8))\n",
    "mae = history.history['mae']\n",
    "mse = history.history[\"mse\"]\n",
    "epochs = range(1, len(mae) + 1)\n",
    "plt.plot(epochs, mae, 'b', label='MAE')\n",
    "plt.plot(epochs, np.sqrt(mse), 'r', label=\"RMSE\")\n",
    "plt.title('Progress of MAE over epochs')\n",
    "plt.xlabel('Epochs')\n",
    "plt.ylabel('Error')\n",
    "plt.legend()\n",
    "plt.show()"
   ]
  },
  {
   "cell_type": "code",
   "execution_count": 10,
   "metadata": {},
   "outputs": [
    {
     "name": "stdout",
     "output_type": "stream",
     "text": [
      "ON TRAINING DATA:\n",
      "MAE  11.814132049174574\n",
      "MSE  440.5041797763436\n",
      "RMSE  20.988191436527913\n",
      "R2  0.9897235524621274\n",
      "\n",
      "\n",
      "ON TEST DATA:\n",
      "MAE  11.947523265695324\n",
      "MSE  443.44990746654486\n",
      "RMSE  21.05825034200479\n",
      "R2  0.9895080507279945\n"
     ]
    }
   ],
   "source": [
    "pred = model.predict(scaler.fit_transform(X_train))\n",
    "print(\"ON TRAINING DATA:\")\n",
    "print(\"MAE \", mean_absolute_error(y_train,pred))\n",
    "print(\"MSE \", mean_squared_error(y_train,pred))\n",
    "print(\"RMSE \", np.sqrt(mean_squared_error(y_train,pred)))\n",
    "print(\"R2 \", r2_score(y_train,pred))\n",
    "print(\"\\n\")\n",
    "\n",
    "pred = model.predict(scaler.fit_transform(X_test))\n",
    "print(\"ON TEST DATA:\")\n",
    "print(\"MAE \",mean_absolute_error(y_test,pred))\n",
    "print(\"MSE \",mean_squared_error(y_test,pred))\n",
    "print(\"RMSE \", np.sqrt(mean_squared_error(y_test,pred)))\n",
    "print(\"R2 \",r2_score(y_test,pred))"
   ]
  },
  {
   "cell_type": "markdown",
   "metadata": {},
   "source": [
    "##### In comparison to the SVR this first NN returns much better results. Furthermore the NN isn't overfitted. "
   ]
  },
  {
   "cell_type": "code",
   "execution_count": 11,
   "metadata": {},
   "outputs": [
    {
     "name": "stdout",
     "output_type": "stream",
     "text": [
      "ON TRAINING DATA:\n",
      "MAE  9.171050402959587\n",
      "MSE  247.61548694760137\n",
      "R2  0.9942234201671508\n",
      "\n",
      "\n",
      "ON TEST DATA:\n",
      "MAE  9.201514095015192\n",
      "MSE  244.79182610769084\n",
      "R2  0.9942082670929021\n"
     ]
    }
   ],
   "source": [
    "# increase epochs \n",
    "model = build_model()\n",
    "history = model.fit(scaler.fit_transform(X_train),y_train,epochs=100,batch_size=128,verbose=0)\n",
    "pred = model.predict(scaler.fit_transform(X_train))\n",
    "print(\"ON TRAINING DATA:\")\n",
    "print(\"MAE \", mean_absolute_error(y_train,pred))\n",
    "print(\"MSE \", mean_squared_error(y_train,pred))\n",
    "print(\"R2 \", r2_score(y_train,pred))\n",
    "print(\"\\n\")\n",
    "\n",
    "pred = model.predict(scaler.fit_transform(X_test))\n",
    "print(\"ON TEST DATA:\")\n",
    "print(\"MAE \",mean_absolute_error(y_test,pred))\n",
    "print(\"MSE \",mean_squared_error(y_test,pred))\n",
    "print(\"R2 \",r2_score(y_test,pred))"
   ]
  },
  {
   "cell_type": "code",
   "execution_count": 14,
   "metadata": {},
   "outputs": [
    {
     "name": "stdout",
     "output_type": "stream",
     "text": [
      "ON TRAINING DATA:\n",
      "MAE  9.894160987443875\n",
      "MSE  266.5127286479136\n",
      "R2  0.9937825696103131\n",
      "\n",
      "\n",
      "ON TEST DATA:\n",
      "MAE  9.800591622705577\n",
      "MSE  258.02011890603643\n",
      "R2  0.9938952879386423\n"
     ]
    }
   ],
   "source": [
    "# use adam as optimizer\n",
    "def build_model():\n",
    "    model = models.Sequential()\n",
    "    model.add(layers.Dense(64, activation='relu', input_shape=(X_train.shape[1],)))\n",
    "    model.add(layers.Dense(64, activation='relu'))\n",
    "    model.add(layers.Dense(32, activation='relu'))\n",
    "    model.add(layers.Dense(16, activation='relu'))\n",
    "    model.add(layers.Dense(1))\n",
    "    model.compile(optimizer='adam', loss='mse', metrics=['mae','mse'])\n",
    "    return model\n",
    "\n",
    "model = build_model()\n",
    "\n",
    "history = model.fit(scaler.fit_transform(X_train),y_train,epochs=50,batch_size=128,verbose=0)\n",
    "\n",
    "pred = model.predict(scaler.fit_transform(X_train))\n",
    "print(\"ON TRAINING DATA:\")\n",
    "print(\"MAE \", mean_absolute_error(y_train,pred))\n",
    "print(\"MSE \", mean_squared_error(y_train,pred))\n",
    "print(\"R2 \", r2_score(y_train,pred))\n",
    "print(\"\\n\")\n",
    "\n",
    "pred = model.predict(scaler.fit_transform(X_test))\n",
    "print(\"ON TEST DATA:\")\n",
    "print(\"MAE \",mean_absolute_error(y_test,pred))\n",
    "print(\"MSE \",mean_squared_error(y_test,pred))\n",
    "print(\"R2 \",r2_score(y_test,pred))"
   ]
  },
  {
   "cell_type": "code",
   "execution_count": 15,
   "metadata": {},
   "outputs": [
    {
     "data": {
      "image/png": "[encoded data removed]",
      "text/plain": [
       "<Figure size 864x576 with 1 Axes>"
      ]
     },
     "metadata": {
      "needs_background": "light"
     },
     "output_type": "display_data"
    },
    {
     "name": "stdout",
     "output_type": "stream",
     "text": [
      "ON TRAINING DATA:\n",
      "MAE  8.297172191510283\n",
      "MSE  221.87949981709434\n",
      "R2  0.9948238106599636\n",
      "\n",
      "\n",
      "ON TEST DATA:\n",
      "MAE  8.402641917009776\n",
      "MSE  219.61481625539798\n",
      "R2  0.9948039508572764\n"
     ]
    }
   ],
   "source": [
    "# drop one hidden layer and see what happens\n",
    "def build_model():\n",
    "    model = models.Sequential()\n",
    "    model.add(layers.Dense(64, activation='relu', input_shape=(X_train.shape[1],)))\n",
    "    model.add(layers.Dense(32, activation='relu'))    \n",
    "    model.add(layers.Dense(16, activation='relu'))\n",
    "    model.add(layers.Dense(1))\n",
    "    model.compile(optimizer='adam', loss='mse', metrics=['mae','mse'])\n",
    "    return model\n",
    "\n",
    "model = build_model()\n",
    "# increase number of epochs \n",
    "# decrease batch_size\n",
    "history = model.fit(scaler.fit_transform(X_train),y_train,epochs=250,batch_size=64,verbose=0)\n",
    "\n",
    "plt.figure(figsize=(12,8))\n",
    "mae = history.history['mae']\n",
    "mse = history.history[\"mse\"]\n",
    "epochs = range(1, len(mae) + 1)\n",
    "plt.plot(epochs, mae, 'b', label='MAE')\n",
    "plt.plot(epochs, np.sqrt(mse), 'r', label=\"RMSE\")\n",
    "plt.title('Progress of MAE / RMSE over epochs')\n",
    "plt.xlabel('Epochs')\n",
    "plt.ylabel('Error')\n",
    "plt.legend()\n",
    "plt.show()\n",
    "\n",
    "pred = model.predict(scaler.fit_transform(X_train))\n",
    "print(\"ON TRAINING DATA:\")\n",
    "print(\"MAE \", mean_absolute_error(y_train,pred))\n",
    "print(\"MSE \", mean_squared_error(y_train,pred))\n",
    "print(\"R2 \", r2_score(y_train,pred))\n",
    "print(\"\\n\")\n",
    "\n",
    "pred = model.predict(scaler.fit_transform(X_test))\n",
    "print(\"ON TEST DATA:\")\n",
    "print(\"MAE \",mean_absolute_error(y_test,pred))\n",
    "print(\"MSE \",mean_squared_error(y_test,pred))\n",
    "print(\"R2 \",r2_score(y_test,pred))"
   ]
  },
  {
   "cell_type": "code",
   "execution_count": 16,
   "metadata": {},
   "outputs": [
    {
     "data": {
      "image/png": "[encoded data removed]",
      "text/plain": [
       "<Figure size 864x576 with 1 Axes>"
      ]
     },
     "metadata": {
      "needs_background": "light"
     },
     "output_type": "display_data"
    },
    {
     "name": "stdout",
     "output_type": "stream",
     "text": [
      "ON TRAINING DATA:\n",
      "MAE  9.244865880821326\n",
      "MSE  247.80295452791216\n",
      "R2  0.9942190467676633\n",
      "\n",
      "\n",
      "ON TEST DATA:\n",
      "MAE  9.283940153975076\n",
      "MSE  243.02011549636774\n",
      "R2  0.9942501854641673\n"
     ]
    }
   ],
   "source": [
    "# drop one hidden layer and see what happens\n",
    "def build_model():\n",
    "    model = models.Sequential()\n",
    "    model.add(layers.Dense(64, activation='relu', input_shape=(X_train.shape[1],)))\n",
    "    model.add(layers.Dense(32, activation='relu'))    \n",
    "    model.add(layers.Dense(16, activation='relu'))\n",
    "    model.add(layers.Dense(1))\n",
    "    model.compile(optimizer='adam', loss='mse', metrics=['mae','mse'])\n",
    "    return model\n",
    "\n",
    "model = build_model()\n",
    "\n",
    "history = model.fit(scaler.fit_transform(X_train),y_train,epochs=200,batch_size=128,verbose=0)\n",
    "\n",
    "plt.figure(figsize=(12,8))\n",
    "mae = history.history['mae']\n",
    "mse = history.history[\"mse\"]\n",
    "epochs = range(1, len(mae) + 1)\n",
    "plt.plot(epochs, mae, 'b', label='MAE')\n",
    "plt.plot(epochs, np.sqrt(mse), 'r', label=\"RMSE\")\n",
    "plt.title('Progress of MAE / RMSE over epochs')\n",
    "plt.xlabel('Epochs')\n",
    "plt.ylabel('Error')\n",
    "plt.legend()\n",
    "plt.show()\n",
    "\n",
    "pred = model.predict(scaler.fit_transform(X_train))\n",
    "print(\"ON TRAINING DATA:\")\n",
    "print(\"MAE \", mean_absolute_error(y_train,pred))\n",
    "print(\"MSE \", mean_squared_error(y_train,pred))\n",
    "print(\"R2 \", r2_score(y_train,pred))\n",
    "print(\"\\n\")\n",
    "\n",
    "pred = model.predict(scaler.fit_transform(X_test))\n",
    "print(\"ON TEST DATA:\")\n",
    "print(\"MAE \",mean_absolute_error(y_test,pred))\n",
    "print(\"MSE \",mean_squared_error(y_test,pred))\n",
    "print(\"R2 \",r2_score(y_test,pred))"
   ]
  },
  {
   "cell_type": "markdown",
   "metadata": {},
   "source": [
    "# Optimizing Hyperparameters with GridSearch\n",
    "\n",
    "#### Epochs, Batch Size and Optimizer"
   ]
  },
  {
   "cell_type": "markdown",
   "metadata": {},
   "source": [
    "###### previous results  with ... \n",
    "epochs: 50 <br>\n",
    "batch size: 128 <br>\n",
    "optimizer: Adam <br>\n",
    "\n",
    "ON TEST DATA: <br>\n",
    "MAE  9.800591622705577 <br>\n",
    "MSE  258.02011890603643 <br> \n",
    "R2  0.9938952879386423 <br>"
   ]
  },
  {
   "cell_type": "markdown",
   "metadata": {},
   "source": [
    "Although the results are already very good, we will see if the hyper parameters can be optimized with GridSearch even more."
   ]
  },
  {
   "cell_type": "code",
   "execution_count": 7,
   "metadata": {
    "scrolled": true
   },
   "outputs": [
    {
     "name": "stdout",
     "output_type": "stream",
     "text": [
      "WARNING:tensorflow:From /Users/Isabelle/opt/miniconda3/lib/python3.7/site-packages/tensorflow/python/ops/resource_variable_ops.py:435: colocate_with (from tensorflow.python.framework.ops) is deprecated and will be removed in a future version.\n",
      "Instructions for updating:\n",
      "Colocations handled automatically by placer.\n",
      "WARNING:tensorflow:From /Users/Isabelle/opt/miniconda3/lib/python3.7/site-packages/tensorflow/python/ops/math_ops.py:3066: to_int32 (from tensorflow.python.ops.math_ops) is deprecated and will be removed in a future version.\n",
      "Instructions for updating:\n",
      "Use tf.cast instead.\n",
      "Best: 0.028189 using {'batch_size': 256, 'epochs': 20}\n",
      "0.008726 (0.001880) with: {'batch_size': 32, 'epochs': 20}\n",
      "0.005726 (0.001750) with: {'batch_size': 32, 'epochs': 50}\n",
      "0.004984 (0.001618) with: {'batch_size': 32, 'epochs': 100}\n",
      "0.006473 (0.002405) with: {'batch_size': 32, 'epochs': 150}\n",
      "0.006772 (0.002116) with: {'batch_size': 64, 'epochs': 20}\n",
      "0.004440 (0.002296) with: {'batch_size': 64, 'epochs': 50}\n",
      "0.006688 (0.002924) with: {'batch_size': 64, 'epochs': 100}\n",
      "0.005849 (0.000615) with: {'batch_size': 64, 'epochs': 150}\n",
      "0.008028 (0.001270) with: {'batch_size': 128, 'epochs': 20}\n",
      "0.006785 (0.001305) with: {'batch_size': 128, 'epochs': 50}\n",
      "0.008014 (0.003481) with: {'batch_size': 128, 'epochs': 100}\n",
      "0.003228 (0.002516) with: {'batch_size': 128, 'epochs': 150}\n",
      "0.028189 (0.030559) with: {'batch_size': 256, 'epochs': 20}\n",
      "0.010074 (0.004356) with: {'batch_size': 256, 'epochs': 50}\n",
      "0.007259 (0.002213) with: {'batch_size': 256, 'epochs': 100}\n",
      "0.006214 (0.004288) with: {'batch_size': 256, 'epochs': 150}\n"
     ]
    }
   ],
   "source": [
    "# Function to build the model, required for KerasClassifier\n",
    "def build_model():\n",
    "    model = models.Sequential()\n",
    "    model.add(layers.Dense(64, activation='relu', input_shape=(X_train.shape[1],)))\n",
    "    model.add(layers.Dense(64, activation='relu'))\n",
    "    model.add(layers.Dense(32, activation='relu'))    \n",
    "    model.add(layers.Dense(16, activation='relu'))\n",
    "    model.add(layers.Dense(1))\n",
    "    model.compile(optimizer='adam', loss='mse', metrics=['mae', 'accuracy'])\n",
    "    return model\n",
    "\n",
    "# create model\n",
    "model = KerasClassifier(build_fn=build_model, verbose=0)\n",
    "\n",
    "# search for best batch size and number of epochs \n",
    "# define the grid search parameters\n",
    "batch_size = [32,64,128,256]\n",
    "epochs = [20,50,100,150]\n",
    "\n",
    "param_grid = dict(batch_size=batch_size, epochs=epochs)\n",
    "grid = GridSearchCV(estimator=model, param_grid=param_grid, n_jobs=1, cv=3)\n",
    "\n",
    "# run grid search \n",
    "grid_result = grid.fit(X, y)\n",
    "\n",
    "# summarize results\n",
    "print(\"Best: %f using %s\" % (grid_result.best_score_, grid_result.best_params_))\n",
    "\n",
    "means = grid_result.cv_results_['mean_test_score']\n",
    "stds = grid_result.cv_results_['std_test_score']\n",
    "params = grid_result.cv_results_['params']\n",
    "for mean, stdev, param in zip(means, stds, params):\n",
    "    print(\"%f (%f) with: %r\" % (mean, stdev, param))"
   ]
  },
  {
   "cell_type": "markdown",
   "metadata": {},
   "source": [
    "Gridsearch has found the optimal batch size = 256 and the optimal number of epochs = 20.\n",
    "On the basis of these two hyperparameters we are looking for the optimal optimizer using GridSearch."
   ]
  },
  {
   "cell_type": "code",
   "execution_count": 8,
   "metadata": {},
   "outputs": [
    {
     "name": "stdout",
     "output_type": "stream",
     "text": [
      "Best: 0.008686 using {'optimizer': 'RMSprop'}\n",
      "0.000000 (0.000000) with: {'optimizer': 'SGD'}\n",
      "0.008686 (0.003401) with: {'optimizer': 'RMSprop'}\n",
      "0.003122 (0.003254) with: {'optimizer': 'Adagrad'}\n",
      "0.003641 (0.002142) with: {'optimizer': 'Adadelta'}\n",
      "0.004993 (0.003077) with: {'optimizer': 'Adam'}\n",
      "0.005621 (0.001776) with: {'optimizer': 'Adamax'}\n",
      "0.008678 (0.002418) with: {'optimizer': 'Nadam'}\n"
     ]
    }
   ],
   "source": [
    "# Function to create model, required for KerasClassifier\n",
    "def build_model(optimizer=\"adam\"):\n",
    "    model = models.Sequential()\n",
    "    model.add(layers.Dense(64, activation='relu', input_shape=(X_train.shape[1],)))\n",
    "    model.add(layers.Dense(64, activation='relu'))\n",
    "    model.add(layers.Dense(32, activation='relu'))    \n",
    "    model.add(layers.Dense(16, activation='relu'))\n",
    "    model.add(layers.Dense(1))\n",
    "    model.compile(optimizer=optimizer, loss='mse', metrics=['mae','accuracy'])\n",
    "    return model\n",
    "\n",
    "model = KerasClassifier(build_fn=build_model, epochs=20, batch_size=256, verbose=0)\n",
    "\n",
    "# define the grid search parameters for optimizer \n",
    "optimizer = ['SGD', 'RMSprop', 'Adagrad', 'Adadelta', 'Adam', 'Adamax', 'Nadam']\n",
    "param_grid = dict(optimizer=optimizer)\n",
    "grid = GridSearchCV(estimator=model, param_grid=param_grid, n_jobs=1, cv=3)\n",
    "grid_result = grid.fit(X, y)\n",
    "\n",
    "# summarize results\n",
    "print(\"Best: %f using %s\" % (grid_result.best_score_, grid_result.best_params_))\n",
    "means = grid_result.cv_results_['mean_test_score']\n",
    "stds = grid_result.cv_results_['std_test_score']\n",
    "params = grid_result.cv_results_['params']\n",
    "for mean, stdev, param in zip(means, stds, params):\n",
    "    print(\"%f (%f) with: %r\" % (mean, stdev, param))"
   ]
  },
  {
   "cell_type": "markdown",
   "metadata": {},
   "source": [
    "GridSearch has found the optimal optimizer = 'RMSprop'. In the following model we use the found hyper parameters."
   ]
  },
  {
   "cell_type": "code",
   "execution_count": 9,
   "metadata": {},
   "outputs": [
    {
     "name": "stdout",
     "output_type": "stream",
     "text": [
      "ON TEST DATA:\n",
      "MAE  18.333713930113127\n",
      "MSE  704.8108128273067\n",
      "R2  0.9833242962281982\n"
     ]
    }
   ],
   "source": [
    "scaler = StandardScaler()\n",
    "\n",
    "def build_model():\n",
    "    model = models.Sequential()\n",
    "    model.add(layers.Dense(64, activation='relu', input_shape=(X_train.shape[1],)))\n",
    "    model.add(layers.Dense(64, activation='relu'))\n",
    "    model.add(layers.Dense(32, activation='relu'))\n",
    "    model.add(layers.Dense(16, activation='relu'))\n",
    "    model.add(layers.Dense(1))\n",
    "    model.compile(optimizer='RMSprop', loss='mse', metrics=['mae','mse']) #set the new optimizer \n",
    "    return model\n",
    "\n",
    "model = build_model()\n",
    "\n",
    "# use results of grid search for epochs and batch size \n",
    "history = model.fit(scaler.fit_transform(X_train),y_train,epochs=20,batch_size=256,verbose=0)\n",
    "\n",
    "pred = model.predict(scaler.fit_transform(X_test))\n",
    "print(\"ON TEST DATA:\")\n",
    "print(\"MAE \",mean_absolute_error(y_test,pred))\n",
    "print(\"MSE \",mean_squared_error(y_test,pred))\n",
    "print(\"R2 \",r2_score(y_test,pred))"
   ]
  },
  {
   "cell_type": "code",
   "execution_count": 11,
   "metadata": {},
   "outputs": [
    {
     "name": "stdout",
     "output_type": "stream",
     "text": [
      "ON TEST DATA:\n",
      "MAE  11.135502896821578\n",
      "MSE  339.7693353547794\n",
      "R2  0.9919611154028839\n"
     ]
    }
   ],
   "source": [
    "scaler = StandardScaler()\n",
    "\n",
    "def build_model():\n",
    "    model = models.Sequential()\n",
    "    model.add(layers.Dense(64, activation='relu', input_shape=(X_train.shape[1],)))\n",
    "    model.add(layers.Dense(64, activation='relu'))\n",
    "    model.add(layers.Dense(32, activation='relu'))\n",
    "    model.add(layers.Dense(16, activation='relu'))\n",
    "    model.add(layers.Dense(1))\n",
    "    model.compile(optimizer='RMSprop', loss='mse', metrics=['mae','mse']) #set the new optimizer \n",
    "    return model\n",
    "\n",
    "model = build_model()\n",
    "\n",
    "# use results of grid search for epochs and batch size \n",
    "history = model.fit(scaler.fit_transform(X_train),y_train,epochs=50,batch_size=256,verbose=0)\n",
    "\n",
    "pred = model.predict(scaler.fit_transform(X_test))\n",
    "print(\"ON TEST DATA:\")\n",
    "print(\"MAE \",mean_absolute_error(y_test,pred))\n",
    "print(\"MSE \",mean_squared_error(y_test,pred))\n",
    "print(\"R2 \",r2_score(y_test,pred))"
   ]
  },
  {
   "cell_type": "code",
   "execution_count": 12,
   "metadata": {},
   "outputs": [
    {
     "name": "stdout",
     "output_type": "stream",
     "text": [
      "ON TEST DATA:\n",
      "MAE  8.682679934870016\n",
      "MSE  231.7640926533381\n",
      "R2  0.994516501047247\n"
     ]
    }
   ],
   "source": [
    "scaler = StandardScaler()\n",
    "\n",
    "def build_model():\n",
    "    model = models.Sequential()\n",
    "    model.add(layers.Dense(64, activation='relu', input_shape=(X_train.shape[1],)))\n",
    "    model.add(layers.Dense(64, activation='relu'))\n",
    "    model.add(layers.Dense(32, activation='relu'))\n",
    "    model.add(layers.Dense(16, activation='relu'))\n",
    "    model.add(layers.Dense(1))\n",
    "    model.compile(optimizer='RMSprop', loss='mse', metrics=['mae','mse']) #set the new optimizer \n",
    "    return model\n",
    "\n",
    "model = build_model()\n",
    "\n",
    "# use results of grid search for epochs and batch size \n",
    "history = model.fit(scaler.fit_transform(X_train),y_train,epochs=50,batch_size=128,verbose=0)\n",
    "\n",
    "pred = model.predict(scaler.fit_transform(X_test))\n",
    "print(\"ON TEST DATA:\")\n",
    "print(\"MAE \",mean_absolute_error(y_test,pred))\n",
    "print(\"MSE \",mean_squared_error(y_test,pred))\n",
    "print(\"R2 \",r2_score(y_test,pred))"
   ]
  },
  {
   "cell_type": "code",
   "execution_count": 13,
   "metadata": {},
   "outputs": [
    {
     "name": "stdout",
     "output_type": "stream",
     "text": [
      "ON TEST DATA:\n",
      "MAE  8.324306947980977\n",
      "MSE  229.13553517841964\n",
      "R2  0.9945786922693468\n"
     ]
    }
   ],
   "source": [
    "scaler = StandardScaler()\n",
    "\n",
    "def build_model():\n",
    "    model = models.Sequential()\n",
    "    model.add(layers.Dense(64, activation='relu', input_shape=(X_train.shape[1],)))\n",
    "    model.add(layers.Dense(64, activation='relu'))\n",
    "    model.add(layers.Dense(32, activation='relu'))\n",
    "    model.add(layers.Dense(16, activation='relu'))\n",
    "    model.add(layers.Dense(1))\n",
    "    model.compile(optimizer='RMSprop', loss='mse', metrics=['mae','mse']) #set the new optimizer \n",
    "    return model\n",
    "\n",
    "model = build_model()\n",
    "\n",
    "# use results of grid search for epochs and batch size \n",
    "history = model.fit(scaler.fit_transform(X_train),y_train,epochs=50,batch_size=32,verbose=0)\n",
    "\n",
    "pred = model.predict(scaler.fit_transform(X_test))\n",
    "print(\"ON TEST DATA:\")\n",
    "print(\"MAE \",mean_absolute_error(y_test,pred))\n",
    "print(\"MSE \",mean_squared_error(y_test,pred))\n",
    "print(\"R2 \",r2_score(y_test,pred))"
   ]
  },
  {
   "cell_type": "code",
   "execution_count": 14,
   "metadata": {},
   "outputs": [
    {
     "name": "stdout",
     "output_type": "stream",
     "text": [
      "ON TEST DATA:\n",
      "MAE  8.210158202289218\n",
      "MSE  219.69374871711963\n",
      "R2  0.9948020833286776\n"
     ]
    }
   ],
   "source": [
    "scaler = StandardScaler()\n",
    "\n",
    "def build_model():\n",
    "    model = models.Sequential()\n",
    "    model.add(layers.Dense(64, activation='relu', input_shape=(X_train.shape[1],)))\n",
    "    model.add(layers.Dense(64, activation='relu'))\n",
    "    model.add(layers.Dense(32, activation='relu'))\n",
    "    model.add(layers.Dense(16, activation='relu'))\n",
    "    model.add(layers.Dense(1))\n",
    "    model.compile(optimizer='RMSprop', loss='mse', metrics=['mae','mse']) #set the new optimizer \n",
    "    return model\n",
    "\n",
    "model = build_model()\n",
    "\n",
    "# use results of grid search for epochs and batch size \n",
    "history = model.fit(scaler.fit_transform(X_train),y_train,epochs=100,batch_size=32,verbose=0)\n",
    "\n",
    "pred = model.predict(scaler.fit_transform(X_test))\n",
    "print(\"ON TEST DATA:\")\n",
    "print(\"MAE \",mean_absolute_error(y_test,pred))\n",
    "print(\"MSE \",mean_squared_error(y_test,pred))\n",
    "print(\"R2 \",r2_score(y_test,pred))"
   ]
  },
  {
   "cell_type": "markdown",
   "metadata": {},
   "source": [
    "# Varying Hexagon resolution and periods"
   ]
  },
  {
   "cell_type": "markdown",
   "metadata": {},
   "source": [
    "First of all, we create a function (prepareAvailabilityData) that does all the necessary steps for the preparation of the availability dataframe for different hexagon resolutions and time baskets. "
   ]
  },
  {
   "cell_type": "code",
   "execution_count": 15,
   "metadata": {},
   "outputs": [],
   "source": [
    "# read in transformed availability data\n",
    "availability_data = pd.read_csv(\"Data/bonn_availability.csv\", index_col=0)"
   ]
  },
  {
   "cell_type": "code",
   "execution_count": 19,
   "metadata": {},
   "outputs": [],
   "source": [
    "from h3 import h3 \n",
    "def createHexagons(df, resolution = 8):    \n",
    "    df[\"h3_hex_id\"] = df.apply(lambda row: h3.geo_to_h3(row[\"p_lat\"], row[\"p_lng\"], resolution) if (row['p_lat'] and row['p_lng']) else 0, axis=1)\n",
    "    return df"
   ]
  },
  {
   "cell_type": "code",
   "execution_count": 20,
   "metadata": {},
   "outputs": [],
   "source": [
    "def prepareAvailabilityData(hex_resolution, periodLength, df=availability_data): \n",
    "    \"\"\"\n",
    "    periodLength = 24h / 6h / 2h / 1h\n",
    "    hex_resolution = 5 / 6 / 7 / 8 / 9 \n",
    "    \"\"\"\n",
    "    #Creating hexagons with size 7    \n",
    "    availability_data = createHexagons(df, hex_resolution)\n",
    "    \n",
    "    trips = ['start', 'end']\n",
    "    availability_data_start_end = df[df.trip.isin(trips)]\n",
    "    \n",
    "    availability_data2=availability_data_start_end.sort_values(['b_number', 'datetime'])\n",
    "    \n",
    "    #After checking the amount of end and start trips, we see that there is no even amount of start and end trips \n",
    "    #so let's check sequences and eliminate those that do not form a pair\n",
    "    #it eliminates those where the b_number is the same and the trip type is the same of two following rows\n",
    "    #and those where the bike number is not the same but the trip type is the same \n",
    "    m1 = (availability_data2['b_number'] == availability_data2['b_number'].shift(-1))\n",
    "    m2 = (availability_data2['trip'] == availability_data2['trip'].shift(-1))\n",
    "    m3 = (availability_data2['b_number'] != availability_data2['b_number'].shift(-1))\n",
    "    m4 = (availability_data2['trip'] == availability_data2['trip'].shift(-1))\n",
    "    availability = availability_data2[~((m1&m2)|(m3&m4))]\n",
    "    \n",
    "    #sort dataframe so that we can locate the first occurrence of every bike\n",
    "    df_firstocc = df.sort_values(['month', 'day', 'hour'])\n",
    "    \n",
    "    #first occurence of every bike in 2019\n",
    "    first_occ_ofallbikes = df_firstocc.loc[df_firstocc.trip =='first'].groupby('b_number').head(1)\n",
    "    \n",
    "    frames = [availability, first_occ_ofallbikes]\n",
    "    \n",
    "    availability_data_start_end_firstocc= pd.concat(frames)\n",
    "    \n",
    "    availability_data_start_end_firstocc2 = availability_data_start_end_firstocc\n",
    "    \n",
    "    availability_data_start_end_firstocc2['available_bikes']= availability_data_start_end_firstocc2.apply(lambda x: 1 if ((x.trip == 'end')|(x.trip == 'first')) else (-1), axis=1)\n",
    "    \n",
    "    grouped_2 = availability_data_start_end_firstocc2[['h3_hex_id','month', 'day', 'hour', 'available_bikes']].groupby(['h3_hex_id','month', 'day', 'hour'], as_index = False).sum()\n",
    "    \n",
    "    grouped_2 = grouped_2.sort_values(['month', 'day', 'hour']).groupby('h3_hex_id')\n",
    "    \n",
    "    all_groups = []\n",
    "    for group in grouped_2.groups:\n",
    "    \n",
    "        group = grouped_2.get_group(group)\n",
    "        group = group.reset_index()\n",
    "    \n",
    "        group['available_bikes']= np.cumsum(group['available_bikes'])  \n",
    "    \n",
    "        all_groups.append(group)\n",
    "\n",
    "    cumulativesum_df = pd.concat(all_groups)\n",
    "    \n",
    "    #saving the unique h3_hex_ids\n",
    "    h3_hex_ids = cumulativesum_df['h3_hex_id'].unique()\n",
    "    \n",
    "    #create new dataframe with the same columns\n",
    "    all_availability = pd.DataFrame(columns=[\"h3_hex_id\", \"datetime\", \"month\",\"day\",\"hour\", \"available_bikes\"])\n",
    "    \n",
    "    #add the unique h3_hex_ids\n",
    "    all_availability['h3_hex_id'] = h3_hex_ids\n",
    "    \n",
    "    #create a time range for the new dataframe starting from the 20/01/2019 as our provided data starts at that time\n",
    "    datelist = pd.date_range('2019-01-20 00:00:00', '2019-12-31 23:59:00', freq='H').tolist()\n",
    "\n",
    "    for i in range(0, len(h3_hex_ids)):\n",
    "        all_availability['datetime'][i] = datelist\n",
    "    \n",
    "    s = all_availability.apply(lambda x: pd.Series(x['datetime']),axis=1).stack().reset_index(level=1, drop=True)\n",
    "    s.name = 'datetime'\n",
    "\n",
    "    all_availability = all_availability.drop('datetime', axis=1).join(s)\n",
    "    \n",
    "    all_availability[\"datetime\"] = pd.to_datetime(all_availability[\"datetime\"])\n",
    "    all_availability[\"day\"] = all_availability[\"datetime\"].apply(lambda x: x.day)\n",
    "    all_availability[\"month\"] = all_availability[\"datetime\"].apply(lambda x: x.month)\n",
    "    all_availability[\"hour\"] = all_availability[\"datetime\"].apply(lambda x: x.hour)\n",
    "    \n",
    "    #Merge the grouped original dataframe with the new dataframe\n",
    "    availability_per_hex = pd.merge(cumulativesum_df, all_availability, left_on=['h3_hex_id', 'month', 'day', 'hour'], right_on=['h3_hex_id', 'month', 'day', 'hour'], how=\"outer\")\n",
    "    availability_per_hex = availability_per_hex.drop('available_bikes_y', axis=1)\n",
    "    availability_per_hex = availability_per_hex.rename(columns= {'available_bikes_x': 'available_bikes'})\n",
    "    \n",
    "    availability_per_hex_groups = availability_per_hex.sort_values(['h3_hex_id','month', 'day', 'hour']).groupby('h3_hex_id')\n",
    "    \n",
    "    all_groups = []\n",
    "    #split by groups   \n",
    "    for group in availability_per_hex_groups.groups:\n",
    "        group = availability_per_hex_groups.get_group(group)\n",
    "        group = group.reset_index()\n",
    "               \n",
    "        #save the dataframe for one hexagon in the list all groups  \n",
    "        all_groups.append(group)\n",
    "\n",
    "    availability_per_hex = pd.concat(all_groups)\n",
    "    \n",
    "    availability_per_hex = availability_per_hex.drop(['level_0', 'index'], axis=1)\n",
    "    \n",
    "    #Applying a forward fill per group to add the missing hourly available bikes per hexagon\n",
    "    availability_per_hour = availability_per_hex.groupby(['h3_hex_id'], as_index=False).apply(lambda group: group.ffill())\n",
    "    \n",
    "    #Filling the remaining NaN values with 0\n",
    "    availability_per_hour = availability_per_hour.fillna(0)\n",
    "    \n",
    "    # adding column weekday\n",
    "    availability_per_hour[\"weekday\"] = availability_per_hour[\"datetime\"].dt.dayofweek\n",
    "    \n",
    "    # adding new boolean column \"weekend\"    \n",
    "    availability_per_hour[\"weekend\"] = availability_per_hour[\"weekday\"].apply(lambda x: isWeekend(x))\n",
    "    \n",
    "    availability_per_hour[\"center\"] = availability_per_hour[\"h3_hex_id\"].apply(lambda x: centroid(x))\n",
    "    availability_per_hour[\"center_x\"] = availability_per_hour[\"center\"].apply(lambda x: x[0])\n",
    "    availability_per_hour[\"center_y\"]  = availability_per_hour[\"center\"].apply(lambda x: x[1])\n",
    "    \n",
    "    availability_per_hour['time_basket'] = availability_per_hour['hour'].apply(lambda x: x//periodLength+1)\n",
    "\n",
    "    ### Adding the average of the temperature and the distance to the next station, precipitation y/n and the mode of the land use features of the hexgaon\n",
    "\n",
    "    # grouped dataframe to calculate the mean of the temperatur and the distance to the next station per day and timebasket \n",
    "    availability_data['time_basket'] = availability_data['hour'].apply(lambda x: x//periodLength+1)\n",
    "    grouped_distance_station = pd.DataFrame(availability_data.groupby(['time_basket', 'h3_hex_id', 'month', 'day'], as_index = False).mean())\n",
    "    grouped_distance_station.reset_index(inplace=True)\n",
    "    grouped_distance_station = grouped_distance_station[['time_basket', 'h3_hex_id', 'month', 'day', \"distance_next_station\"]]\n",
    "\n",
    "    # merge mean temperature with the demands \n",
    "    df_availability = availability_per_hour.merge(grouped_distance_station, on=['time_basket', 'h3_hex_id', 'month', 'day'], how=\"inner\")\n",
    "\n",
    "    # final dataframe to predict the demand per hexagon, ... \n",
    "    # adding new boolean column \"weekend\"    \n",
    "    df_availability[\"weekend\"] = df_availability[\"weekend\"].apply(lambda x : 1 if x else 0)     \n",
    "\n",
    "    # create new feature for better prediction results \n",
    "    # distances from the center of the hexagons to the CentralStation / University \n",
    "    df_availability[\"distanceToCentralStation\"] = df_availability[[\"center_x\",\"center_y\"]].apply(\n",
    "        lambda x: vincenty([x[0], x[1]], [50.731944, 7.096944]), axis=1)\n",
    "    df_availability[\"distanceToUniversity\"] = df_availability[[\"center_x\",\"center_y\"]].apply(\n",
    "        lambda x: vincenty([x[0], x[1]], [50.72682, 7.0888]), axis=1)        \n",
    "    \n",
    "    return df_availability\n",
    "    "
   ]
  },
  {
   "cell_type": "code",
   "execution_count": 21,
   "metadata": {},
   "outputs": [],
   "source": [
    "def run_DL():\n",
    "    # feature selection \n",
    "    features = [\"time_basket\", \"month\", \"center_x\", \"center_y\", \"weekend\", \n",
    "            \"distance_next_station\", \"distanceToCentralStation\", \"distanceToUniversity\"]\n",
    "    X = df_availability[features]\n",
    "    y = df_availability[[\"available_bikes\"]]\n",
    "    X_train , X_test , y_train, y_test = train_test_split(X, y, test_size = 0.3,random_state=0)\n",
    "    model = models.Sequential()\n",
    "    model.add(layers.Dense(64, activation='relu', input_shape=(X_train.shape[1],)))\n",
    "    model.add(layers.Dense(64, activation='relu'))\n",
    "    model.add(layers.Dense(32, activation='relu'))\n",
    "    model.add(layers.Dense(16, activation='relu'))\n",
    "    model.add(layers.Dense(1))\n",
    "    model.compile(optimizer='adam', loss='mse', metrics=['mae','mse'])\n",
    "    \n",
    "    model = build_model()\n",
    "\n",
    "    history = model.fit(scaler.fit_transform(X_train),y_train,epochs=100,batch_size=32,verbose=0)\n",
    "\n",
    "    pred = model.predict(scaler.fit_transform(X_train))\n",
    "    print(\"ON TRAINING DATA:\")\n",
    "    print(\"MAE \", mean_absolute_error(y_train,pred))\n",
    "    print(\"MSE \", mean_squared_error(y_train,pred))\n",
    "    print(\"R2 \", r2_score(y_train,pred))\n",
    "    print(\"\\n\")\n",
    "\n",
    "    pred = model.predict(scaler.fit_transform(X_test))\n",
    "    print(\"ON TEST DATA:\")\n",
    "    print(\"MAE \",mean_absolute_error(y_test,pred))\n",
    "    print(\"MSE \",mean_squared_error(y_test,pred))\n",
    "    print(\"R2 \",r2_score(y_test,pred))"
   ]
  },
  {
   "cell_type": "markdown",
   "metadata": {},
   "source": [
    "## Deep Learning with ... \n",
    "* Hexagon resolution = 5 "
   ]
  },
  {
   "cell_type": "code",
   "execution_count": null,
   "metadata": {},
   "outputs": [],
   "source": [
    "# period length = 1\n",
    "df_availability = prepareAvailabilityData(hex_resolution=5,periodLength=1,df=availability_data)\n",
    "\n",
    "run_DL()"
   ]
  },
  {
   "cell_type": "code",
   "execution_count": 63,
   "metadata": {},
   "outputs": [
    {
     "name": "stdout",
     "output_type": "stream",
     "text": [
      "ON TRAINING DATA \n",
      " R2:  0.96 \n",
      " MAE:  20.37 \n",
      " MSE:  1128.11 \n",
      " RMSE:  33.59\n",
      "ON TEST DATA \n",
      " R2:  0.97 \n",
      " MAE:  20.26 \n",
      " MSE:  1070.67 \n",
      " RMSE:  32.72\n"
     ]
    }
   ],
   "source": [
    "# period length = 2\n",
    "df_availability = prepareAvailabilityData(hex_resolution=5,periodLength=2,df=availability_data)\n",
    "\n",
    "run_DL( )"
   ]
  },
  {
   "cell_type": "code",
   "execution_count": 64,
   "metadata": {},
   "outputs": [
    {
     "name": "stdout",
     "output_type": "stream",
     "text": [
      "ON TRAINING DATA \n",
      " R2:  0.97 \n",
      " MAE:  18.89 \n",
      " MSE:  1055.80 \n",
      " RMSE:  32.49\n",
      "ON TEST DATA \n",
      " R2:  0.97 \n",
      " MAE:  19.13 \n",
      " MSE:  1055.45 \n",
      " RMSE:  32.49\n"
     ]
    }
   ],
   "source": [
    "# period length = 6\n",
    "df_availability = prepareAvailabilityData(hex_resolution=5,periodLength=6,df=availability_data)\n",
    "\n",
    "run_DL( )"
   ]
  },
  {
   "cell_type": "code",
   "execution_count": 65,
   "metadata": {},
   "outputs": [
    {
     "name": "stdout",
     "output_type": "stream",
     "text": [
      "ON TRAINING DATA \n",
      " R2:  0.97 \n",
      " MAE:  18.32 \n",
      " MSE:  1004.20 \n",
      " RMSE:  31.69\n",
      "ON TEST DATA \n",
      " R2:  0.97 \n",
      " MAE:  18.60 \n",
      " MSE:  1021.51 \n",
      " RMSE:  31.96\n"
     ]
    }
   ],
   "source": [
    "# period length = 24\n",
    "df_availability = prepareAvailabilityData(hex_resolution=5,periodLength=24,df=availability_data)\n",
    "\n",
    "run_DL( )"
   ]
  },
  {
   "cell_type": "markdown",
   "metadata": {},
   "source": [
    "## Deep Learning with... \n",
    "* Hexagon resolution = 6 "
   ]
  },
  {
   "cell_type": "code",
   "execution_count": 66,
   "metadata": {},
   "outputs": [
    {
     "name": "stdout",
     "output_type": "stream",
     "text": [
      "ON TRAINING DATA \n",
      " R2:  0.90 \n",
      " MAE:  33.69 \n",
      " MSE:  4964.77 \n",
      " RMSE:  70.46\n",
      "ON TEST DATA \n",
      " R2:  0.90 \n",
      " MAE:  34.27 \n",
      " MSE:  5062.42 \n",
      " RMSE:  71.15\n"
     ]
    }
   ],
   "source": [
    "# period length = 1\n",
    "df_availability = prepareAvailabilityData(hex_resolution=6,periodLength=1,df=availability_data)\n",
    "\n",
    "run_DL( )"
   ]
  },
  {
   "cell_type": "code",
   "execution_count": 67,
   "metadata": {},
   "outputs": [
    {
     "name": "stdout",
     "output_type": "stream",
     "text": [
      "ON TRAINING DATA \n",
      " R2:  0.92 \n",
      " MAE:  32.00 \n",
      " MSE:  3641.39 \n",
      " RMSE:  60.34\n",
      "ON TEST DATA \n",
      " R2:  0.92 \n",
      " MAE:  32.27 \n",
      " MSE:  3664.08 \n",
      " RMSE:  60.53\n"
     ]
    }
   ],
   "source": [
    "# period length = 2\n",
    "df_availability = prepareAvailabilityData(hex_resolution=6,periodLength=2,df=availability_data)\n",
    "\n",
    "run_DL( )"
   ]
  },
  {
   "cell_type": "code",
   "execution_count": 68,
   "metadata": {
    "scrolled": true
   },
   "outputs": [
    {
     "name": "stdout",
     "output_type": "stream",
     "text": [
      "ON TRAINING DATA \n",
      " R2:  0.94 \n",
      " MAE:  30.18 \n",
      " MSE:  2827.87 \n",
      " RMSE:  53.18\n",
      "ON TEST DATA \n",
      " R2:  0.93 \n",
      " MAE:  30.89 \n",
      " MSE:  3007.18 \n",
      " RMSE:  54.84\n"
     ]
    }
   ],
   "source": [
    "# period length = 6\n",
    "df_availability = prepareAvailabilityData(hex_resolution=6,periodLength=6,df=availability_data)\n",
    "\n",
    "run_DL( )"
   ]
  },
  {
   "cell_type": "code",
   "execution_count": 69,
   "metadata": {},
   "outputs": [
    {
     "name": "stdout",
     "output_type": "stream",
     "text": [
      "ON TRAINING DATA \n",
      " R2:  0.96 \n",
      " MAE:  25.65 \n",
      " MSE:  1887.36 \n",
      " RMSE:  43.44\n",
      "ON TEST DATA \n",
      " R2:  0.96 \n",
      " MAE:  26.27 \n",
      " MSE:  1973.66 \n",
      " RMSE:  44.43\n"
     ]
    }
   ],
   "source": [
    "# period length = 24\n",
    "df_availability = prepareAvailabilityData(hex_resolution=6,periodLength=24,df=availability_data)\n",
    "\n",
    "run_DL()"
   ]
  },
  {
   "cell_type": "markdown",
   "metadata": {},
   "source": [
    "## Deep Learning with... \n",
    "* Hexagon resolution = 7"
   ]
  },
  {
   "cell_type": "code",
   "execution_count": 70,
   "metadata": {},
   "outputs": [
    {
     "name": "stdout",
     "output_type": "stream",
     "text": [
      "ON TRAINING DATA \n",
      " R2:  0.78 \n",
      " MAE:  46.51 \n",
      " MSE:  12443.27 \n",
      " RMSE:  111.55\n",
      "ON TEST DATA \n",
      " R2:  0.78 \n",
      " MAE:  46.75 \n",
      " MSE:  12618.79 \n",
      " RMSE:  112.33\n"
     ]
    }
   ],
   "source": [
    "# period length = 1\n",
    "df_availability = prepareAvailabilityData(hex_resolution=7,periodLength=1,df=availability_data)\n",
    "\n",
    "run_DL()"
   ]
  },
  {
   "cell_type": "code",
   "execution_count": 71,
   "metadata": {},
   "outputs": [
    {
     "name": "stdout",
     "output_type": "stream",
     "text": [
      "ON TRAINING DATA \n",
      " R2:  0.77 \n",
      " MAE:  43.10 \n",
      " MSE:  11259.06 \n",
      " RMSE:  106.11\n",
      "ON TEST DATA \n",
      " R2:  0.77 \n",
      " MAE:  43.30 \n",
      " MSE:  11230.00 \n",
      " RMSE:  105.97\n"
     ]
    }
   ],
   "source": [
    "# period length = 2\n",
    "df_availability = prepareAvailabilityData(hex_resolution=7,periodLength=2,df=availability_data)\n",
    "\n",
    "run_DL()"
   ]
  },
  {
   "cell_type": "code",
   "execution_count": 72,
   "metadata": {},
   "outputs": [
    {
     "name": "stdout",
     "output_type": "stream",
     "text": [
      "ON TRAINING DATA \n",
      " R2:  0.75 \n",
      " MAE:  39.24 \n",
      " MSE:  10384.16 \n",
      " RMSE:  101.90\n",
      "ON TEST DATA \n",
      " R2:  0.75 \n",
      " MAE:  39.38 \n",
      " MSE:  10402.58 \n",
      " RMSE:  101.99\n"
     ]
    }
   ],
   "source": [
    "# period length = 6\n",
    "df_availability = prepareAvailabilityData(hex_resolution=7,periodLength=6,df=availability_data)\n",
    "\n",
    "run_DL()"
   ]
  },
  {
   "cell_type": "code",
   "execution_count": 73,
   "metadata": {},
   "outputs": [
    {
     "name": "stdout",
     "output_type": "stream",
     "text": [
      "ON TRAINING DATA \n",
      " R2:  0.76 \n",
      " MAE:  36.56 \n",
      " MSE:  9244.13 \n",
      " RMSE:  96.15\n",
      "ON TEST DATA \n",
      " R2:  0.76 \n",
      " MAE:  36.35 \n",
      " MSE:  9164.50 \n",
      " RMSE:  95.73\n"
     ]
    }
   ],
   "source": [
    "# period length = 24\n",
    "df_availability = prepareAvailabilityData(hex_resolution=7,periodLength=24,df=availability_data)\n",
    "\n",
    "run_DL()"
   ]
  },
  {
   "cell_type": "markdown",
   "metadata": {},
   "source": [
    "## Deep Learning with...\n",
    "* Hexagon resolution = 8"
   ]
  },
  {
   "cell_type": "code",
   "execution_count": 11,
   "metadata": {},
   "outputs": [
    {
     "name": "stdout",
     "output_type": "stream",
     "text": [
      "ON TRAINING DATA \n",
      " R2:  0.22 \n",
      " MAE:  34.53 \n",
      " MSE:  6441.80 \n",
      " RMSE:  80.26\n",
      "ON TEST DATA \n",
      " R2:  0.22 \n",
      " MAE:  34.72 \n",
      " MSE:  6428.19 \n",
      " RMSE:  80.18\n"
     ]
    }
   ],
   "source": [
    "# period length = 1\n",
    "df_availability = prepareAvailabilityData(hex_resolution=8,periodLength=1,df=availability_data)\n",
    "\n",
    "run_DL()"
   ]
  },
  {
   "cell_type": "code",
   "execution_count": null,
   "metadata": {},
   "outputs": [],
   "source": [
    "# period length = 2\n",
    "df_availability = prepareAvailabilityData(hex_resolution=8,periodLength=2,df=availability_data)\n",
    "\n",
    "run_DL()"
   ]
  },
  {
   "cell_type": "code",
   "execution_count": null,
   "metadata": {},
   "outputs": [],
   "source": [
    "# period length = 6\n",
    "df_availability = prepareAvailabilityData(hex_resolution=8,periodLength=6,df=availability_data)\n",
    "\n",
    "run_DL()"
   ]
  },
  {
   "cell_type": "code",
   "execution_count": null,
   "metadata": {},
   "outputs": [],
   "source": [
    "# period length = 24\n",
    "df_availability = prepareAvailabilityData(hex_resolution=8,periodLength=24,df=availability_data)\n",
    "\n",
    "run_DL()"
   ]
  },
  {
   "cell_type": "markdown",
   "metadata": {},
   "source": [
    "## Deep Learning with...\n",
    "* Hexagon resolution = 9"
   ]
  },
  {
   "cell_type": "code",
   "execution_count": null,
   "metadata": {},
   "outputs": [],
   "source": [
    "# period length = 1\n",
    "df_availability = prepareAvailabilityData(hex_resolution=9,periodLength=1,df=availability_data)\n",
    "\n",
    "run_DL()"
   ]
  },
  {
   "cell_type": "code",
   "execution_count": null,
   "metadata": {},
   "outputs": [],
   "source": [
    "# period length = 2\n",
    "df_availability = prepareAvailabilityData(hex_resolution=9,periodLength=2,df=availability_data)\n",
    "\n",
    "run_DL()"
   ]
  },
  {
   "cell_type": "code",
   "execution_count": null,
   "metadata": {},
   "outputs": [],
   "source": [
    "# period length = 6\n",
    "df_availability = prepareAvailabilityData(hex_resolution=9,periodLength=6,df=availability_data)\n",
    "\n",
    "run_DL()"
   ]
  },
  {
   "cell_type": "code",
   "execution_count": null,
   "metadata": {},
   "outputs": [],
   "source": [
    "# period length = 24\n",
    "df_availability = prepareAvailabilityData(hex_resolution=9,periodLength=24,df=availability_data)\n",
    "\n",
    "run_DL()"
   ]
  },
  {
   "cell_type": "code",
   "execution_count": null,
   "metadata": {},
   "outputs": [],
   "source": []
  },
  {
   "cell_type": "code",
   "execution_count": null,
   "metadata": {},
   "outputs": [],
   "source": []
  }
 ],
 "metadata": {
  "kernelspec": {
   "display_name": "Python 3",
   "language": "python",
   "name": "python3"
  },
  "language_info": {
   "codemirror_mode": {
    "name": "ipython",
    "version": 3
   },
   "file_extension": ".py",
   "mimetype": "text/x-python",
   "name": "python",
   "nbconvert_exporter": "python",
   "pygments_lexer": "ipython3",
   "version": "3.7.6"
  }
 },
 "nbformat": 4,
 "nbformat_minor": 4
}
